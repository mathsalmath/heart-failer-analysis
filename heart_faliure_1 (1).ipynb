{
  "nbformat": 4,
  "nbformat_minor": 0,
  "metadata": {
    "colab": {
      "name": "heart_faliure_1.ipynb",
      "provenance": [],
      "collapsed_sections": []
    },
    "kernelspec": {
      "name": "python3",
      "display_name": "Python 3"
    }
  },
  "cells": [
    {
      "cell_type": "code",
      "metadata": {
        "id": "Zzdb6HZn1NzE"
      },
      "source": [
        "from google.colab import auth\n",
        "auth.authenticate_user()\n",
        "import gspread\n",
        "from oauth2client.client import GoogleCredentials\n",
        "gc = gspread.authorize(GoogleCredentials.get_application_default())"
      ],
      "execution_count": null,
      "outputs": []
    },
    {
      "cell_type": "code",
      "metadata": {
        "id": "Xx5rAq641Xl5"
      },
      "source": [
        "import pandas as pd\n",
        "import matplotlib.pyplot as plt\n",
        "import matplotlib.pyplot as plt\n",
        "%matplotlib inline\n",
        "import seaborn as sns\n",
        "import plotly.express as px\n",
        "#gc = gspread.gspread"
      ],
      "execution_count": null,
      "outputs": []
    },
    {
      "cell_type": "code",
      "metadata": {
        "id": "EZcdHPH71X0r"
      },
      "source": [
        "wb = gc.open_by_url('https://docs.google.com/spreadsheets/d/1SfUKoWzt6MwphkrZ1zpiD_JdOcIBrOxp8552SMYMlQw/edit#gid=1455036245')\n"
      ],
      "execution_count": null,
      "outputs": []
    },
    {
      "cell_type": "code",
      "metadata": {
        "id": "Pz62fAfT1YDG"
      },
      "source": [
        "sheet = wb.worksheet('heart_failure_clinical_records_dataset')"
      ],
      "execution_count": null,
      "outputs": []
    },
    {
      "cell_type": "code",
      "metadata": {
        "id": "A7K3TCRs1wKZ"
      },
      "source": [
        "data = sheet.get_all_values()"
      ],
      "execution_count": null,
      "outputs": []
    },
    {
      "cell_type": "code",
      "metadata": {
        "id": "bJ2Z1OdD12P9"
      },
      "source": [
        "df = pd.DataFrame(data)\n",
        "df.columns = df.iloc[0]\n",
        "df = df.iloc[1:]"
      ],
      "execution_count": null,
      "outputs": []
    },
    {
      "cell_type": "code",
      "metadata": {
        "colab": {
          "base_uri": "https://localhost:8080/",
          "height": 166
        },
        "id": "HjLBeTLU165f",
        "outputId": "ded95b20-316d-4d99-89cc-8961b66b2e61"
      },
      "source": [
        "df.head(4)"
      ],
      "execution_count": null,
      "outputs": [
        {
          "output_type": "execute_result",
          "data": {
            "text/html": [
              "<div>\n",
              "<style scoped>\n",
              "    .dataframe tbody tr th:only-of-type {\n",
              "        vertical-align: middle;\n",
              "    }\n",
              "\n",
              "    .dataframe tbody tr th {\n",
              "        vertical-align: top;\n",
              "    }\n",
              "\n",
              "    .dataframe thead th {\n",
              "        text-align: right;\n",
              "    }\n",
              "</style>\n",
              "<table border=\"1\" class=\"dataframe\">\n",
              "  <thead>\n",
              "    <tr style=\"text-align: right;\">\n",
              "      <th></th>\n",
              "      <th>age</th>\n",
              "      <th>anaemia</th>\n",
              "      <th>creatinine_phosphokinase</th>\n",
              "      <th>diabetes</th>\n",
              "      <th>ejection_fraction</th>\n",
              "      <th>high_blood_pressure</th>\n",
              "      <th>platelets</th>\n",
              "      <th>serum_creatinine</th>\n",
              "      <th>serum_sodium</th>\n",
              "      <th>sex</th>\n",
              "      <th>smoking</th>\n",
              "      <th>time</th>\n",
              "      <th>DEATH_EVENT</th>\n",
              "    </tr>\n",
              "  </thead>\n",
              "  <tbody>\n",
              "    <tr>\n",
              "      <th>1</th>\n",
              "      <td>75</td>\n",
              "      <td>0</td>\n",
              "      <td>582</td>\n",
              "      <td>0</td>\n",
              "      <td>20</td>\n",
              "      <td>1</td>\n",
              "      <td>265000</td>\n",
              "      <td>1.9</td>\n",
              "      <td>130</td>\n",
              "      <td>1</td>\n",
              "      <td>0</td>\n",
              "      <td>4</td>\n",
              "      <td>1</td>\n",
              "    </tr>\n",
              "    <tr>\n",
              "      <th>2</th>\n",
              "      <td>55</td>\n",
              "      <td>0</td>\n",
              "      <td>7861</td>\n",
              "      <td>0</td>\n",
              "      <td>38</td>\n",
              "      <td>0</td>\n",
              "      <td>263358.03</td>\n",
              "      <td>1.1</td>\n",
              "      <td>136</td>\n",
              "      <td>1</td>\n",
              "      <td>0</td>\n",
              "      <td>6</td>\n",
              "      <td>1</td>\n",
              "    </tr>\n",
              "    <tr>\n",
              "      <th>3</th>\n",
              "      <td>65</td>\n",
              "      <td>0</td>\n",
              "      <td>146</td>\n",
              "      <td>0</td>\n",
              "      <td>20</td>\n",
              "      <td>0</td>\n",
              "      <td>162000</td>\n",
              "      <td>1.3</td>\n",
              "      <td>129</td>\n",
              "      <td>1</td>\n",
              "      <td>1</td>\n",
              "      <td>7</td>\n",
              "      <td>1</td>\n",
              "    </tr>\n",
              "    <tr>\n",
              "      <th>4</th>\n",
              "      <td>50</td>\n",
              "      <td>1</td>\n",
              "      <td>111</td>\n",
              "      <td>0</td>\n",
              "      <td>20</td>\n",
              "      <td>0</td>\n",
              "      <td>210000</td>\n",
              "      <td>1.9</td>\n",
              "      <td>137</td>\n",
              "      <td>1</td>\n",
              "      <td>0</td>\n",
              "      <td>7</td>\n",
              "      <td>1</td>\n",
              "    </tr>\n",
              "  </tbody>\n",
              "</table>\n",
              "</div>"
            ],
            "text/plain": [
              "0 age anaemia creatinine_phosphokinase diabetes  ... sex smoking time DEATH_EVENT\n",
              "1  75       0                      582        0  ...   1       0    4           1\n",
              "2  55       0                     7861        0  ...   1       0    6           1\n",
              "3  65       0                      146        0  ...   1       1    7           1\n",
              "4  50       1                      111        0  ...   1       0    7           1\n",
              "\n",
              "[4 rows x 13 columns]"
            ]
          },
          "metadata": {
            "tags": []
          },
          "execution_count": 7
        }
      ]
    },
    {
      "cell_type": "markdown",
      "metadata": {
        "id": "TnmN0bxm6U1A"
      },
      "source": [
        "#high blood pressure in each gender"
      ]
    },
    {
      "cell_type": "code",
      "metadata": {
        "colab": {
          "base_uri": "https://localhost:8080/"
        },
        "id": "LZbn4GrB18ab",
        "outputId": "db84ad02-672f-4ad8-c850-fe4845b41841"
      },
      "source": [
        "df.groupby('sex')['high_blood_pressure'].value_counts()"
      ],
      "execution_count": null,
      "outputs": [
        {
          "output_type": "execute_result",
          "data": {
            "text/plain": [
              "sex  high_blood_pressure\n",
              "0    0                       61\n",
              "     1                       44\n",
              "1    0                      133\n",
              "     1                       61\n",
              "Name: high_blood_pressure, dtype: int64"
            ]
          },
          "metadata": {
            "tags": []
          },
          "execution_count": 13
        }
      ]
    },
    {
      "cell_type": "markdown",
      "metadata": {
        "id": "pHflE5sj7wa1"
      },
      "source": [
        "#"
      ]
    },
    {
      "cell_type": "markdown",
      "metadata": {
        "id": "4UmiH2R38hDy"
      },
      "source": [
        "#How many male/female have high blood pressure"
      ]
    },
    {
      "cell_type": "code",
      "metadata": {
        "colab": {
          "base_uri": "https://localhost:8080/",
          "height": 542
        },
        "id": "aKWpBcr57qz9",
        "outputId": "fcb9abc3-7ed1-409a-fa2c-a2d7eed945e7"
      },
      "source": [
        "px.histogram(df, x = 'sex', y ='high_blood_pressure', color = 'sex', title=\"High Blood Pressure by Gender\", template='plotly_dark')"
      ],
      "execution_count": null,
      "outputs": [
        {
          "output_type": "display_data",
          "data": {
            "text/html": [
              "<html>\n",
              "<head><meta charset=\"utf-8\" /></head>\n",
              "<body>\n",
              "    <div>\n",
              "            <script src=\"https://cdnjs.cloudflare.com/ajax/libs/mathjax/2.7.5/MathJax.js?config=TeX-AMS-MML_SVG\"></script><script type=\"text/javascript\">if (window.MathJax) {MathJax.Hub.Config({SVG: {font: \"STIX-Web\"}});}</script>\n",
              "                <script type=\"text/javascript\">window.PlotlyConfig = {MathJaxConfig: 'local'};</script>\n",
              "        <script src=\"https://cdn.plot.ly/plotly-latest.min.js\"></script>    \n",
              "            <div id=\"e2e06012-2956-4ab4-98c2-a3f9f17283dc\" class=\"plotly-graph-div\" style=\"height:525px; width:100%;\"></div>\n",
              "            <script type=\"text/javascript\">\n",
              "                \n",
              "                    window.PLOTLYENV=window.PLOTLYENV || {};\n",
              "                    \n",
              "                if (document.getElementById(\"e2e06012-2956-4ab4-98c2-a3f9f17283dc\")) {\n",
              "                    Plotly.newPlot(\n",
              "                        'e2e06012-2956-4ab4-98c2-a3f9f17283dc',\n",
              "                        [{\"alignmentgroup\": \"True\", \"bingroup\": \"x\", \"hoverlabel\": {\"namelength\": 0}, \"hovertemplate\": \"sex=%{x}<br>count of high_blood_pressure=%{y}\", \"legendgroup\": \"sex=1\", \"marker\": {\"color\": \"#636efa\"}, \"name\": \"sex=1\", \"offsetgroup\": \"sex=1\", \"orientation\": \"v\", \"showlegend\": true, \"type\": \"histogram\", \"x\": [\"1\", \"1\", \"1\", \"1\", \"1\", \"1\", \"1\", \"1\", \"1\", \"1\", \"1\", \"1\", \"1\", \"1\", \"1\", \"1\", \"1\", \"1\", \"1\", \"1\", \"1\", \"1\", \"1\", \"1\", \"1\", \"1\", \"1\", \"1\", \"1\", \"1\", \"1\", \"1\", \"1\", \"1\", \"1\", \"1\", \"1\", \"1\", \"1\", \"1\", \"1\", \"1\", \"1\", \"1\", \"1\", \"1\", \"1\", \"1\", \"1\", \"1\", \"1\", \"1\", \"1\", \"1\", \"1\", \"1\", \"1\", \"1\", \"1\", \"1\", \"1\", \"1\", \"1\", \"1\", \"1\", \"1\", \"1\", \"1\", \"1\", \"1\", \"1\", \"1\", \"1\", \"1\", \"1\", \"1\", \"1\", \"1\", \"1\", \"1\", \"1\", \"1\", \"1\", \"1\", \"1\", \"1\", \"1\", \"1\", \"1\", \"1\", \"1\", \"1\", \"1\", \"1\", \"1\", \"1\", \"1\", \"1\", \"1\", \"1\", \"1\", \"1\", \"1\", \"1\", \"1\", \"1\", \"1\", \"1\", \"1\", \"1\", \"1\", \"1\", \"1\", \"1\", \"1\", \"1\", \"1\", \"1\", \"1\", \"1\", \"1\", \"1\", \"1\", \"1\", \"1\", \"1\", \"1\", \"1\", \"1\", \"1\", \"1\", \"1\", \"1\", \"1\", \"1\", \"1\", \"1\", \"1\", \"1\", \"1\", \"1\", \"1\", \"1\", \"1\", \"1\", \"1\", \"1\", \"1\", \"1\", \"1\", \"1\", \"1\", \"1\", \"1\", \"1\", \"1\", \"1\", \"1\", \"1\", \"1\", \"1\", \"1\", \"1\", \"1\", \"1\", \"1\", \"1\", \"1\", \"1\", \"1\", \"1\", \"1\", \"1\", \"1\", \"1\", \"1\", \"1\", \"1\", \"1\", \"1\", \"1\", \"1\", \"1\", \"1\", \"1\", \"1\", \"1\", \"1\", \"1\", \"1\", \"1\", \"1\", \"1\", \"1\"], \"xaxis\": \"x\", \"y\": [\"1\", \"0\", \"0\", \"0\", \"1\", \"0\", \"0\", \"1\", \"1\", \"1\", \"0\", \"1\", \"0\", \"0\", \"0\", \"1\", \"0\", \"0\", \"1\", \"0\", \"0\", \"1\", \"0\", \"1\", \"0\", \"0\", \"0\", \"1\", \"1\", \"1\", \"0\", \"1\", \"1\", \"1\", \"1\", \"0\", \"0\", \"0\", \"1\", \"1\", \"1\", \"0\", \"0\", \"0\", \"0\", \"0\", \"0\", \"0\", \"0\", \"0\", \"0\", \"0\", \"0\", \"1\", \"0\", \"1\", \"0\", \"1\", \"1\", \"1\", \"1\", \"0\", \"0\", \"0\", \"1\", \"1\", \"0\", \"1\", \"0\", \"0\", \"0\", \"0\", \"0\", \"0\", \"0\", \"0\", \"0\", \"1\", \"1\", \"0\", \"1\", \"0\", \"1\", \"0\", \"1\", \"0\", \"0\", \"0\", \"1\", \"0\", \"1\", \"0\", \"0\", \"0\", \"0\", \"1\", \"1\", \"1\", \"0\", \"0\", \"0\", \"0\", \"1\", \"1\", \"0\", \"0\", \"0\", \"0\", \"0\", \"0\", \"0\", \"1\", \"0\", \"1\", \"0\", \"0\", \"0\", \"0\", \"0\", \"0\", \"0\", \"1\", \"0\", \"0\", \"0\", \"0\", \"0\", \"1\", \"0\", \"0\", \"0\", \"1\", \"1\", \"1\", \"0\", \"0\", \"1\", \"1\", \"0\", \"1\", \"1\", \"0\", \"0\", \"0\", \"0\", \"0\", \"0\", \"0\", \"1\", \"0\", \"0\", \"0\", \"0\", \"1\", \"1\", \"0\", \"0\", \"0\", \"0\", \"0\", \"0\", \"0\", \"0\", \"0\", \"1\", \"1\", \"1\", \"1\", \"0\", \"0\", \"0\", \"0\", \"0\", \"0\", \"0\", \"0\", \"0\", \"1\", \"0\", \"0\", \"0\", \"0\", \"0\", \"0\", \"0\", \"0\", \"0\", \"0\", \"0\", \"0\", \"0\", \"1\", \"0\", \"0\"], \"yaxis\": \"y\"}, {\"alignmentgroup\": \"True\", \"bingroup\": \"x\", \"hoverlabel\": {\"namelength\": 0}, \"hovertemplate\": \"sex=%{x}<br>count of high_blood_pressure=%{y}\", \"legendgroup\": \"sex=0\", \"marker\": {\"color\": \"#EF553B\"}, \"name\": \"sex=0\", \"offsetgroup\": \"sex=0\", \"orientation\": \"v\", \"showlegend\": true, \"type\": \"histogram\", \"x\": [\"0\", \"0\", \"0\", \"0\", \"0\", \"0\", \"0\", \"0\", \"0\", \"0\", \"0\", \"0\", \"0\", \"0\", \"0\", \"0\", \"0\", \"0\", \"0\", \"0\", \"0\", \"0\", \"0\", \"0\", \"0\", \"0\", \"0\", \"0\", \"0\", \"0\", \"0\", \"0\", \"0\", \"0\", \"0\", \"0\", \"0\", \"0\", \"0\", \"0\", \"0\", \"0\", \"0\", \"0\", \"0\", \"0\", \"0\", \"0\", \"0\", \"0\", \"0\", \"0\", \"0\", \"0\", \"0\", \"0\", \"0\", \"0\", \"0\", \"0\", \"0\", \"0\", \"0\", \"0\", \"0\", \"0\", \"0\", \"0\", \"0\", \"0\", \"0\", \"0\", \"0\", \"0\", \"0\", \"0\", \"0\", \"0\", \"0\", \"0\", \"0\", \"0\", \"0\", \"0\", \"0\", \"0\", \"0\", \"0\", \"0\", \"0\", \"0\", \"0\", \"0\", \"0\", \"0\", \"0\", \"0\", \"0\", \"0\", \"0\", \"0\", \"0\", \"0\", \"0\", \"0\"], \"xaxis\": \"x\", \"y\": [\"0\", \"0\", \"1\", \"1\", \"0\", \"1\", \"1\", \"1\", \"1\", \"1\", \"0\", \"1\", \"0\", \"1\", \"0\", \"0\", \"1\", \"0\", \"1\", \"0\", \"1\", \"0\", \"0\", \"0\", \"1\", \"1\", \"0\", \"0\", \"1\", \"0\", \"1\", \"0\", \"1\", \"0\", \"1\", \"1\", \"0\", \"0\", \"1\", \"0\", \"1\", \"0\", \"1\", \"0\", \"1\", \"0\", \"1\", \"0\", \"1\", \"0\", \"0\", \"0\", \"0\", \"1\", \"1\", \"1\", \"0\", \"0\", \"1\", \"0\", \"1\", \"0\", \"0\", \"0\", \"1\", \"1\", \"0\", \"1\", \"0\", \"1\", \"0\", \"0\", \"0\", \"1\", \"1\", \"1\", \"1\", \"1\", \"0\", \"0\", \"0\", \"0\", \"0\", \"1\", \"1\", \"0\", \"1\", \"0\", \"1\", \"0\", \"0\", \"0\", \"0\", \"0\", \"0\", \"1\", \"0\", \"0\", \"0\", \"0\", \"0\", \"0\", \"0\", \"0\", \"0\"], \"yaxis\": \"y\"}],\n",
              "                        {\"barmode\": \"relative\", \"legend\": {\"tracegroupgap\": 0}, \"template\": {\"data\": {\"bar\": [{\"error_x\": {\"color\": \"#f2f5fa\"}, \"error_y\": {\"color\": \"#f2f5fa\"}, \"marker\": {\"line\": {\"color\": \"rgb(17,17,17)\", \"width\": 0.5}}, \"type\": \"bar\"}], \"barpolar\": [{\"marker\": {\"line\": {\"color\": \"rgb(17,17,17)\", \"width\": 0.5}}, \"type\": \"barpolar\"}], \"carpet\": [{\"aaxis\": {\"endlinecolor\": \"#A2B1C6\", \"gridcolor\": \"#506784\", \"linecolor\": \"#506784\", \"minorgridcolor\": \"#506784\", \"startlinecolor\": \"#A2B1C6\"}, \"baxis\": {\"endlinecolor\": \"#A2B1C6\", \"gridcolor\": \"#506784\", \"linecolor\": \"#506784\", \"minorgridcolor\": \"#506784\", \"startlinecolor\": \"#A2B1C6\"}, \"type\": \"carpet\"}], \"choropleth\": [{\"colorbar\": {\"outlinewidth\": 0, \"ticks\": \"\"}, \"type\": \"choropleth\"}], \"contour\": [{\"colorbar\": {\"outlinewidth\": 0, \"ticks\": \"\"}, \"colorscale\": [[0.0, \"#0d0887\"], [0.1111111111111111, \"#46039f\"], [0.2222222222222222, \"#7201a8\"], [0.3333333333333333, \"#9c179e\"], [0.4444444444444444, \"#bd3786\"], [0.5555555555555556, \"#d8576b\"], [0.6666666666666666, \"#ed7953\"], [0.7777777777777778, \"#fb9f3a\"], [0.8888888888888888, \"#fdca26\"], [1.0, \"#f0f921\"]], \"type\": \"contour\"}], \"contourcarpet\": [{\"colorbar\": {\"outlinewidth\": 0, \"ticks\": \"\"}, \"type\": \"contourcarpet\"}], \"heatmap\": [{\"colorbar\": {\"outlinewidth\": 0, \"ticks\": \"\"}, \"colorscale\": [[0.0, \"#0d0887\"], [0.1111111111111111, \"#46039f\"], [0.2222222222222222, \"#7201a8\"], [0.3333333333333333, \"#9c179e\"], [0.4444444444444444, \"#bd3786\"], [0.5555555555555556, \"#d8576b\"], [0.6666666666666666, \"#ed7953\"], [0.7777777777777778, \"#fb9f3a\"], [0.8888888888888888, \"#fdca26\"], [1.0, \"#f0f921\"]], \"type\": \"heatmap\"}], \"heatmapgl\": [{\"colorbar\": {\"outlinewidth\": 0, \"ticks\": \"\"}, \"colorscale\": [[0.0, \"#0d0887\"], [0.1111111111111111, \"#46039f\"], [0.2222222222222222, \"#7201a8\"], [0.3333333333333333, \"#9c179e\"], [0.4444444444444444, \"#bd3786\"], [0.5555555555555556, \"#d8576b\"], [0.6666666666666666, \"#ed7953\"], [0.7777777777777778, \"#fb9f3a\"], [0.8888888888888888, \"#fdca26\"], [1.0, \"#f0f921\"]], \"type\": \"heatmapgl\"}], \"histogram\": [{\"marker\": {\"colorbar\": {\"outlinewidth\": 0, \"ticks\": \"\"}}, \"type\": \"histogram\"}], \"histogram2d\": [{\"colorbar\": {\"outlinewidth\": 0, \"ticks\": \"\"}, \"colorscale\": [[0.0, \"#0d0887\"], [0.1111111111111111, \"#46039f\"], [0.2222222222222222, \"#7201a8\"], [0.3333333333333333, \"#9c179e\"], [0.4444444444444444, \"#bd3786\"], [0.5555555555555556, \"#d8576b\"], [0.6666666666666666, \"#ed7953\"], [0.7777777777777778, \"#fb9f3a\"], [0.8888888888888888, \"#fdca26\"], [1.0, \"#f0f921\"]], \"type\": \"histogram2d\"}], \"histogram2dcontour\": [{\"colorbar\": {\"outlinewidth\": 0, \"ticks\": \"\"}, \"colorscale\": [[0.0, \"#0d0887\"], [0.1111111111111111, \"#46039f\"], [0.2222222222222222, \"#7201a8\"], [0.3333333333333333, \"#9c179e\"], [0.4444444444444444, \"#bd3786\"], [0.5555555555555556, \"#d8576b\"], [0.6666666666666666, \"#ed7953\"], [0.7777777777777778, \"#fb9f3a\"], [0.8888888888888888, \"#fdca26\"], [1.0, \"#f0f921\"]], \"type\": \"histogram2dcontour\"}], \"mesh3d\": [{\"colorbar\": {\"outlinewidth\": 0, \"ticks\": \"\"}, \"type\": \"mesh3d\"}], \"parcoords\": [{\"line\": {\"colorbar\": {\"outlinewidth\": 0, \"ticks\": \"\"}}, \"type\": \"parcoords\"}], \"pie\": [{\"automargin\": true, \"type\": \"pie\"}], \"scatter\": [{\"marker\": {\"line\": {\"color\": \"#283442\"}}, \"type\": \"scatter\"}], \"scatter3d\": [{\"line\": {\"colorbar\": {\"outlinewidth\": 0, \"ticks\": \"\"}}, \"marker\": {\"colorbar\": {\"outlinewidth\": 0, \"ticks\": \"\"}}, \"type\": \"scatter3d\"}], \"scattercarpet\": [{\"marker\": {\"colorbar\": {\"outlinewidth\": 0, \"ticks\": \"\"}}, \"type\": \"scattercarpet\"}], \"scattergeo\": [{\"marker\": {\"colorbar\": {\"outlinewidth\": 0, \"ticks\": \"\"}}, \"type\": \"scattergeo\"}], \"scattergl\": [{\"marker\": {\"line\": {\"color\": \"#283442\"}}, \"type\": \"scattergl\"}], \"scattermapbox\": [{\"marker\": {\"colorbar\": {\"outlinewidth\": 0, \"ticks\": \"\"}}, \"type\": \"scattermapbox\"}], \"scatterpolar\": [{\"marker\": {\"colorbar\": {\"outlinewidth\": 0, \"ticks\": \"\"}}, \"type\": \"scatterpolar\"}], \"scatterpolargl\": [{\"marker\": {\"colorbar\": {\"outlinewidth\": 0, \"ticks\": \"\"}}, \"type\": \"scatterpolargl\"}], \"scatterternary\": [{\"marker\": {\"colorbar\": {\"outlinewidth\": 0, \"ticks\": \"\"}}, \"type\": \"scatterternary\"}], \"surface\": [{\"colorbar\": {\"outlinewidth\": 0, \"ticks\": \"\"}, \"colorscale\": [[0.0, \"#0d0887\"], [0.1111111111111111, \"#46039f\"], [0.2222222222222222, \"#7201a8\"], [0.3333333333333333, \"#9c179e\"], [0.4444444444444444, \"#bd3786\"], [0.5555555555555556, \"#d8576b\"], [0.6666666666666666, \"#ed7953\"], [0.7777777777777778, \"#fb9f3a\"], [0.8888888888888888, \"#fdca26\"], [1.0, \"#f0f921\"]], \"type\": \"surface\"}], \"table\": [{\"cells\": {\"fill\": {\"color\": \"#506784\"}, \"line\": {\"color\": \"rgb(17,17,17)\"}}, \"header\": {\"fill\": {\"color\": \"#2a3f5f\"}, \"line\": {\"color\": \"rgb(17,17,17)\"}}, \"type\": \"table\"}]}, \"layout\": {\"annotationdefaults\": {\"arrowcolor\": \"#f2f5fa\", \"arrowhead\": 0, \"arrowwidth\": 1}, \"coloraxis\": {\"colorbar\": {\"outlinewidth\": 0, \"ticks\": \"\"}}, \"colorscale\": {\"diverging\": [[0, \"#8e0152\"], [0.1, \"#c51b7d\"], [0.2, \"#de77ae\"], [0.3, \"#f1b6da\"], [0.4, \"#fde0ef\"], [0.5, \"#f7f7f7\"], [0.6, \"#e6f5d0\"], [0.7, \"#b8e186\"], [0.8, \"#7fbc41\"], [0.9, \"#4d9221\"], [1, \"#276419\"]], \"sequential\": [[0.0, \"#0d0887\"], [0.1111111111111111, \"#46039f\"], [0.2222222222222222, \"#7201a8\"], [0.3333333333333333, \"#9c179e\"], [0.4444444444444444, \"#bd3786\"], [0.5555555555555556, \"#d8576b\"], [0.6666666666666666, \"#ed7953\"], [0.7777777777777778, \"#fb9f3a\"], [0.8888888888888888, \"#fdca26\"], [1.0, \"#f0f921\"]], \"sequentialminus\": [[0.0, \"#0d0887\"], [0.1111111111111111, \"#46039f\"], [0.2222222222222222, \"#7201a8\"], [0.3333333333333333, \"#9c179e\"], [0.4444444444444444, \"#bd3786\"], [0.5555555555555556, \"#d8576b\"], [0.6666666666666666, \"#ed7953\"], [0.7777777777777778, \"#fb9f3a\"], [0.8888888888888888, \"#fdca26\"], [1.0, \"#f0f921\"]]}, \"colorway\": [\"#636efa\", \"#EF553B\", \"#00cc96\", \"#ab63fa\", \"#FFA15A\", \"#19d3f3\", \"#FF6692\", \"#B6E880\", \"#FF97FF\", \"#FECB52\"], \"font\": {\"color\": \"#f2f5fa\"}, \"geo\": {\"bgcolor\": \"rgb(17,17,17)\", \"lakecolor\": \"rgb(17,17,17)\", \"landcolor\": \"rgb(17,17,17)\", \"showlakes\": true, \"showland\": true, \"subunitcolor\": \"#506784\"}, \"hoverlabel\": {\"align\": \"left\"}, \"hovermode\": \"closest\", \"mapbox\": {\"style\": \"dark\"}, \"paper_bgcolor\": \"rgb(17,17,17)\", \"plot_bgcolor\": \"rgb(17,17,17)\", \"polar\": {\"angularaxis\": {\"gridcolor\": \"#506784\", \"linecolor\": \"#506784\", \"ticks\": \"\"}, \"bgcolor\": \"rgb(17,17,17)\", \"radialaxis\": {\"gridcolor\": \"#506784\", \"linecolor\": \"#506784\", \"ticks\": \"\"}}, \"scene\": {\"xaxis\": {\"backgroundcolor\": \"rgb(17,17,17)\", \"gridcolor\": \"#506784\", \"gridwidth\": 2, \"linecolor\": \"#506784\", \"showbackground\": true, \"ticks\": \"\", \"zerolinecolor\": \"#C8D4E3\"}, \"yaxis\": {\"backgroundcolor\": \"rgb(17,17,17)\", \"gridcolor\": \"#506784\", \"gridwidth\": 2, \"linecolor\": \"#506784\", \"showbackground\": true, \"ticks\": \"\", \"zerolinecolor\": \"#C8D4E3\"}, \"zaxis\": {\"backgroundcolor\": \"rgb(17,17,17)\", \"gridcolor\": \"#506784\", \"gridwidth\": 2, \"linecolor\": \"#506784\", \"showbackground\": true, \"ticks\": \"\", \"zerolinecolor\": \"#C8D4E3\"}}, \"shapedefaults\": {\"line\": {\"color\": \"#f2f5fa\"}}, \"sliderdefaults\": {\"bgcolor\": \"#C8D4E3\", \"bordercolor\": \"rgb(17,17,17)\", \"borderwidth\": 1, \"tickwidth\": 0}, \"ternary\": {\"aaxis\": {\"gridcolor\": \"#506784\", \"linecolor\": \"#506784\", \"ticks\": \"\"}, \"baxis\": {\"gridcolor\": \"#506784\", \"linecolor\": \"#506784\", \"ticks\": \"\"}, \"bgcolor\": \"rgb(17,17,17)\", \"caxis\": {\"gridcolor\": \"#506784\", \"linecolor\": \"#506784\", \"ticks\": \"\"}}, \"title\": {\"x\": 0.05}, \"updatemenudefaults\": {\"bgcolor\": \"#506784\", \"borderwidth\": 0}, \"xaxis\": {\"automargin\": true, \"gridcolor\": \"#283442\", \"linecolor\": \"#506784\", \"ticks\": \"\", \"title\": {\"standoff\": 15}, \"zerolinecolor\": \"#283442\", \"zerolinewidth\": 2}, \"yaxis\": {\"automargin\": true, \"gridcolor\": \"#283442\", \"linecolor\": \"#506784\", \"ticks\": \"\", \"title\": {\"standoff\": 15}, \"zerolinecolor\": \"#283442\", \"zerolinewidth\": 2}}}, \"title\": {\"text\": \"High Blood Pressure by Gender\"}, \"xaxis\": {\"anchor\": \"y\", \"categoryarray\": [\"1\", \"0\"], \"categoryorder\": \"array\", \"domain\": [0.0, 1.0], \"title\": {\"text\": \"sex\"}}, \"yaxis\": {\"anchor\": \"x\", \"domain\": [0.0, 1.0], \"title\": {\"text\": \"count of high_blood_pressure\"}}},\n",
              "                        {\"responsive\": true}\n",
              "                    ).then(function(){\n",
              "                            \n",
              "var gd = document.getElementById('e2e06012-2956-4ab4-98c2-a3f9f17283dc');\n",
              "var x = new MutationObserver(function (mutations, observer) {{\n",
              "        var display = window.getComputedStyle(gd).display;\n",
              "        if (!display || display === 'none') {{\n",
              "            console.log([gd, 'removed!']);\n",
              "            Plotly.purge(gd);\n",
              "            observer.disconnect();\n",
              "        }}\n",
              "}});\n",
              "\n",
              "// Listen for the removal of the full notebook cells\n",
              "var notebookContainer = gd.closest('#notebook-container');\n",
              "if (notebookContainer) {{\n",
              "    x.observe(notebookContainer, {childList: true});\n",
              "}}\n",
              "\n",
              "// Listen for the clearing of the current output cell\n",
              "var outputEl = gd.closest('.output');\n",
              "if (outputEl) {{\n",
              "    x.observe(outputEl, {childList: true});\n",
              "}}\n",
              "\n",
              "                        })\n",
              "                };\n",
              "                \n",
              "            </script>\n",
              "        </div>\n",
              "</body>\n",
              "</html>"
            ]
          },
          "metadata": {
            "tags": []
          }
        }
      ]
    },
    {
      "cell_type": "markdown",
      "metadata": {
        "id": "vfIl_Ik_-SBv"
      },
      "source": [
        "#Percent of high blood Pressure in each gender"
      ]
    },
    {
      "cell_type": "code",
      "metadata": {
        "colab": {
          "base_uri": "https://localhost:8080/",
          "height": 166
        },
        "id": "sOnw2u949BGT",
        "outputId": "16c38c82-494a-4ce9-8469-8efeeb10152b"
      },
      "source": [
        "pd.crosstab(df.sex, df.high_blood_pressure, values = df.index,aggfunc='count', normalize=True, margins=True, margins_name='Total_percent')"
      ],
      "execution_count": null,
      "outputs": [
        {
          "output_type": "execute_result",
          "data": {
            "text/html": [
              "<div>\n",
              "<style scoped>\n",
              "    .dataframe tbody tr th:only-of-type {\n",
              "        vertical-align: middle;\n",
              "    }\n",
              "\n",
              "    .dataframe tbody tr th {\n",
              "        vertical-align: top;\n",
              "    }\n",
              "\n",
              "    .dataframe thead th {\n",
              "        text-align: right;\n",
              "    }\n",
              "</style>\n",
              "<table border=\"1\" class=\"dataframe\">\n",
              "  <thead>\n",
              "    <tr style=\"text-align: right;\">\n",
              "      <th>high_blood_pressure</th>\n",
              "      <th>0</th>\n",
              "      <th>1</th>\n",
              "      <th>Total_percent</th>\n",
              "    </tr>\n",
              "    <tr>\n",
              "      <th>sex</th>\n",
              "      <th></th>\n",
              "      <th></th>\n",
              "      <th></th>\n",
              "    </tr>\n",
              "  </thead>\n",
              "  <tbody>\n",
              "    <tr>\n",
              "      <th>0</th>\n",
              "      <td>0.204013</td>\n",
              "      <td>0.147157</td>\n",
              "      <td>0.351171</td>\n",
              "    </tr>\n",
              "    <tr>\n",
              "      <th>1</th>\n",
              "      <td>0.444816</td>\n",
              "      <td>0.204013</td>\n",
              "      <td>0.648829</td>\n",
              "    </tr>\n",
              "    <tr>\n",
              "      <th>Total_percent</th>\n",
              "      <td>0.648829</td>\n",
              "      <td>0.351171</td>\n",
              "      <td>1.000000</td>\n",
              "    </tr>\n",
              "  </tbody>\n",
              "</table>\n",
              "</div>"
            ],
            "text/plain": [
              "high_blood_pressure         0         1  Total_percent\n",
              "sex                                                   \n",
              "0                    0.204013  0.147157       0.351171\n",
              "1                    0.444816  0.204013       0.648829\n",
              "Total_percent        0.648829  0.351171       1.000000"
            ]
          },
          "metadata": {
            "tags": []
          },
          "execution_count": 10
        }
      ]
    },
    {
      "cell_type": "markdown",
      "metadata": {
        "id": "7KN8xnJZ_n-t"
      },
      "source": [
        "#How many peole died/survived in the dataset?"
      ]
    },
    {
      "cell_type": "code",
      "metadata": {
        "colab": {
          "base_uri": "https://localhost:8080/"
        },
        "id": "Kv07MvRT-sR7",
        "outputId": "1b2cb57d-e9cd-4d6d-bf92-eb4fbf338914"
      },
      "source": [
        "df.DEATH_EVENT.value_counts()"
      ],
      "execution_count": null,
      "outputs": [
        {
          "output_type": "execute_result",
          "data": {
            "text/plain": [
              "0    203\n",
              "1     96\n",
              "Name: DEATH_EVENT, dtype: int64"
            ]
          },
          "metadata": {
            "tags": []
          },
          "execution_count": 11
        }
      ]
    },
    {
      "cell_type": "markdown",
      "metadata": {
        "id": "GgOlvUFzL78g"
      },
      "source": [
        "#Death Count with bar chart"
      ]
    },
    {
      "cell_type": "code",
      "metadata": {
        "colab": {
          "base_uri": "https://localhost:8080/",
          "height": 542
        },
        "id": "hB-feoOa_bWx",
        "outputId": "5e26295d-75a7-482d-f68b-98829943fa47"
      },
      "source": [
        "px.histogram(df, x = 'DEATH_EVENT', title='Death Count', template='plotly_white')"
      ],
      "execution_count": null,
      "outputs": [
        {
          "output_type": "display_data",
          "data": {
            "text/html": [
              "<html>\n",
              "<head><meta charset=\"utf-8\" /></head>\n",
              "<body>\n",
              "    <div>\n",
              "            <script src=\"https://cdnjs.cloudflare.com/ajax/libs/mathjax/2.7.5/MathJax.js?config=TeX-AMS-MML_SVG\"></script><script type=\"text/javascript\">if (window.MathJax) {MathJax.Hub.Config({SVG: {font: \"STIX-Web\"}});}</script>\n",
              "                <script type=\"text/javascript\">window.PlotlyConfig = {MathJaxConfig: 'local'};</script>\n",
              "        <script src=\"https://cdn.plot.ly/plotly-latest.min.js\"></script>    \n",
              "            <div id=\"402fae17-080f-4828-9df0-1969b20048d4\" class=\"plotly-graph-div\" style=\"height:525px; width:100%;\"></div>\n",
              "            <script type=\"text/javascript\">\n",
              "                \n",
              "                    window.PLOTLYENV=window.PLOTLYENV || {};\n",
              "                    \n",
              "                if (document.getElementById(\"402fae17-080f-4828-9df0-1969b20048d4\")) {\n",
              "                    Plotly.newPlot(\n",
              "                        '402fae17-080f-4828-9df0-1969b20048d4',\n",
              "                        [{\"alignmentgroup\": \"True\", \"bingroup\": \"x\", \"hoverlabel\": {\"namelength\": 0}, \"hovertemplate\": \"DEATH_EVENT=%{x}<br>count=%{y}\", \"legendgroup\": \"\", \"marker\": {\"color\": \"#636efa\"}, \"name\": \"\", \"offsetgroup\": \"\", \"orientation\": \"v\", \"showlegend\": false, \"type\": \"histogram\", \"x\": [\"1\", \"1\", \"1\", \"1\", \"1\", \"1\", \"1\", \"1\", \"1\", \"1\", \"1\", \"1\", \"1\", \"1\", \"0\", \"1\", \"1\", \"1\", \"1\", \"1\", \"0\", \"1\", \"1\", \"0\", \"1\", \"1\", \"1\", \"1\", \"1\", \"1\", \"1\", \"1\", \"1\", \"0\", \"1\", \"1\", \"1\", \"1\", \"0\", \"1\", \"1\", \"1\", \"1\", \"0\", \"1\", \"1\", \"1\", \"1\", \"1\", \"1\", \"1\", \"1\", \"1\", \"1\", \"1\", \"1\", \"0\", \"0\", \"1\", \"1\", \"1\", \"1\", \"0\", \"1\", \"0\", \"1\", \"1\", \"1\", \"1\", \"1\", \"0\", \"0\", \"1\", \"0\", \"1\", \"1\", \"0\", \"0\", \"0\", \"0\", \"0\", \"0\", \"1\", \"0\", \"1\", \"0\", \"0\", \"0\", \"0\", \"0\", \"0\", \"0\", \"0\", \"1\", \"0\", \"0\", \"0\", \"0\", \"0\", \"0\", \"0\", \"0\", \"0\", \"0\", \"0\", \"1\", \"0\", \"0\", \"0\", \"0\", \"1\", \"0\", \"0\", \"1\", \"0\", \"0\", \"0\", \"0\", \"0\", \"1\", \"0\", \"0\", \"0\", \"0\", \"1\", \"0\", \"1\", \"0\", \"0\", \"0\", \"0\", \"0\", \"0\", \"0\", \"0\", \"0\", \"0\", \"0\", \"0\", \"0\", \"1\", \"0\", \"0\", \"0\", \"1\", \"0\", \"0\", \"0\", \"1\", \"0\", \"1\", \"0\", \"0\", \"0\", \"0\", \"0\", \"0\", \"0\", \"0\", \"0\", \"0\", \"0\", \"0\", \"1\", \"1\", \"1\", \"0\", \"1\", \"0\", \"0\", \"0\", \"0\", \"0\", \"0\", \"0\", \"0\", \"0\", \"0\", \"0\", \"0\", \"0\", \"1\", \"1\", \"1\", \"1\", \"1\", \"1\", \"1\", \"0\", \"0\", \"0\", \"0\", \"0\", \"0\", \"1\", \"1\", \"0\", \"0\", \"0\", \"0\", \"0\", \"0\", \"0\", \"0\", \"0\", \"0\", \"0\", \"0\", \"0\", \"0\", \"0\", \"0\", \"0\", \"1\", \"0\", \"0\", \"0\", \"1\", \"0\", \"0\", \"1\", \"0\", \"0\", \"0\", \"0\", \"0\", \"0\", \"0\", \"0\", \"0\", \"1\", \"0\", \"0\", \"0\", \"0\", \"0\", \"0\", \"0\", \"0\", \"0\", \"0\", \"0\", \"0\", \"0\", \"0\", \"0\", \"1\", \"0\", \"0\", \"0\", \"0\", \"0\", \"0\", \"0\", \"0\", \"0\", \"0\", \"0\", \"0\", \"0\", \"0\", \"0\", \"1\", \"0\", \"0\", \"0\", \"1\", \"0\", \"0\", \"0\", \"0\", \"0\", \"0\", \"0\", \"0\", \"0\", \"0\", \"0\", \"0\", \"0\", \"0\", \"0\", \"0\", \"0\", \"0\", \"0\", \"0\", \"0\", \"0\", \"0\", \"0\", \"0\", \"0\", \"0\", \"0\", \"0\", \"0\", \"0\", \"0\"], \"xaxis\": \"x\", \"yaxis\": \"y\"}],\n",
              "                        {\"barmode\": \"relative\", \"legend\": {\"tracegroupgap\": 0}, \"template\": {\"data\": {\"bar\": [{\"error_x\": {\"color\": \"#2a3f5f\"}, \"error_y\": {\"color\": \"#2a3f5f\"}, \"marker\": {\"line\": {\"color\": \"white\", \"width\": 0.5}}, \"type\": \"bar\"}], \"barpolar\": [{\"marker\": {\"line\": {\"color\": \"white\", \"width\": 0.5}}, \"type\": \"barpolar\"}], \"carpet\": [{\"aaxis\": {\"endlinecolor\": \"#2a3f5f\", \"gridcolor\": \"#C8D4E3\", \"linecolor\": \"#C8D4E3\", \"minorgridcolor\": \"#C8D4E3\", \"startlinecolor\": \"#2a3f5f\"}, \"baxis\": {\"endlinecolor\": \"#2a3f5f\", \"gridcolor\": \"#C8D4E3\", \"linecolor\": \"#C8D4E3\", \"minorgridcolor\": \"#C8D4E3\", \"startlinecolor\": \"#2a3f5f\"}, \"type\": \"carpet\"}], \"choropleth\": [{\"colorbar\": {\"outlinewidth\": 0, \"ticks\": \"\"}, \"type\": \"choropleth\"}], \"contour\": [{\"colorbar\": {\"outlinewidth\": 0, \"ticks\": \"\"}, \"colorscale\": [[0.0, \"#0d0887\"], [0.1111111111111111, \"#46039f\"], [0.2222222222222222, \"#7201a8\"], [0.3333333333333333, \"#9c179e\"], [0.4444444444444444, \"#bd3786\"], [0.5555555555555556, \"#d8576b\"], [0.6666666666666666, \"#ed7953\"], [0.7777777777777778, \"#fb9f3a\"], [0.8888888888888888, \"#fdca26\"], [1.0, \"#f0f921\"]], \"type\": \"contour\"}], \"contourcarpet\": [{\"colorbar\": {\"outlinewidth\": 0, \"ticks\": \"\"}, \"type\": \"contourcarpet\"}], \"heatmap\": [{\"colorbar\": {\"outlinewidth\": 0, \"ticks\": \"\"}, \"colorscale\": [[0.0, \"#0d0887\"], [0.1111111111111111, \"#46039f\"], [0.2222222222222222, \"#7201a8\"], [0.3333333333333333, \"#9c179e\"], [0.4444444444444444, \"#bd3786\"], [0.5555555555555556, \"#d8576b\"], [0.6666666666666666, \"#ed7953\"], [0.7777777777777778, \"#fb9f3a\"], [0.8888888888888888, \"#fdca26\"], [1.0, \"#f0f921\"]], \"type\": \"heatmap\"}], \"heatmapgl\": [{\"colorbar\": {\"outlinewidth\": 0, \"ticks\": \"\"}, \"colorscale\": [[0.0, \"#0d0887\"], [0.1111111111111111, \"#46039f\"], [0.2222222222222222, \"#7201a8\"], [0.3333333333333333, \"#9c179e\"], [0.4444444444444444, \"#bd3786\"], [0.5555555555555556, \"#d8576b\"], [0.6666666666666666, \"#ed7953\"], [0.7777777777777778, \"#fb9f3a\"], [0.8888888888888888, \"#fdca26\"], [1.0, \"#f0f921\"]], \"type\": \"heatmapgl\"}], \"histogram\": [{\"marker\": {\"colorbar\": {\"outlinewidth\": 0, \"ticks\": \"\"}}, \"type\": \"histogram\"}], \"histogram2d\": [{\"colorbar\": {\"outlinewidth\": 0, \"ticks\": \"\"}, \"colorscale\": [[0.0, \"#0d0887\"], [0.1111111111111111, \"#46039f\"], [0.2222222222222222, \"#7201a8\"], [0.3333333333333333, \"#9c179e\"], [0.4444444444444444, \"#bd3786\"], [0.5555555555555556, \"#d8576b\"], [0.6666666666666666, \"#ed7953\"], [0.7777777777777778, \"#fb9f3a\"], [0.8888888888888888, \"#fdca26\"], [1.0, \"#f0f921\"]], \"type\": \"histogram2d\"}], \"histogram2dcontour\": [{\"colorbar\": {\"outlinewidth\": 0, \"ticks\": \"\"}, \"colorscale\": [[0.0, \"#0d0887\"], [0.1111111111111111, \"#46039f\"], [0.2222222222222222, \"#7201a8\"], [0.3333333333333333, \"#9c179e\"], [0.4444444444444444, \"#bd3786\"], [0.5555555555555556, \"#d8576b\"], [0.6666666666666666, \"#ed7953\"], [0.7777777777777778, \"#fb9f3a\"], [0.8888888888888888, \"#fdca26\"], [1.0, \"#f0f921\"]], \"type\": \"histogram2dcontour\"}], \"mesh3d\": [{\"colorbar\": {\"outlinewidth\": 0, \"ticks\": \"\"}, \"type\": \"mesh3d\"}], \"parcoords\": [{\"line\": {\"colorbar\": {\"outlinewidth\": 0, \"ticks\": \"\"}}, \"type\": \"parcoords\"}], \"pie\": [{\"automargin\": true, \"type\": \"pie\"}], \"scatter\": [{\"marker\": {\"colorbar\": {\"outlinewidth\": 0, \"ticks\": \"\"}}, \"type\": \"scatter\"}], \"scatter3d\": [{\"line\": {\"colorbar\": {\"outlinewidth\": 0, \"ticks\": \"\"}}, \"marker\": {\"colorbar\": {\"outlinewidth\": 0, \"ticks\": \"\"}}, \"type\": \"scatter3d\"}], \"scattercarpet\": [{\"marker\": {\"colorbar\": {\"outlinewidth\": 0, \"ticks\": \"\"}}, \"type\": \"scattercarpet\"}], \"scattergeo\": [{\"marker\": {\"colorbar\": {\"outlinewidth\": 0, \"ticks\": \"\"}}, \"type\": \"scattergeo\"}], \"scattergl\": [{\"marker\": {\"colorbar\": {\"outlinewidth\": 0, \"ticks\": \"\"}}, \"type\": \"scattergl\"}], \"scattermapbox\": [{\"marker\": {\"colorbar\": {\"outlinewidth\": 0, \"ticks\": \"\"}}, \"type\": \"scattermapbox\"}], \"scatterpolar\": [{\"marker\": {\"colorbar\": {\"outlinewidth\": 0, \"ticks\": \"\"}}, \"type\": \"scatterpolar\"}], \"scatterpolargl\": [{\"marker\": {\"colorbar\": {\"outlinewidth\": 0, \"ticks\": \"\"}}, \"type\": \"scatterpolargl\"}], \"scatterternary\": [{\"marker\": {\"colorbar\": {\"outlinewidth\": 0, \"ticks\": \"\"}}, \"type\": \"scatterternary\"}], \"surface\": [{\"colorbar\": {\"outlinewidth\": 0, \"ticks\": \"\"}, \"colorscale\": [[0.0, \"#0d0887\"], [0.1111111111111111, \"#46039f\"], [0.2222222222222222, \"#7201a8\"], [0.3333333333333333, \"#9c179e\"], [0.4444444444444444, \"#bd3786\"], [0.5555555555555556, \"#d8576b\"], [0.6666666666666666, \"#ed7953\"], [0.7777777777777778, \"#fb9f3a\"], [0.8888888888888888, \"#fdca26\"], [1.0, \"#f0f921\"]], \"type\": \"surface\"}], \"table\": [{\"cells\": {\"fill\": {\"color\": \"#EBF0F8\"}, \"line\": {\"color\": \"white\"}}, \"header\": {\"fill\": {\"color\": \"#C8D4E3\"}, \"line\": {\"color\": \"white\"}}, \"type\": \"table\"}]}, \"layout\": {\"annotationdefaults\": {\"arrowcolor\": \"#2a3f5f\", \"arrowhead\": 0, \"arrowwidth\": 1}, \"coloraxis\": {\"colorbar\": {\"outlinewidth\": 0, \"ticks\": \"\"}}, \"colorscale\": {\"diverging\": [[0, \"#8e0152\"], [0.1, \"#c51b7d\"], [0.2, \"#de77ae\"], [0.3, \"#f1b6da\"], [0.4, \"#fde0ef\"], [0.5, \"#f7f7f7\"], [0.6, \"#e6f5d0\"], [0.7, \"#b8e186\"], [0.8, \"#7fbc41\"], [0.9, \"#4d9221\"], [1, \"#276419\"]], \"sequential\": [[0.0, \"#0d0887\"], [0.1111111111111111, \"#46039f\"], [0.2222222222222222, \"#7201a8\"], [0.3333333333333333, \"#9c179e\"], [0.4444444444444444, \"#bd3786\"], [0.5555555555555556, \"#d8576b\"], [0.6666666666666666, \"#ed7953\"], [0.7777777777777778, \"#fb9f3a\"], [0.8888888888888888, \"#fdca26\"], [1.0, \"#f0f921\"]], \"sequentialminus\": [[0.0, \"#0d0887\"], [0.1111111111111111, \"#46039f\"], [0.2222222222222222, \"#7201a8\"], [0.3333333333333333, \"#9c179e\"], [0.4444444444444444, \"#bd3786\"], [0.5555555555555556, \"#d8576b\"], [0.6666666666666666, \"#ed7953\"], [0.7777777777777778, \"#fb9f3a\"], [0.8888888888888888, \"#fdca26\"], [1.0, \"#f0f921\"]]}, \"colorway\": [\"#636efa\", \"#EF553B\", \"#00cc96\", \"#ab63fa\", \"#FFA15A\", \"#19d3f3\", \"#FF6692\", \"#B6E880\", \"#FF97FF\", \"#FECB52\"], \"font\": {\"color\": \"#2a3f5f\"}, \"geo\": {\"bgcolor\": \"white\", \"lakecolor\": \"white\", \"landcolor\": \"white\", \"showlakes\": true, \"showland\": true, \"subunitcolor\": \"#C8D4E3\"}, \"hoverlabel\": {\"align\": \"left\"}, \"hovermode\": \"closest\", \"mapbox\": {\"style\": \"light\"}, \"paper_bgcolor\": \"white\", \"plot_bgcolor\": \"white\", \"polar\": {\"angularaxis\": {\"gridcolor\": \"#EBF0F8\", \"linecolor\": \"#EBF0F8\", \"ticks\": \"\"}, \"bgcolor\": \"white\", \"radialaxis\": {\"gridcolor\": \"#EBF0F8\", \"linecolor\": \"#EBF0F8\", \"ticks\": \"\"}}, \"scene\": {\"xaxis\": {\"backgroundcolor\": \"white\", \"gridcolor\": \"#DFE8F3\", \"gridwidth\": 2, \"linecolor\": \"#EBF0F8\", \"showbackground\": true, \"ticks\": \"\", \"zerolinecolor\": \"#EBF0F8\"}, \"yaxis\": {\"backgroundcolor\": \"white\", \"gridcolor\": \"#DFE8F3\", \"gridwidth\": 2, \"linecolor\": \"#EBF0F8\", \"showbackground\": true, \"ticks\": \"\", \"zerolinecolor\": \"#EBF0F8\"}, \"zaxis\": {\"backgroundcolor\": \"white\", \"gridcolor\": \"#DFE8F3\", \"gridwidth\": 2, \"linecolor\": \"#EBF0F8\", \"showbackground\": true, \"ticks\": \"\", \"zerolinecolor\": \"#EBF0F8\"}}, \"shapedefaults\": {\"line\": {\"color\": \"#2a3f5f\"}}, \"ternary\": {\"aaxis\": {\"gridcolor\": \"#DFE8F3\", \"linecolor\": \"#A2B1C6\", \"ticks\": \"\"}, \"baxis\": {\"gridcolor\": \"#DFE8F3\", \"linecolor\": \"#A2B1C6\", \"ticks\": \"\"}, \"bgcolor\": \"white\", \"caxis\": {\"gridcolor\": \"#DFE8F3\", \"linecolor\": \"#A2B1C6\", \"ticks\": \"\"}}, \"title\": {\"x\": 0.05}, \"xaxis\": {\"automargin\": true, \"gridcolor\": \"#EBF0F8\", \"linecolor\": \"#EBF0F8\", \"ticks\": \"\", \"title\": {\"standoff\": 15}, \"zerolinecolor\": \"#EBF0F8\", \"zerolinewidth\": 2}, \"yaxis\": {\"automargin\": true, \"gridcolor\": \"#EBF0F8\", \"linecolor\": \"#EBF0F8\", \"ticks\": \"\", \"title\": {\"standoff\": 15}, \"zerolinecolor\": \"#EBF0F8\", \"zerolinewidth\": 2}}}, \"title\": {\"text\": \"Death Count\"}, \"xaxis\": {\"anchor\": \"y\", \"domain\": [0.0, 1.0], \"title\": {\"text\": \"DEATH_EVENT\"}}, \"yaxis\": {\"anchor\": \"x\", \"domain\": [0.0, 1.0], \"title\": {\"text\": \"count\"}}},\n",
              "                        {\"responsive\": true}\n",
              "                    ).then(function(){\n",
              "                            \n",
              "var gd = document.getElementById('402fae17-080f-4828-9df0-1969b20048d4');\n",
              "var x = new MutationObserver(function (mutations, observer) {{\n",
              "        var display = window.getComputedStyle(gd).display;\n",
              "        if (!display || display === 'none') {{\n",
              "            console.log([gd, 'removed!']);\n",
              "            Plotly.purge(gd);\n",
              "            observer.disconnect();\n",
              "        }}\n",
              "}});\n",
              "\n",
              "// Listen for the removal of the full notebook cells\n",
              "var notebookContainer = gd.closest('#notebook-container');\n",
              "if (notebookContainer) {{\n",
              "    x.observe(notebookContainer, {childList: true});\n",
              "}}\n",
              "\n",
              "// Listen for the clearing of the current output cell\n",
              "var outputEl = gd.closest('.output');\n",
              "if (outputEl) {{\n",
              "    x.observe(outputEl, {childList: true});\n",
              "}}\n",
              "\n",
              "                        })\n",
              "                };\n",
              "                \n",
              "            </script>\n",
              "        </div>\n",
              "</body>\n",
              "</html>"
            ]
          },
          "metadata": {
            "tags": []
          }
        }
      ]
    },
    {
      "cell_type": "markdown",
      "metadata": {
        "id": "xN55IjJBMwl4"
      },
      "source": [
        "#Death count by gender"
      ]
    },
    {
      "cell_type": "code",
      "metadata": {
        "colab": {
          "base_uri": "https://localhost:8080/"
        },
        "id": "78f9x1LCMSg1",
        "outputId": "2f830d2a-9d92-470a-fd9b-6f9c14435baa"
      },
      "source": [
        "df[['DEATH_EVENT', 'sex']].value_counts()"
      ],
      "execution_count": null,
      "outputs": [
        {
          "output_type": "execute_result",
          "data": {
            "text/plain": [
              "DEATH_EVENT  sex\n",
              "0            1      132\n",
              "             0       71\n",
              "1            1       62\n",
              "             0       34\n",
              "dtype: int64"
            ]
          },
          "metadata": {
            "tags": []
          },
          "execution_count": 13
        }
      ]
    },
    {
      "cell_type": "code",
      "metadata": {
        "colab": {
          "base_uri": "https://localhost:8080/",
          "height": 542
        },
        "id": "m_hs4ucaM7Yn",
        "outputId": "953c45bd-8df3-4929-96b1-6c481383e8a5"
      },
      "source": [
        "px.histogram(df, x = 'DEATH_EVENT', color = 'sex', title='Death Count by Gender', template='plotly_white')"
      ],
      "execution_count": null,
      "outputs": [
        {
          "output_type": "display_data",
          "data": {
            "text/html": [
              "<html>\n",
              "<head><meta charset=\"utf-8\" /></head>\n",
              "<body>\n",
              "    <div>\n",
              "            <script src=\"https://cdnjs.cloudflare.com/ajax/libs/mathjax/2.7.5/MathJax.js?config=TeX-AMS-MML_SVG\"></script><script type=\"text/javascript\">if (window.MathJax) {MathJax.Hub.Config({SVG: {font: \"STIX-Web\"}});}</script>\n",
              "                <script type=\"text/javascript\">window.PlotlyConfig = {MathJaxConfig: 'local'};</script>\n",
              "        <script src=\"https://cdn.plot.ly/plotly-latest.min.js\"></script>    \n",
              "            <div id=\"05ee4097-4915-45cc-8917-8f926041d65c\" class=\"plotly-graph-div\" style=\"height:525px; width:100%;\"></div>\n",
              "            <script type=\"text/javascript\">\n",
              "                \n",
              "                    window.PLOTLYENV=window.PLOTLYENV || {};\n",
              "                    \n",
              "                if (document.getElementById(\"05ee4097-4915-45cc-8917-8f926041d65c\")) {\n",
              "                    Plotly.newPlot(\n",
              "                        '05ee4097-4915-45cc-8917-8f926041d65c',\n",
              "                        [{\"alignmentgroup\": \"True\", \"bingroup\": \"x\", \"hoverlabel\": {\"namelength\": 0}, \"hovertemplate\": \"sex=1<br>DEATH_EVENT=%{x}<br>count=%{y}\", \"legendgroup\": \"sex=1\", \"marker\": {\"color\": \"#636efa\"}, \"name\": \"sex=1\", \"offsetgroup\": \"sex=1\", \"orientation\": \"v\", \"showlegend\": true, \"type\": \"histogram\", \"x\": [\"1\", \"1\", \"1\", \"1\", \"1\", \"1\", \"1\", \"1\", \"1\", \"1\", \"1\", \"1\", \"1\", \"1\", \"1\", \"1\", \"0\", \"1\", \"1\", \"1\", \"1\", \"1\", \"1\", \"1\", \"1\", \"1\", \"0\", \"1\", \"1\", \"0\", \"1\", \"1\", \"1\", \"1\", \"1\", \"1\", \"0\", \"0\", \"1\", \"1\", \"1\", \"0\", \"1\", \"1\", \"1\", \"1\", \"0\", \"0\", \"1\", \"0\", \"1\", \"1\", \"0\", \"0\", \"0\", \"0\", \"0\", \"0\", \"0\", \"0\", \"0\", \"0\", \"0\", \"1\", \"0\", \"0\", \"0\", \"0\", \"0\", \"0\", \"0\", \"0\", \"0\", \"0\", \"1\", \"0\", \"0\", \"0\", \"0\", \"1\", \"0\", \"0\", \"0\", \"0\", \"0\", \"0\", \"0\", \"0\", \"0\", \"1\", \"1\", \"0\", \"0\", \"0\", \"1\", \"0\", \"0\", \"0\", \"0\", \"0\", \"0\", \"0\", \"0\", \"0\", \"0\", \"0\", \"1\", \"0\", \"1\", \"0\", \"0\", \"0\", \"0\", \"0\", \"0\", \"0\", \"0\", \"0\", \"0\", \"1\", \"1\", \"1\", \"1\", \"1\", \"0\", \"0\", \"0\", \"1\", \"1\", \"0\", \"0\", \"0\", \"0\", \"0\", \"0\", \"0\", \"0\", \"0\", \"0\", \"0\", \"0\", \"0\", \"1\", \"0\", \"0\", \"0\", \"0\", \"0\", \"0\", \"0\", \"0\", \"0\", \"0\", \"0\", \"0\", \"0\", \"0\", \"0\", \"0\", \"0\", \"0\", \"1\", \"0\", \"0\", \"0\", \"0\", \"0\", \"0\", \"0\", \"0\", \"0\", \"1\", \"0\", \"0\", \"1\", \"0\", \"0\", \"0\", \"0\", \"0\", \"0\", \"0\", \"0\", \"0\", \"0\", \"0\", \"0\", \"0\", \"0\", \"0\", \"0\", \"0\", \"0\", \"0\"], \"xaxis\": \"x\", \"yaxis\": \"y\"}, {\"alignmentgroup\": \"True\", \"bingroup\": \"x\", \"hoverlabel\": {\"namelength\": 0}, \"hovertemplate\": \"sex=0<br>DEATH_EVENT=%{x}<br>count=%{y}\", \"legendgroup\": \"sex=0\", \"marker\": {\"color\": \"#EF553B\"}, \"name\": \"sex=0\", \"offsetgroup\": \"sex=0\", \"orientation\": \"v\", \"showlegend\": true, \"type\": \"histogram\", \"x\": [\"1\", \"1\", \"0\", \"1\", \"1\", \"0\", \"1\", \"1\", \"1\", \"1\", \"0\", \"1\", \"1\", \"1\", \"1\", \"1\", \"1\", \"1\", \"1\", \"1\", \"1\", \"0\", \"1\", \"1\", \"0\", \"0\", \"0\", \"1\", \"1\", \"0\", \"0\", \"0\", \"0\", \"0\", \"0\", \"1\", \"1\", \"0\", \"0\", \"0\", \"0\", \"1\", \"0\", \"0\", \"0\", \"0\", \"1\", \"0\", \"0\", \"0\", \"0\", \"0\", \"0\", \"0\", \"1\", \"0\", \"0\", \"1\", \"1\", \"0\", \"0\", \"0\", \"1\", \"1\", \"0\", \"0\", \"0\", \"0\", \"0\", \"0\", \"0\", \"0\", \"0\", \"0\", \"1\", \"0\", \"1\", \"0\", \"0\", \"0\", \"0\", \"1\", \"0\", \"0\", \"0\", \"0\", \"0\", \"0\", \"0\", \"0\", \"0\", \"0\", \"0\", \"0\", \"0\", \"0\", \"0\", \"0\", \"0\", \"0\", \"0\", \"0\", \"0\", \"0\", \"0\"], \"xaxis\": \"x\", \"yaxis\": \"y\"}],\n",
              "                        {\"barmode\": \"relative\", \"legend\": {\"tracegroupgap\": 0}, \"template\": {\"data\": {\"bar\": [{\"error_x\": {\"color\": \"#2a3f5f\"}, \"error_y\": {\"color\": \"#2a3f5f\"}, \"marker\": {\"line\": {\"color\": \"white\", \"width\": 0.5}}, \"type\": \"bar\"}], \"barpolar\": [{\"marker\": {\"line\": {\"color\": \"white\", \"width\": 0.5}}, \"type\": \"barpolar\"}], \"carpet\": [{\"aaxis\": {\"endlinecolor\": \"#2a3f5f\", \"gridcolor\": \"#C8D4E3\", \"linecolor\": \"#C8D4E3\", \"minorgridcolor\": \"#C8D4E3\", \"startlinecolor\": \"#2a3f5f\"}, \"baxis\": {\"endlinecolor\": \"#2a3f5f\", \"gridcolor\": \"#C8D4E3\", \"linecolor\": \"#C8D4E3\", \"minorgridcolor\": \"#C8D4E3\", \"startlinecolor\": \"#2a3f5f\"}, \"type\": \"carpet\"}], \"choropleth\": [{\"colorbar\": {\"outlinewidth\": 0, \"ticks\": \"\"}, \"type\": \"choropleth\"}], \"contour\": [{\"colorbar\": {\"outlinewidth\": 0, \"ticks\": \"\"}, \"colorscale\": [[0.0, \"#0d0887\"], [0.1111111111111111, \"#46039f\"], [0.2222222222222222, \"#7201a8\"], [0.3333333333333333, \"#9c179e\"], [0.4444444444444444, \"#bd3786\"], [0.5555555555555556, \"#d8576b\"], [0.6666666666666666, \"#ed7953\"], [0.7777777777777778, \"#fb9f3a\"], [0.8888888888888888, \"#fdca26\"], [1.0, \"#f0f921\"]], \"type\": \"contour\"}], \"contourcarpet\": [{\"colorbar\": {\"outlinewidth\": 0, \"ticks\": \"\"}, \"type\": \"contourcarpet\"}], \"heatmap\": [{\"colorbar\": {\"outlinewidth\": 0, \"ticks\": \"\"}, \"colorscale\": [[0.0, \"#0d0887\"], [0.1111111111111111, \"#46039f\"], [0.2222222222222222, \"#7201a8\"], [0.3333333333333333, \"#9c179e\"], [0.4444444444444444, \"#bd3786\"], [0.5555555555555556, \"#d8576b\"], [0.6666666666666666, \"#ed7953\"], [0.7777777777777778, \"#fb9f3a\"], [0.8888888888888888, \"#fdca26\"], [1.0, \"#f0f921\"]], \"type\": \"heatmap\"}], \"heatmapgl\": [{\"colorbar\": {\"outlinewidth\": 0, \"ticks\": \"\"}, \"colorscale\": [[0.0, \"#0d0887\"], [0.1111111111111111, \"#46039f\"], [0.2222222222222222, \"#7201a8\"], [0.3333333333333333, \"#9c179e\"], [0.4444444444444444, \"#bd3786\"], [0.5555555555555556, \"#d8576b\"], [0.6666666666666666, \"#ed7953\"], [0.7777777777777778, \"#fb9f3a\"], [0.8888888888888888, \"#fdca26\"], [1.0, \"#f0f921\"]], \"type\": \"heatmapgl\"}], \"histogram\": [{\"marker\": {\"colorbar\": {\"outlinewidth\": 0, \"ticks\": \"\"}}, \"type\": \"histogram\"}], \"histogram2d\": [{\"colorbar\": {\"outlinewidth\": 0, \"ticks\": \"\"}, \"colorscale\": [[0.0, \"#0d0887\"], [0.1111111111111111, \"#46039f\"], [0.2222222222222222, \"#7201a8\"], [0.3333333333333333, \"#9c179e\"], [0.4444444444444444, \"#bd3786\"], [0.5555555555555556, \"#d8576b\"], [0.6666666666666666, \"#ed7953\"], [0.7777777777777778, \"#fb9f3a\"], [0.8888888888888888, \"#fdca26\"], [1.0, \"#f0f921\"]], \"type\": \"histogram2d\"}], \"histogram2dcontour\": [{\"colorbar\": {\"outlinewidth\": 0, \"ticks\": \"\"}, \"colorscale\": [[0.0, \"#0d0887\"], [0.1111111111111111, \"#46039f\"], [0.2222222222222222, \"#7201a8\"], [0.3333333333333333, \"#9c179e\"], [0.4444444444444444, \"#bd3786\"], [0.5555555555555556, \"#d8576b\"], [0.6666666666666666, \"#ed7953\"], [0.7777777777777778, \"#fb9f3a\"], [0.8888888888888888, \"#fdca26\"], [1.0, \"#f0f921\"]], \"type\": \"histogram2dcontour\"}], \"mesh3d\": [{\"colorbar\": {\"outlinewidth\": 0, \"ticks\": \"\"}, \"type\": \"mesh3d\"}], \"parcoords\": [{\"line\": {\"colorbar\": {\"outlinewidth\": 0, \"ticks\": \"\"}}, \"type\": \"parcoords\"}], \"pie\": [{\"automargin\": true, \"type\": \"pie\"}], \"scatter\": [{\"marker\": {\"colorbar\": {\"outlinewidth\": 0, \"ticks\": \"\"}}, \"type\": \"scatter\"}], \"scatter3d\": [{\"line\": {\"colorbar\": {\"outlinewidth\": 0, \"ticks\": \"\"}}, \"marker\": {\"colorbar\": {\"outlinewidth\": 0, \"ticks\": \"\"}}, \"type\": \"scatter3d\"}], \"scattercarpet\": [{\"marker\": {\"colorbar\": {\"outlinewidth\": 0, \"ticks\": \"\"}}, \"type\": \"scattercarpet\"}], \"scattergeo\": [{\"marker\": {\"colorbar\": {\"outlinewidth\": 0, \"ticks\": \"\"}}, \"type\": \"scattergeo\"}], \"scattergl\": [{\"marker\": {\"colorbar\": {\"outlinewidth\": 0, \"ticks\": \"\"}}, \"type\": \"scattergl\"}], \"scattermapbox\": [{\"marker\": {\"colorbar\": {\"outlinewidth\": 0, \"ticks\": \"\"}}, \"type\": \"scattermapbox\"}], \"scatterpolar\": [{\"marker\": {\"colorbar\": {\"outlinewidth\": 0, \"ticks\": \"\"}}, \"type\": \"scatterpolar\"}], \"scatterpolargl\": [{\"marker\": {\"colorbar\": {\"outlinewidth\": 0, \"ticks\": \"\"}}, \"type\": \"scatterpolargl\"}], \"scatterternary\": [{\"marker\": {\"colorbar\": {\"outlinewidth\": 0, \"ticks\": \"\"}}, \"type\": \"scatterternary\"}], \"surface\": [{\"colorbar\": {\"outlinewidth\": 0, \"ticks\": \"\"}, \"colorscale\": [[0.0, \"#0d0887\"], [0.1111111111111111, \"#46039f\"], [0.2222222222222222, \"#7201a8\"], [0.3333333333333333, \"#9c179e\"], [0.4444444444444444, \"#bd3786\"], [0.5555555555555556, \"#d8576b\"], [0.6666666666666666, \"#ed7953\"], [0.7777777777777778, \"#fb9f3a\"], [0.8888888888888888, \"#fdca26\"], [1.0, \"#f0f921\"]], \"type\": \"surface\"}], \"table\": [{\"cells\": {\"fill\": {\"color\": \"#EBF0F8\"}, \"line\": {\"color\": \"white\"}}, \"header\": {\"fill\": {\"color\": \"#C8D4E3\"}, \"line\": {\"color\": \"white\"}}, \"type\": \"table\"}]}, \"layout\": {\"annotationdefaults\": {\"arrowcolor\": \"#2a3f5f\", \"arrowhead\": 0, \"arrowwidth\": 1}, \"coloraxis\": {\"colorbar\": {\"outlinewidth\": 0, \"ticks\": \"\"}}, \"colorscale\": {\"diverging\": [[0, \"#8e0152\"], [0.1, \"#c51b7d\"], [0.2, \"#de77ae\"], [0.3, \"#f1b6da\"], [0.4, \"#fde0ef\"], [0.5, \"#f7f7f7\"], [0.6, \"#e6f5d0\"], [0.7, \"#b8e186\"], [0.8, \"#7fbc41\"], [0.9, \"#4d9221\"], [1, \"#276419\"]], \"sequential\": [[0.0, \"#0d0887\"], [0.1111111111111111, \"#46039f\"], [0.2222222222222222, \"#7201a8\"], [0.3333333333333333, \"#9c179e\"], [0.4444444444444444, \"#bd3786\"], [0.5555555555555556, \"#d8576b\"], [0.6666666666666666, \"#ed7953\"], [0.7777777777777778, \"#fb9f3a\"], [0.8888888888888888, \"#fdca26\"], [1.0, \"#f0f921\"]], \"sequentialminus\": [[0.0, \"#0d0887\"], [0.1111111111111111, \"#46039f\"], [0.2222222222222222, \"#7201a8\"], [0.3333333333333333, \"#9c179e\"], [0.4444444444444444, \"#bd3786\"], [0.5555555555555556, \"#d8576b\"], [0.6666666666666666, \"#ed7953\"], [0.7777777777777778, \"#fb9f3a\"], [0.8888888888888888, \"#fdca26\"], [1.0, \"#f0f921\"]]}, \"colorway\": [\"#636efa\", \"#EF553B\", \"#00cc96\", \"#ab63fa\", \"#FFA15A\", \"#19d3f3\", \"#FF6692\", \"#B6E880\", \"#FF97FF\", \"#FECB52\"], \"font\": {\"color\": \"#2a3f5f\"}, \"geo\": {\"bgcolor\": \"white\", \"lakecolor\": \"white\", \"landcolor\": \"white\", \"showlakes\": true, \"showland\": true, \"subunitcolor\": \"#C8D4E3\"}, \"hoverlabel\": {\"align\": \"left\"}, \"hovermode\": \"closest\", \"mapbox\": {\"style\": \"light\"}, \"paper_bgcolor\": \"white\", \"plot_bgcolor\": \"white\", \"polar\": {\"angularaxis\": {\"gridcolor\": \"#EBF0F8\", \"linecolor\": \"#EBF0F8\", \"ticks\": \"\"}, \"bgcolor\": \"white\", \"radialaxis\": {\"gridcolor\": \"#EBF0F8\", \"linecolor\": \"#EBF0F8\", \"ticks\": \"\"}}, \"scene\": {\"xaxis\": {\"backgroundcolor\": \"white\", \"gridcolor\": \"#DFE8F3\", \"gridwidth\": 2, \"linecolor\": \"#EBF0F8\", \"showbackground\": true, \"ticks\": \"\", \"zerolinecolor\": \"#EBF0F8\"}, \"yaxis\": {\"backgroundcolor\": \"white\", \"gridcolor\": \"#DFE8F3\", \"gridwidth\": 2, \"linecolor\": \"#EBF0F8\", \"showbackground\": true, \"ticks\": \"\", \"zerolinecolor\": \"#EBF0F8\"}, \"zaxis\": {\"backgroundcolor\": \"white\", \"gridcolor\": \"#DFE8F3\", \"gridwidth\": 2, \"linecolor\": \"#EBF0F8\", \"showbackground\": true, \"ticks\": \"\", \"zerolinecolor\": \"#EBF0F8\"}}, \"shapedefaults\": {\"line\": {\"color\": \"#2a3f5f\"}}, \"ternary\": {\"aaxis\": {\"gridcolor\": \"#DFE8F3\", \"linecolor\": \"#A2B1C6\", \"ticks\": \"\"}, \"baxis\": {\"gridcolor\": \"#DFE8F3\", \"linecolor\": \"#A2B1C6\", \"ticks\": \"\"}, \"bgcolor\": \"white\", \"caxis\": {\"gridcolor\": \"#DFE8F3\", \"linecolor\": \"#A2B1C6\", \"ticks\": \"\"}}, \"title\": {\"x\": 0.05}, \"xaxis\": {\"automargin\": true, \"gridcolor\": \"#EBF0F8\", \"linecolor\": \"#EBF0F8\", \"ticks\": \"\", \"title\": {\"standoff\": 15}, \"zerolinecolor\": \"#EBF0F8\", \"zerolinewidth\": 2}, \"yaxis\": {\"automargin\": true, \"gridcolor\": \"#EBF0F8\", \"linecolor\": \"#EBF0F8\", \"ticks\": \"\", \"title\": {\"standoff\": 15}, \"zerolinecolor\": \"#EBF0F8\", \"zerolinewidth\": 2}}}, \"title\": {\"text\": \"Death Count by Gender\"}, \"xaxis\": {\"anchor\": \"y\", \"domain\": [0.0, 1.0], \"title\": {\"text\": \"DEATH_EVENT\"}}, \"yaxis\": {\"anchor\": \"x\", \"domain\": [0.0, 1.0], \"title\": {\"text\": \"count\"}}},\n",
              "                        {\"responsive\": true}\n",
              "                    ).then(function(){\n",
              "                            \n",
              "var gd = document.getElementById('05ee4097-4915-45cc-8917-8f926041d65c');\n",
              "var x = new MutationObserver(function (mutations, observer) {{\n",
              "        var display = window.getComputedStyle(gd).display;\n",
              "        if (!display || display === 'none') {{\n",
              "            console.log([gd, 'removed!']);\n",
              "            Plotly.purge(gd);\n",
              "            observer.disconnect();\n",
              "        }}\n",
              "}});\n",
              "\n",
              "// Listen for the removal of the full notebook cells\n",
              "var notebookContainer = gd.closest('#notebook-container');\n",
              "if (notebookContainer) {{\n",
              "    x.observe(notebookContainer, {childList: true});\n",
              "}}\n",
              "\n",
              "// Listen for the clearing of the current output cell\n",
              "var outputEl = gd.closest('.output');\n",
              "if (outputEl) {{\n",
              "    x.observe(outputEl, {childList: true});\n",
              "}}\n",
              "\n",
              "                        })\n",
              "                };\n",
              "                \n",
              "            </script>\n",
              "        </div>\n",
              "</body>\n",
              "</html>"
            ]
          },
          "metadata": {
            "tags": []
          }
        }
      ]
    },
    {
      "cell_type": "code",
      "metadata": {
        "colab": {
          "base_uri": "https://localhost:8080/",
          "height": 542
        },
        "id": "ZEWMRT84OBiA",
        "outputId": "9aeee2af-9d17-4535-e441-159c64905460"
      },
      "source": [
        "px.bar(df, x = 'DEATH_EVENT', color = 'sex', title='Death Count by Gender', template='plotly_white', barmode='group')"
      ],
      "execution_count": null,
      "outputs": [
        {
          "output_type": "display_data",
          "data": {
            "text/html": [
              "<html>\n",
              "<head><meta charset=\"utf-8\" /></head>\n",
              "<body>\n",
              "    <div>\n",
              "            <script src=\"https://cdnjs.cloudflare.com/ajax/libs/mathjax/2.7.5/MathJax.js?config=TeX-AMS-MML_SVG\"></script><script type=\"text/javascript\">if (window.MathJax) {MathJax.Hub.Config({SVG: {font: \"STIX-Web\"}});}</script>\n",
              "                <script type=\"text/javascript\">window.PlotlyConfig = {MathJaxConfig: 'local'};</script>\n",
              "        <script src=\"https://cdn.plot.ly/plotly-latest.min.js\"></script>    \n",
              "            <div id=\"97d55242-aadb-4eb8-881d-dd7ac70f966e\" class=\"plotly-graph-div\" style=\"height:525px; width:100%;\"></div>\n",
              "            <script type=\"text/javascript\">\n",
              "                \n",
              "                    window.PLOTLYENV=window.PLOTLYENV || {};\n",
              "                    \n",
              "                if (document.getElementById(\"97d55242-aadb-4eb8-881d-dd7ac70f966e\")) {\n",
              "                    Plotly.newPlot(\n",
              "                        '97d55242-aadb-4eb8-881d-dd7ac70f966e',\n",
              "                        [{\"alignmentgroup\": \"True\", \"hoverlabel\": {\"namelength\": 0}, \"hovertemplate\": \"sex=1<br>DEATH_EVENT=%{x}\", \"legendgroup\": \"sex=1\", \"marker\": {\"color\": \"#636efa\"}, \"name\": \"sex=1\", \"offsetgroup\": \"sex=1\", \"orientation\": \"v\", \"showlegend\": true, \"textposition\": \"auto\", \"type\": \"bar\", \"x\": [\"1\", \"1\", \"1\", \"1\", \"1\", \"1\", \"1\", \"1\", \"1\", \"1\", \"1\", \"1\", \"1\", \"1\", \"1\", \"1\", \"0\", \"1\", \"1\", \"1\", \"1\", \"1\", \"1\", \"1\", \"1\", \"1\", \"0\", \"1\", \"1\", \"0\", \"1\", \"1\", \"1\", \"1\", \"1\", \"1\", \"0\", \"0\", \"1\", \"1\", \"1\", \"0\", \"1\", \"1\", \"1\", \"1\", \"0\", \"0\", \"1\", \"0\", \"1\", \"1\", \"0\", \"0\", \"0\", \"0\", \"0\", \"0\", \"0\", \"0\", \"0\", \"0\", \"0\", \"1\", \"0\", \"0\", \"0\", \"0\", \"0\", \"0\", \"0\", \"0\", \"0\", \"0\", \"1\", \"0\", \"0\", \"0\", \"0\", \"1\", \"0\", \"0\", \"0\", \"0\", \"0\", \"0\", \"0\", \"0\", \"0\", \"1\", \"1\", \"0\", \"0\", \"0\", \"1\", \"0\", \"0\", \"0\", \"0\", \"0\", \"0\", \"0\", \"0\", \"0\", \"0\", \"0\", \"1\", \"0\", \"1\", \"0\", \"0\", \"0\", \"0\", \"0\", \"0\", \"0\", \"0\", \"0\", \"0\", \"1\", \"1\", \"1\", \"1\", \"1\", \"0\", \"0\", \"0\", \"1\", \"1\", \"0\", \"0\", \"0\", \"0\", \"0\", \"0\", \"0\", \"0\", \"0\", \"0\", \"0\", \"0\", \"0\", \"1\", \"0\", \"0\", \"0\", \"0\", \"0\", \"0\", \"0\", \"0\", \"0\", \"0\", \"0\", \"0\", \"0\", \"0\", \"0\", \"0\", \"0\", \"0\", \"1\", \"0\", \"0\", \"0\", \"0\", \"0\", \"0\", \"0\", \"0\", \"0\", \"1\", \"0\", \"0\", \"1\", \"0\", \"0\", \"0\", \"0\", \"0\", \"0\", \"0\", \"0\", \"0\", \"0\", \"0\", \"0\", \"0\", \"0\", \"0\", \"0\", \"0\", \"0\", \"0\"], \"xaxis\": \"x\", \"yaxis\": \"y\"}, {\"alignmentgroup\": \"True\", \"hoverlabel\": {\"namelength\": 0}, \"hovertemplate\": \"sex=0<br>DEATH_EVENT=%{x}\", \"legendgroup\": \"sex=0\", \"marker\": {\"color\": \"#EF553B\"}, \"name\": \"sex=0\", \"offsetgroup\": \"sex=0\", \"orientation\": \"v\", \"showlegend\": true, \"textposition\": \"auto\", \"type\": \"bar\", \"x\": [\"1\", \"1\", \"0\", \"1\", \"1\", \"0\", \"1\", \"1\", \"1\", \"1\", \"0\", \"1\", \"1\", \"1\", \"1\", \"1\", \"1\", \"1\", \"1\", \"1\", \"1\", \"0\", \"1\", \"1\", \"0\", \"0\", \"0\", \"1\", \"1\", \"0\", \"0\", \"0\", \"0\", \"0\", \"0\", \"1\", \"1\", \"0\", \"0\", \"0\", \"0\", \"1\", \"0\", \"0\", \"0\", \"0\", \"1\", \"0\", \"0\", \"0\", \"0\", \"0\", \"0\", \"0\", \"1\", \"0\", \"0\", \"1\", \"1\", \"0\", \"0\", \"0\", \"1\", \"1\", \"0\", \"0\", \"0\", \"0\", \"0\", \"0\", \"0\", \"0\", \"0\", \"0\", \"1\", \"0\", \"1\", \"0\", \"0\", \"0\", \"0\", \"1\", \"0\", \"0\", \"0\", \"0\", \"0\", \"0\", \"0\", \"0\", \"0\", \"0\", \"0\", \"0\", \"0\", \"0\", \"0\", \"0\", \"0\", \"0\", \"0\", \"0\", \"0\", \"0\", \"0\"], \"xaxis\": \"x\", \"yaxis\": \"y\"}],\n",
              "                        {\"barmode\": \"group\", \"legend\": {\"tracegroupgap\": 0}, \"template\": {\"data\": {\"bar\": [{\"error_x\": {\"color\": \"#2a3f5f\"}, \"error_y\": {\"color\": \"#2a3f5f\"}, \"marker\": {\"line\": {\"color\": \"white\", \"width\": 0.5}}, \"type\": \"bar\"}], \"barpolar\": [{\"marker\": {\"line\": {\"color\": \"white\", \"width\": 0.5}}, \"type\": \"barpolar\"}], \"carpet\": [{\"aaxis\": {\"endlinecolor\": \"#2a3f5f\", \"gridcolor\": \"#C8D4E3\", \"linecolor\": \"#C8D4E3\", \"minorgridcolor\": \"#C8D4E3\", \"startlinecolor\": \"#2a3f5f\"}, \"baxis\": {\"endlinecolor\": \"#2a3f5f\", \"gridcolor\": \"#C8D4E3\", \"linecolor\": \"#C8D4E3\", \"minorgridcolor\": \"#C8D4E3\", \"startlinecolor\": \"#2a3f5f\"}, \"type\": \"carpet\"}], \"choropleth\": [{\"colorbar\": {\"outlinewidth\": 0, \"ticks\": \"\"}, \"type\": \"choropleth\"}], \"contour\": [{\"colorbar\": {\"outlinewidth\": 0, \"ticks\": \"\"}, \"colorscale\": [[0.0, \"#0d0887\"], [0.1111111111111111, \"#46039f\"], [0.2222222222222222, \"#7201a8\"], [0.3333333333333333, \"#9c179e\"], [0.4444444444444444, \"#bd3786\"], [0.5555555555555556, \"#d8576b\"], [0.6666666666666666, \"#ed7953\"], [0.7777777777777778, \"#fb9f3a\"], [0.8888888888888888, \"#fdca26\"], [1.0, \"#f0f921\"]], \"type\": \"contour\"}], \"contourcarpet\": [{\"colorbar\": {\"outlinewidth\": 0, \"ticks\": \"\"}, \"type\": \"contourcarpet\"}], \"heatmap\": [{\"colorbar\": {\"outlinewidth\": 0, \"ticks\": \"\"}, \"colorscale\": [[0.0, \"#0d0887\"], [0.1111111111111111, \"#46039f\"], [0.2222222222222222, \"#7201a8\"], [0.3333333333333333, \"#9c179e\"], [0.4444444444444444, \"#bd3786\"], [0.5555555555555556, \"#d8576b\"], [0.6666666666666666, \"#ed7953\"], [0.7777777777777778, \"#fb9f3a\"], [0.8888888888888888, \"#fdca26\"], [1.0, \"#f0f921\"]], \"type\": \"heatmap\"}], \"heatmapgl\": [{\"colorbar\": {\"outlinewidth\": 0, \"ticks\": \"\"}, \"colorscale\": [[0.0, \"#0d0887\"], [0.1111111111111111, \"#46039f\"], [0.2222222222222222, \"#7201a8\"], [0.3333333333333333, \"#9c179e\"], [0.4444444444444444, \"#bd3786\"], [0.5555555555555556, \"#d8576b\"], [0.6666666666666666, \"#ed7953\"], [0.7777777777777778, \"#fb9f3a\"], [0.8888888888888888, \"#fdca26\"], [1.0, \"#f0f921\"]], \"type\": \"heatmapgl\"}], \"histogram\": [{\"marker\": {\"colorbar\": {\"outlinewidth\": 0, \"ticks\": \"\"}}, \"type\": \"histogram\"}], \"histogram2d\": [{\"colorbar\": {\"outlinewidth\": 0, \"ticks\": \"\"}, \"colorscale\": [[0.0, \"#0d0887\"], [0.1111111111111111, \"#46039f\"], [0.2222222222222222, \"#7201a8\"], [0.3333333333333333, \"#9c179e\"], [0.4444444444444444, \"#bd3786\"], [0.5555555555555556, \"#d8576b\"], [0.6666666666666666, \"#ed7953\"], [0.7777777777777778, \"#fb9f3a\"], [0.8888888888888888, \"#fdca26\"], [1.0, \"#f0f921\"]], \"type\": \"histogram2d\"}], \"histogram2dcontour\": [{\"colorbar\": {\"outlinewidth\": 0, \"ticks\": \"\"}, \"colorscale\": [[0.0, \"#0d0887\"], [0.1111111111111111, \"#46039f\"], [0.2222222222222222, \"#7201a8\"], [0.3333333333333333, \"#9c179e\"], [0.4444444444444444, \"#bd3786\"], [0.5555555555555556, \"#d8576b\"], [0.6666666666666666, \"#ed7953\"], [0.7777777777777778, \"#fb9f3a\"], [0.8888888888888888, \"#fdca26\"], [1.0, \"#f0f921\"]], \"type\": \"histogram2dcontour\"}], \"mesh3d\": [{\"colorbar\": {\"outlinewidth\": 0, \"ticks\": \"\"}, \"type\": \"mesh3d\"}], \"parcoords\": [{\"line\": {\"colorbar\": {\"outlinewidth\": 0, \"ticks\": \"\"}}, \"type\": \"parcoords\"}], \"pie\": [{\"automargin\": true, \"type\": \"pie\"}], \"scatter\": [{\"marker\": {\"colorbar\": {\"outlinewidth\": 0, \"ticks\": \"\"}}, \"type\": \"scatter\"}], \"scatter3d\": [{\"line\": {\"colorbar\": {\"outlinewidth\": 0, \"ticks\": \"\"}}, \"marker\": {\"colorbar\": {\"outlinewidth\": 0, \"ticks\": \"\"}}, \"type\": \"scatter3d\"}], \"scattercarpet\": [{\"marker\": {\"colorbar\": {\"outlinewidth\": 0, \"ticks\": \"\"}}, \"type\": \"scattercarpet\"}], \"scattergeo\": [{\"marker\": {\"colorbar\": {\"outlinewidth\": 0, \"ticks\": \"\"}}, \"type\": \"scattergeo\"}], \"scattergl\": [{\"marker\": {\"colorbar\": {\"outlinewidth\": 0, \"ticks\": \"\"}}, \"type\": \"scattergl\"}], \"scattermapbox\": [{\"marker\": {\"colorbar\": {\"outlinewidth\": 0, \"ticks\": \"\"}}, \"type\": \"scattermapbox\"}], \"scatterpolar\": [{\"marker\": {\"colorbar\": {\"outlinewidth\": 0, \"ticks\": \"\"}}, \"type\": \"scatterpolar\"}], \"scatterpolargl\": [{\"marker\": {\"colorbar\": {\"outlinewidth\": 0, \"ticks\": \"\"}}, \"type\": \"scatterpolargl\"}], \"scatterternary\": [{\"marker\": {\"colorbar\": {\"outlinewidth\": 0, \"ticks\": \"\"}}, \"type\": \"scatterternary\"}], \"surface\": [{\"colorbar\": {\"outlinewidth\": 0, \"ticks\": \"\"}, \"colorscale\": [[0.0, \"#0d0887\"], [0.1111111111111111, \"#46039f\"], [0.2222222222222222, \"#7201a8\"], [0.3333333333333333, \"#9c179e\"], [0.4444444444444444, \"#bd3786\"], [0.5555555555555556, \"#d8576b\"], [0.6666666666666666, \"#ed7953\"], [0.7777777777777778, \"#fb9f3a\"], [0.8888888888888888, \"#fdca26\"], [1.0, \"#f0f921\"]], \"type\": \"surface\"}], \"table\": [{\"cells\": {\"fill\": {\"color\": \"#EBF0F8\"}, \"line\": {\"color\": \"white\"}}, \"header\": {\"fill\": {\"color\": \"#C8D4E3\"}, \"line\": {\"color\": \"white\"}}, \"type\": \"table\"}]}, \"layout\": {\"annotationdefaults\": {\"arrowcolor\": \"#2a3f5f\", \"arrowhead\": 0, \"arrowwidth\": 1}, \"coloraxis\": {\"colorbar\": {\"outlinewidth\": 0, \"ticks\": \"\"}}, \"colorscale\": {\"diverging\": [[0, \"#8e0152\"], [0.1, \"#c51b7d\"], [0.2, \"#de77ae\"], [0.3, \"#f1b6da\"], [0.4, \"#fde0ef\"], [0.5, \"#f7f7f7\"], [0.6, \"#e6f5d0\"], [0.7, \"#b8e186\"], [0.8, \"#7fbc41\"], [0.9, \"#4d9221\"], [1, \"#276419\"]], \"sequential\": [[0.0, \"#0d0887\"], [0.1111111111111111, \"#46039f\"], [0.2222222222222222, \"#7201a8\"], [0.3333333333333333, \"#9c179e\"], [0.4444444444444444, \"#bd3786\"], [0.5555555555555556, \"#d8576b\"], [0.6666666666666666, \"#ed7953\"], [0.7777777777777778, \"#fb9f3a\"], [0.8888888888888888, \"#fdca26\"], [1.0, \"#f0f921\"]], \"sequentialminus\": [[0.0, \"#0d0887\"], [0.1111111111111111, \"#46039f\"], [0.2222222222222222, \"#7201a8\"], [0.3333333333333333, \"#9c179e\"], [0.4444444444444444, \"#bd3786\"], [0.5555555555555556, \"#d8576b\"], [0.6666666666666666, \"#ed7953\"], [0.7777777777777778, \"#fb9f3a\"], [0.8888888888888888, \"#fdca26\"], [1.0, \"#f0f921\"]]}, \"colorway\": [\"#636efa\", \"#EF553B\", \"#00cc96\", \"#ab63fa\", \"#FFA15A\", \"#19d3f3\", \"#FF6692\", \"#B6E880\", \"#FF97FF\", \"#FECB52\"], \"font\": {\"color\": \"#2a3f5f\"}, \"geo\": {\"bgcolor\": \"white\", \"lakecolor\": \"white\", \"landcolor\": \"white\", \"showlakes\": true, \"showland\": true, \"subunitcolor\": \"#C8D4E3\"}, \"hoverlabel\": {\"align\": \"left\"}, \"hovermode\": \"closest\", \"mapbox\": {\"style\": \"light\"}, \"paper_bgcolor\": \"white\", \"plot_bgcolor\": \"white\", \"polar\": {\"angularaxis\": {\"gridcolor\": \"#EBF0F8\", \"linecolor\": \"#EBF0F8\", \"ticks\": \"\"}, \"bgcolor\": \"white\", \"radialaxis\": {\"gridcolor\": \"#EBF0F8\", \"linecolor\": \"#EBF0F8\", \"ticks\": \"\"}}, \"scene\": {\"xaxis\": {\"backgroundcolor\": \"white\", \"gridcolor\": \"#DFE8F3\", \"gridwidth\": 2, \"linecolor\": \"#EBF0F8\", \"showbackground\": true, \"ticks\": \"\", \"zerolinecolor\": \"#EBF0F8\"}, \"yaxis\": {\"backgroundcolor\": \"white\", \"gridcolor\": \"#DFE8F3\", \"gridwidth\": 2, \"linecolor\": \"#EBF0F8\", \"showbackground\": true, \"ticks\": \"\", \"zerolinecolor\": \"#EBF0F8\"}, \"zaxis\": {\"backgroundcolor\": \"white\", \"gridcolor\": \"#DFE8F3\", \"gridwidth\": 2, \"linecolor\": \"#EBF0F8\", \"showbackground\": true, \"ticks\": \"\", \"zerolinecolor\": \"#EBF0F8\"}}, \"shapedefaults\": {\"line\": {\"color\": \"#2a3f5f\"}}, \"ternary\": {\"aaxis\": {\"gridcolor\": \"#DFE8F3\", \"linecolor\": \"#A2B1C6\", \"ticks\": \"\"}, \"baxis\": {\"gridcolor\": \"#DFE8F3\", \"linecolor\": \"#A2B1C6\", \"ticks\": \"\"}, \"bgcolor\": \"white\", \"caxis\": {\"gridcolor\": \"#DFE8F3\", \"linecolor\": \"#A2B1C6\", \"ticks\": \"\"}}, \"title\": {\"x\": 0.05}, \"xaxis\": {\"automargin\": true, \"gridcolor\": \"#EBF0F8\", \"linecolor\": \"#EBF0F8\", \"ticks\": \"\", \"title\": {\"standoff\": 15}, \"zerolinecolor\": \"#EBF0F8\", \"zerolinewidth\": 2}, \"yaxis\": {\"automargin\": true, \"gridcolor\": \"#EBF0F8\", \"linecolor\": \"#EBF0F8\", \"ticks\": \"\", \"title\": {\"standoff\": 15}, \"zerolinecolor\": \"#EBF0F8\", \"zerolinewidth\": 2}}}, \"title\": {\"text\": \"Death Count by Gender\"}, \"xaxis\": {\"anchor\": \"y\", \"domain\": [0.0, 1.0], \"title\": {\"text\": \"DEATH_EVENT\"}}, \"yaxis\": {\"anchor\": \"x\", \"domain\": [0.0, 1.0]}},\n",
              "                        {\"responsive\": true}\n",
              "                    ).then(function(){\n",
              "                            \n",
              "var gd = document.getElementById('97d55242-aadb-4eb8-881d-dd7ac70f966e');\n",
              "var x = new MutationObserver(function (mutations, observer) {{\n",
              "        var display = window.getComputedStyle(gd).display;\n",
              "        if (!display || display === 'none') {{\n",
              "            console.log([gd, 'removed!']);\n",
              "            Plotly.purge(gd);\n",
              "            observer.disconnect();\n",
              "        }}\n",
              "}});\n",
              "\n",
              "// Listen for the removal of the full notebook cells\n",
              "var notebookContainer = gd.closest('#notebook-container');\n",
              "if (notebookContainer) {{\n",
              "    x.observe(notebookContainer, {childList: true});\n",
              "}}\n",
              "\n",
              "// Listen for the clearing of the current output cell\n",
              "var outputEl = gd.closest('.output');\n",
              "if (outputEl) {{\n",
              "    x.observe(outputEl, {childList: true});\n",
              "}}\n",
              "\n",
              "                        })\n",
              "                };\n",
              "                \n",
              "            </script>\n",
              "        </div>\n",
              "</body>\n",
              "</html>"
            ]
          },
          "metadata": {
            "tags": []
          }
        }
      ]
    },
    {
      "cell_type": "code",
      "metadata": {
        "colab": {
          "base_uri": "https://localhost:8080/",
          "height": 542
        },
        "id": "yu52Esi7N8lL",
        "outputId": "a2d7d280-8212-4a36-acf6-f898e3a145b2"
      },
      "source": [
        "px.histogram(df, x = 'DEATH_EVENT', color = 'sex', title='Death Count by Gender', template='plotly_white')"
      ],
      "execution_count": null,
      "outputs": [
        {
          "output_type": "display_data",
          "data": {
            "text/html": [
              "<html>\n",
              "<head><meta charset=\"utf-8\" /></head>\n",
              "<body>\n",
              "    <div>\n",
              "            <script src=\"https://cdnjs.cloudflare.com/ajax/libs/mathjax/2.7.5/MathJax.js?config=TeX-AMS-MML_SVG\"></script><script type=\"text/javascript\">if (window.MathJax) {MathJax.Hub.Config({SVG: {font: \"STIX-Web\"}});}</script>\n",
              "                <script type=\"text/javascript\">window.PlotlyConfig = {MathJaxConfig: 'local'};</script>\n",
              "        <script src=\"https://cdn.plot.ly/plotly-latest.min.js\"></script>    \n",
              "            <div id=\"e1f7f52d-03c8-4540-b91a-60d555b792d4\" class=\"plotly-graph-div\" style=\"height:525px; width:100%;\"></div>\n",
              "            <script type=\"text/javascript\">\n",
              "                \n",
              "                    window.PLOTLYENV=window.PLOTLYENV || {};\n",
              "                    \n",
              "                if (document.getElementById(\"e1f7f52d-03c8-4540-b91a-60d555b792d4\")) {\n",
              "                    Plotly.newPlot(\n",
              "                        'e1f7f52d-03c8-4540-b91a-60d555b792d4',\n",
              "                        [{\"alignmentgroup\": \"True\", \"bingroup\": \"x\", \"hoverlabel\": {\"namelength\": 0}, \"hovertemplate\": \"sex=1<br>DEATH_EVENT=%{x}<br>count=%{y}\", \"legendgroup\": \"sex=1\", \"marker\": {\"color\": \"#636efa\"}, \"name\": \"sex=1\", \"offsetgroup\": \"sex=1\", \"orientation\": \"v\", \"showlegend\": true, \"type\": \"histogram\", \"x\": [\"1\", \"1\", \"1\", \"1\", \"1\", \"1\", \"1\", \"1\", \"1\", \"1\", \"1\", \"1\", \"1\", \"1\", \"1\", \"1\", \"0\", \"1\", \"1\", \"1\", \"1\", \"1\", \"1\", \"1\", \"1\", \"1\", \"0\", \"1\", \"1\", \"0\", \"1\", \"1\", \"1\", \"1\", \"1\", \"1\", \"0\", \"0\", \"1\", \"1\", \"1\", \"0\", \"1\", \"1\", \"1\", \"1\", \"0\", \"0\", \"1\", \"0\", \"1\", \"1\", \"0\", \"0\", \"0\", \"0\", \"0\", \"0\", \"0\", \"0\", \"0\", \"0\", \"0\", \"1\", \"0\", \"0\", \"0\", \"0\", \"0\", \"0\", \"0\", \"0\", \"0\", \"0\", \"1\", \"0\", \"0\", \"0\", \"0\", \"1\", \"0\", \"0\", \"0\", \"0\", \"0\", \"0\", \"0\", \"0\", \"0\", \"1\", \"1\", \"0\", \"0\", \"0\", \"1\", \"0\", \"0\", \"0\", \"0\", \"0\", \"0\", \"0\", \"0\", \"0\", \"0\", \"0\", \"1\", \"0\", \"1\", \"0\", \"0\", \"0\", \"0\", \"0\", \"0\", \"0\", \"0\", \"0\", \"0\", \"1\", \"1\", \"1\", \"1\", \"1\", \"0\", \"0\", \"0\", \"1\", \"1\", \"0\", \"0\", \"0\", \"0\", \"0\", \"0\", \"0\", \"0\", \"0\", \"0\", \"0\", \"0\", \"0\", \"1\", \"0\", \"0\", \"0\", \"0\", \"0\", \"0\", \"0\", \"0\", \"0\", \"0\", \"0\", \"0\", \"0\", \"0\", \"0\", \"0\", \"0\", \"0\", \"1\", \"0\", \"0\", \"0\", \"0\", \"0\", \"0\", \"0\", \"0\", \"0\", \"1\", \"0\", \"0\", \"1\", \"0\", \"0\", \"0\", \"0\", \"0\", \"0\", \"0\", \"0\", \"0\", \"0\", \"0\", \"0\", \"0\", \"0\", \"0\", \"0\", \"0\", \"0\", \"0\"], \"xaxis\": \"x\", \"yaxis\": \"y\"}, {\"alignmentgroup\": \"True\", \"bingroup\": \"x\", \"hoverlabel\": {\"namelength\": 0}, \"hovertemplate\": \"sex=0<br>DEATH_EVENT=%{x}<br>count=%{y}\", \"legendgroup\": \"sex=0\", \"marker\": {\"color\": \"#EF553B\"}, \"name\": \"sex=0\", \"offsetgroup\": \"sex=0\", \"orientation\": \"v\", \"showlegend\": true, \"type\": \"histogram\", \"x\": [\"1\", \"1\", \"0\", \"1\", \"1\", \"0\", \"1\", \"1\", \"1\", \"1\", \"0\", \"1\", \"1\", \"1\", \"1\", \"1\", \"1\", \"1\", \"1\", \"1\", \"1\", \"0\", \"1\", \"1\", \"0\", \"0\", \"0\", \"1\", \"1\", \"0\", \"0\", \"0\", \"0\", \"0\", \"0\", \"1\", \"1\", \"0\", \"0\", \"0\", \"0\", \"1\", \"0\", \"0\", \"0\", \"0\", \"1\", \"0\", \"0\", \"0\", \"0\", \"0\", \"0\", \"0\", \"1\", \"0\", \"0\", \"1\", \"1\", \"0\", \"0\", \"0\", \"1\", \"1\", \"0\", \"0\", \"0\", \"0\", \"0\", \"0\", \"0\", \"0\", \"0\", \"0\", \"1\", \"0\", \"1\", \"0\", \"0\", \"0\", \"0\", \"1\", \"0\", \"0\", \"0\", \"0\", \"0\", \"0\", \"0\", \"0\", \"0\", \"0\", \"0\", \"0\", \"0\", \"0\", \"0\", \"0\", \"0\", \"0\", \"0\", \"0\", \"0\", \"0\", \"0\"], \"xaxis\": \"x\", \"yaxis\": \"y\"}],\n",
              "                        {\"barmode\": \"relative\", \"legend\": {\"tracegroupgap\": 0}, \"template\": {\"data\": {\"bar\": [{\"error_x\": {\"color\": \"#2a3f5f\"}, \"error_y\": {\"color\": \"#2a3f5f\"}, \"marker\": {\"line\": {\"color\": \"white\", \"width\": 0.5}}, \"type\": \"bar\"}], \"barpolar\": [{\"marker\": {\"line\": {\"color\": \"white\", \"width\": 0.5}}, \"type\": \"barpolar\"}], \"carpet\": [{\"aaxis\": {\"endlinecolor\": \"#2a3f5f\", \"gridcolor\": \"#C8D4E3\", \"linecolor\": \"#C8D4E3\", \"minorgridcolor\": \"#C8D4E3\", \"startlinecolor\": \"#2a3f5f\"}, \"baxis\": {\"endlinecolor\": \"#2a3f5f\", \"gridcolor\": \"#C8D4E3\", \"linecolor\": \"#C8D4E3\", \"minorgridcolor\": \"#C8D4E3\", \"startlinecolor\": \"#2a3f5f\"}, \"type\": \"carpet\"}], \"choropleth\": [{\"colorbar\": {\"outlinewidth\": 0, \"ticks\": \"\"}, \"type\": \"choropleth\"}], \"contour\": [{\"colorbar\": {\"outlinewidth\": 0, \"ticks\": \"\"}, \"colorscale\": [[0.0, \"#0d0887\"], [0.1111111111111111, \"#46039f\"], [0.2222222222222222, \"#7201a8\"], [0.3333333333333333, \"#9c179e\"], [0.4444444444444444, \"#bd3786\"], [0.5555555555555556, \"#d8576b\"], [0.6666666666666666, \"#ed7953\"], [0.7777777777777778, \"#fb9f3a\"], [0.8888888888888888, \"#fdca26\"], [1.0, \"#f0f921\"]], \"type\": \"contour\"}], \"contourcarpet\": [{\"colorbar\": {\"outlinewidth\": 0, \"ticks\": \"\"}, \"type\": \"contourcarpet\"}], \"heatmap\": [{\"colorbar\": {\"outlinewidth\": 0, \"ticks\": \"\"}, \"colorscale\": [[0.0, \"#0d0887\"], [0.1111111111111111, \"#46039f\"], [0.2222222222222222, \"#7201a8\"], [0.3333333333333333, \"#9c179e\"], [0.4444444444444444, \"#bd3786\"], [0.5555555555555556, \"#d8576b\"], [0.6666666666666666, \"#ed7953\"], [0.7777777777777778, \"#fb9f3a\"], [0.8888888888888888, \"#fdca26\"], [1.0, \"#f0f921\"]], \"type\": \"heatmap\"}], \"heatmapgl\": [{\"colorbar\": {\"outlinewidth\": 0, \"ticks\": \"\"}, \"colorscale\": [[0.0, \"#0d0887\"], [0.1111111111111111, \"#46039f\"], [0.2222222222222222, \"#7201a8\"], [0.3333333333333333, \"#9c179e\"], [0.4444444444444444, \"#bd3786\"], [0.5555555555555556, \"#d8576b\"], [0.6666666666666666, \"#ed7953\"], [0.7777777777777778, \"#fb9f3a\"], [0.8888888888888888, \"#fdca26\"], [1.0, \"#f0f921\"]], \"type\": \"heatmapgl\"}], \"histogram\": [{\"marker\": {\"colorbar\": {\"outlinewidth\": 0, \"ticks\": \"\"}}, \"type\": \"histogram\"}], \"histogram2d\": [{\"colorbar\": {\"outlinewidth\": 0, \"ticks\": \"\"}, \"colorscale\": [[0.0, \"#0d0887\"], [0.1111111111111111, \"#46039f\"], [0.2222222222222222, \"#7201a8\"], [0.3333333333333333, \"#9c179e\"], [0.4444444444444444, \"#bd3786\"], [0.5555555555555556, \"#d8576b\"], [0.6666666666666666, \"#ed7953\"], [0.7777777777777778, \"#fb9f3a\"], [0.8888888888888888, \"#fdca26\"], [1.0, \"#f0f921\"]], \"type\": \"histogram2d\"}], \"histogram2dcontour\": [{\"colorbar\": {\"outlinewidth\": 0, \"ticks\": \"\"}, \"colorscale\": [[0.0, \"#0d0887\"], [0.1111111111111111, \"#46039f\"], [0.2222222222222222, \"#7201a8\"], [0.3333333333333333, \"#9c179e\"], [0.4444444444444444, \"#bd3786\"], [0.5555555555555556, \"#d8576b\"], [0.6666666666666666, \"#ed7953\"], [0.7777777777777778, \"#fb9f3a\"], [0.8888888888888888, \"#fdca26\"], [1.0, \"#f0f921\"]], \"type\": \"histogram2dcontour\"}], \"mesh3d\": [{\"colorbar\": {\"outlinewidth\": 0, \"ticks\": \"\"}, \"type\": \"mesh3d\"}], \"parcoords\": [{\"line\": {\"colorbar\": {\"outlinewidth\": 0, \"ticks\": \"\"}}, \"type\": \"parcoords\"}], \"pie\": [{\"automargin\": true, \"type\": \"pie\"}], \"scatter\": [{\"marker\": {\"colorbar\": {\"outlinewidth\": 0, \"ticks\": \"\"}}, \"type\": \"scatter\"}], \"scatter3d\": [{\"line\": {\"colorbar\": {\"outlinewidth\": 0, \"ticks\": \"\"}}, \"marker\": {\"colorbar\": {\"outlinewidth\": 0, \"ticks\": \"\"}}, \"type\": \"scatter3d\"}], \"scattercarpet\": [{\"marker\": {\"colorbar\": {\"outlinewidth\": 0, \"ticks\": \"\"}}, \"type\": \"scattercarpet\"}], \"scattergeo\": [{\"marker\": {\"colorbar\": {\"outlinewidth\": 0, \"ticks\": \"\"}}, \"type\": \"scattergeo\"}], \"scattergl\": [{\"marker\": {\"colorbar\": {\"outlinewidth\": 0, \"ticks\": \"\"}}, \"type\": \"scattergl\"}], \"scattermapbox\": [{\"marker\": {\"colorbar\": {\"outlinewidth\": 0, \"ticks\": \"\"}}, \"type\": \"scattermapbox\"}], \"scatterpolar\": [{\"marker\": {\"colorbar\": {\"outlinewidth\": 0, \"ticks\": \"\"}}, \"type\": \"scatterpolar\"}], \"scatterpolargl\": [{\"marker\": {\"colorbar\": {\"outlinewidth\": 0, \"ticks\": \"\"}}, \"type\": \"scatterpolargl\"}], \"scatterternary\": [{\"marker\": {\"colorbar\": {\"outlinewidth\": 0, \"ticks\": \"\"}}, \"type\": \"scatterternary\"}], \"surface\": [{\"colorbar\": {\"outlinewidth\": 0, \"ticks\": \"\"}, \"colorscale\": [[0.0, \"#0d0887\"], [0.1111111111111111, \"#46039f\"], [0.2222222222222222, \"#7201a8\"], [0.3333333333333333, \"#9c179e\"], [0.4444444444444444, \"#bd3786\"], [0.5555555555555556, \"#d8576b\"], [0.6666666666666666, \"#ed7953\"], [0.7777777777777778, \"#fb9f3a\"], [0.8888888888888888, \"#fdca26\"], [1.0, \"#f0f921\"]], \"type\": \"surface\"}], \"table\": [{\"cells\": {\"fill\": {\"color\": \"#EBF0F8\"}, \"line\": {\"color\": \"white\"}}, \"header\": {\"fill\": {\"color\": \"#C8D4E3\"}, \"line\": {\"color\": \"white\"}}, \"type\": \"table\"}]}, \"layout\": {\"annotationdefaults\": {\"arrowcolor\": \"#2a3f5f\", \"arrowhead\": 0, \"arrowwidth\": 1}, \"coloraxis\": {\"colorbar\": {\"outlinewidth\": 0, \"ticks\": \"\"}}, \"colorscale\": {\"diverging\": [[0, \"#8e0152\"], [0.1, \"#c51b7d\"], [0.2, \"#de77ae\"], [0.3, \"#f1b6da\"], [0.4, \"#fde0ef\"], [0.5, \"#f7f7f7\"], [0.6, \"#e6f5d0\"], [0.7, \"#b8e186\"], [0.8, \"#7fbc41\"], [0.9, \"#4d9221\"], [1, \"#276419\"]], \"sequential\": [[0.0, \"#0d0887\"], [0.1111111111111111, \"#46039f\"], [0.2222222222222222, \"#7201a8\"], [0.3333333333333333, \"#9c179e\"], [0.4444444444444444, \"#bd3786\"], [0.5555555555555556, \"#d8576b\"], [0.6666666666666666, \"#ed7953\"], [0.7777777777777778, \"#fb9f3a\"], [0.8888888888888888, \"#fdca26\"], [1.0, \"#f0f921\"]], \"sequentialminus\": [[0.0, \"#0d0887\"], [0.1111111111111111, \"#46039f\"], [0.2222222222222222, \"#7201a8\"], [0.3333333333333333, \"#9c179e\"], [0.4444444444444444, \"#bd3786\"], [0.5555555555555556, \"#d8576b\"], [0.6666666666666666, \"#ed7953\"], [0.7777777777777778, \"#fb9f3a\"], [0.8888888888888888, \"#fdca26\"], [1.0, \"#f0f921\"]]}, \"colorway\": [\"#636efa\", \"#EF553B\", \"#00cc96\", \"#ab63fa\", \"#FFA15A\", \"#19d3f3\", \"#FF6692\", \"#B6E880\", \"#FF97FF\", \"#FECB52\"], \"font\": {\"color\": \"#2a3f5f\"}, \"geo\": {\"bgcolor\": \"white\", \"lakecolor\": \"white\", \"landcolor\": \"white\", \"showlakes\": true, \"showland\": true, \"subunitcolor\": \"#C8D4E3\"}, \"hoverlabel\": {\"align\": \"left\"}, \"hovermode\": \"closest\", \"mapbox\": {\"style\": \"light\"}, \"paper_bgcolor\": \"white\", \"plot_bgcolor\": \"white\", \"polar\": {\"angularaxis\": {\"gridcolor\": \"#EBF0F8\", \"linecolor\": \"#EBF0F8\", \"ticks\": \"\"}, \"bgcolor\": \"white\", \"radialaxis\": {\"gridcolor\": \"#EBF0F8\", \"linecolor\": \"#EBF0F8\", \"ticks\": \"\"}}, \"scene\": {\"xaxis\": {\"backgroundcolor\": \"white\", \"gridcolor\": \"#DFE8F3\", \"gridwidth\": 2, \"linecolor\": \"#EBF0F8\", \"showbackground\": true, \"ticks\": \"\", \"zerolinecolor\": \"#EBF0F8\"}, \"yaxis\": {\"backgroundcolor\": \"white\", \"gridcolor\": \"#DFE8F3\", \"gridwidth\": 2, \"linecolor\": \"#EBF0F8\", \"showbackground\": true, \"ticks\": \"\", \"zerolinecolor\": \"#EBF0F8\"}, \"zaxis\": {\"backgroundcolor\": \"white\", \"gridcolor\": \"#DFE8F3\", \"gridwidth\": 2, \"linecolor\": \"#EBF0F8\", \"showbackground\": true, \"ticks\": \"\", \"zerolinecolor\": \"#EBF0F8\"}}, \"shapedefaults\": {\"line\": {\"color\": \"#2a3f5f\"}}, \"ternary\": {\"aaxis\": {\"gridcolor\": \"#DFE8F3\", \"linecolor\": \"#A2B1C6\", \"ticks\": \"\"}, \"baxis\": {\"gridcolor\": \"#DFE8F3\", \"linecolor\": \"#A2B1C6\", \"ticks\": \"\"}, \"bgcolor\": \"white\", \"caxis\": {\"gridcolor\": \"#DFE8F3\", \"linecolor\": \"#A2B1C6\", \"ticks\": \"\"}}, \"title\": {\"x\": 0.05}, \"xaxis\": {\"automargin\": true, \"gridcolor\": \"#EBF0F8\", \"linecolor\": \"#EBF0F8\", \"ticks\": \"\", \"title\": {\"standoff\": 15}, \"zerolinecolor\": \"#EBF0F8\", \"zerolinewidth\": 2}, \"yaxis\": {\"automargin\": true, \"gridcolor\": \"#EBF0F8\", \"linecolor\": \"#EBF0F8\", \"ticks\": \"\", \"title\": {\"standoff\": 15}, \"zerolinecolor\": \"#EBF0F8\", \"zerolinewidth\": 2}}}, \"title\": {\"text\": \"Death Count by Gender\"}, \"xaxis\": {\"anchor\": \"y\", \"domain\": [0.0, 1.0], \"title\": {\"text\": \"DEATH_EVENT\"}}, \"yaxis\": {\"anchor\": \"x\", \"domain\": [0.0, 1.0], \"title\": {\"text\": \"count\"}}},\n",
              "                        {\"responsive\": true}\n",
              "                    ).then(function(){\n",
              "                            \n",
              "var gd = document.getElementById('e1f7f52d-03c8-4540-b91a-60d555b792d4');\n",
              "var x = new MutationObserver(function (mutations, observer) {{\n",
              "        var display = window.getComputedStyle(gd).display;\n",
              "        if (!display || display === 'none') {{\n",
              "            console.log([gd, 'removed!']);\n",
              "            Plotly.purge(gd);\n",
              "            observer.disconnect();\n",
              "        }}\n",
              "}});\n",
              "\n",
              "// Listen for the removal of the full notebook cells\n",
              "var notebookContainer = gd.closest('#notebook-container');\n",
              "if (notebookContainer) {{\n",
              "    x.observe(notebookContainer, {childList: true});\n",
              "}}\n",
              "\n",
              "// Listen for the clearing of the current output cell\n",
              "var outputEl = gd.closest('.output');\n",
              "if (outputEl) {{\n",
              "    x.observe(outputEl, {childList: true});\n",
              "}}\n",
              "\n",
              "                        })\n",
              "                };\n",
              "                \n",
              "            </script>\n",
              "        </div>\n",
              "</body>\n",
              "</html>"
            ]
          },
          "metadata": {
            "tags": []
          }
        }
      ]
    },
    {
      "cell_type": "markdown",
      "metadata": {
        "id": "wEDvPW5i6wmd"
      },
      "source": [
        "#Find all information for each gender with high blood pressure"
      ]
    },
    {
      "cell_type": "code",
      "metadata": {
        "colab": {
          "base_uri": "https://localhost:8080/",
          "height": 195
        },
        "id": "GcyGlLfe2MFS",
        "outputId": "5172113e-6b1d-4d6c-b16f-f85105bb5cbc"
      },
      "source": [
        "df.groupby(['sex', 'high_blood_pressure']).agg('count')"
      ],
      "execution_count": null,
      "outputs": [
        {
          "output_type": "execute_result",
          "data": {
            "text/html": [
              "<div>\n",
              "<style scoped>\n",
              "    .dataframe tbody tr th:only-of-type {\n",
              "        vertical-align: middle;\n",
              "    }\n",
              "\n",
              "    .dataframe tbody tr th {\n",
              "        vertical-align: top;\n",
              "    }\n",
              "\n",
              "    .dataframe thead th {\n",
              "        text-align: right;\n",
              "    }\n",
              "</style>\n",
              "<table border=\"1\" class=\"dataframe\">\n",
              "  <thead>\n",
              "    <tr style=\"text-align: right;\">\n",
              "      <th></th>\n",
              "      <th></th>\n",
              "      <th>age</th>\n",
              "      <th>anaemia</th>\n",
              "      <th>creatinine_phosphokinase</th>\n",
              "      <th>diabetes</th>\n",
              "      <th>ejection_fraction</th>\n",
              "      <th>platelets</th>\n",
              "      <th>serum_creatinine</th>\n",
              "      <th>serum_sodium</th>\n",
              "      <th>smoking</th>\n",
              "      <th>time</th>\n",
              "      <th>DEATH_EVENT</th>\n",
              "    </tr>\n",
              "    <tr>\n",
              "      <th>sex</th>\n",
              "      <th>high_blood_pressure</th>\n",
              "      <th></th>\n",
              "      <th></th>\n",
              "      <th></th>\n",
              "      <th></th>\n",
              "      <th></th>\n",
              "      <th></th>\n",
              "      <th></th>\n",
              "      <th></th>\n",
              "      <th></th>\n",
              "      <th></th>\n",
              "      <th></th>\n",
              "    </tr>\n",
              "  </thead>\n",
              "  <tbody>\n",
              "    <tr>\n",
              "      <th rowspan=\"2\" valign=\"top\">0</th>\n",
              "      <th>0</th>\n",
              "      <td>61</td>\n",
              "      <td>61</td>\n",
              "      <td>61</td>\n",
              "      <td>61</td>\n",
              "      <td>61</td>\n",
              "      <td>61</td>\n",
              "      <td>61</td>\n",
              "      <td>61</td>\n",
              "      <td>61</td>\n",
              "      <td>61</td>\n",
              "      <td>61</td>\n",
              "    </tr>\n",
              "    <tr>\n",
              "      <th>1</th>\n",
              "      <td>44</td>\n",
              "      <td>44</td>\n",
              "      <td>44</td>\n",
              "      <td>44</td>\n",
              "      <td>44</td>\n",
              "      <td>44</td>\n",
              "      <td>44</td>\n",
              "      <td>44</td>\n",
              "      <td>44</td>\n",
              "      <td>44</td>\n",
              "      <td>44</td>\n",
              "    </tr>\n",
              "    <tr>\n",
              "      <th rowspan=\"2\" valign=\"top\">1</th>\n",
              "      <th>0</th>\n",
              "      <td>133</td>\n",
              "      <td>133</td>\n",
              "      <td>133</td>\n",
              "      <td>133</td>\n",
              "      <td>133</td>\n",
              "      <td>133</td>\n",
              "      <td>133</td>\n",
              "      <td>133</td>\n",
              "      <td>133</td>\n",
              "      <td>133</td>\n",
              "      <td>133</td>\n",
              "    </tr>\n",
              "    <tr>\n",
              "      <th>1</th>\n",
              "      <td>61</td>\n",
              "      <td>61</td>\n",
              "      <td>61</td>\n",
              "      <td>61</td>\n",
              "      <td>61</td>\n",
              "      <td>61</td>\n",
              "      <td>61</td>\n",
              "      <td>61</td>\n",
              "      <td>61</td>\n",
              "      <td>61</td>\n",
              "      <td>61</td>\n",
              "    </tr>\n",
              "  </tbody>\n",
              "</table>\n",
              "</div>"
            ],
            "text/plain": [
              "0                        age  anaemia  ...  time  DEATH_EVENT\n",
              "sex high_blood_pressure                ...                   \n",
              "0   0                     61       61  ...    61           61\n",
              "    1                     44       44  ...    44           44\n",
              "1   0                    133      133  ...   133          133\n",
              "    1                     61       61  ...    61           61\n",
              "\n",
              "[4 rows x 11 columns]"
            ]
          },
          "metadata": {
            "tags": []
          },
          "execution_count": 17
        }
      ]
    },
    {
      "cell_type": "code",
      "metadata": {
        "colab": {
          "base_uri": "https://localhost:8080/",
          "height": 254
        },
        "id": "XJe3kse-2vJj",
        "outputId": "5c9330a5-a34d-4476-dcd1-672d4c1ea49d"
      },
      "source": [
        "pd.pivot_table(df, index=['sex',  'high_blood_pressure'], values = ['diabetes'],aggfunc=['count'], margins=True, margins_name='Total')"
      ],
      "execution_count": null,
      "outputs": [
        {
          "output_type": "execute_result",
          "data": {
            "text/html": [
              "<div>\n",
              "<style scoped>\n",
              "    .dataframe tbody tr th:only-of-type {\n",
              "        vertical-align: middle;\n",
              "    }\n",
              "\n",
              "    .dataframe tbody tr th {\n",
              "        vertical-align: top;\n",
              "    }\n",
              "\n",
              "    .dataframe thead tr th {\n",
              "        text-align: left;\n",
              "    }\n",
              "\n",
              "    .dataframe thead tr:last-of-type th {\n",
              "        text-align: right;\n",
              "    }\n",
              "</style>\n",
              "<table border=\"1\" class=\"dataframe\">\n",
              "  <thead>\n",
              "    <tr>\n",
              "      <th></th>\n",
              "      <th></th>\n",
              "      <th>count</th>\n",
              "    </tr>\n",
              "    <tr>\n",
              "      <th></th>\n",
              "      <th></th>\n",
              "      <th>diabetes</th>\n",
              "    </tr>\n",
              "    <tr>\n",
              "      <th>sex</th>\n",
              "      <th>high_blood_pressure</th>\n",
              "      <th></th>\n",
              "    </tr>\n",
              "  </thead>\n",
              "  <tbody>\n",
              "    <tr>\n",
              "      <th rowspan=\"2\" valign=\"top\">0</th>\n",
              "      <th>0</th>\n",
              "      <td>61</td>\n",
              "    </tr>\n",
              "    <tr>\n",
              "      <th>1</th>\n",
              "      <td>44</td>\n",
              "    </tr>\n",
              "    <tr>\n",
              "      <th rowspan=\"2\" valign=\"top\">1</th>\n",
              "      <th>0</th>\n",
              "      <td>133</td>\n",
              "    </tr>\n",
              "    <tr>\n",
              "      <th>1</th>\n",
              "      <td>61</td>\n",
              "    </tr>\n",
              "    <tr>\n",
              "      <th>Total</th>\n",
              "      <th></th>\n",
              "      <td>299</td>\n",
              "    </tr>\n",
              "  </tbody>\n",
              "</table>\n",
              "</div>"
            ],
            "text/plain": [
              "                             count\n",
              "0                         diabetes\n",
              "sex   high_blood_pressure         \n",
              "0     0                         61\n",
              "      1                         44\n",
              "1     0                        133\n",
              "      1                         61\n",
              "Total                          299"
            ]
          },
          "metadata": {
            "tags": []
          },
          "execution_count": 18
        }
      ]
    },
    {
      "cell_type": "markdown",
      "metadata": {
        "id": "LJpGrEFqV1nW"
      },
      "source": [
        "#Death Event for sex/HBP/diabetes"
      ]
    },
    {
      "cell_type": "code",
      "metadata": {
        "colab": {
          "base_uri": "https://localhost:8080/",
          "height": 373
        },
        "id": "NOsTVaLzVgCk",
        "outputId": "50be8082-b2a4-4b90-eb78-cf797b7a600b"
      },
      "source": [
        "pd.pivot_table(df, index=['sex',  'high_blood_pressure', 'diabetes'], values = ['DEATH_EVENT'],aggfunc=['count'], margins=True, margins_name='Total')"
      ],
      "execution_count": null,
      "outputs": [
        {
          "output_type": "execute_result",
          "data": {
            "text/html": [
              "<div>\n",
              "<style scoped>\n",
              "    .dataframe tbody tr th:only-of-type {\n",
              "        vertical-align: middle;\n",
              "    }\n",
              "\n",
              "    .dataframe tbody tr th {\n",
              "        vertical-align: top;\n",
              "    }\n",
              "\n",
              "    .dataframe thead tr th {\n",
              "        text-align: left;\n",
              "    }\n",
              "\n",
              "    .dataframe thead tr:last-of-type th {\n",
              "        text-align: right;\n",
              "    }\n",
              "</style>\n",
              "<table border=\"1\" class=\"dataframe\">\n",
              "  <thead>\n",
              "    <tr>\n",
              "      <th></th>\n",
              "      <th></th>\n",
              "      <th></th>\n",
              "      <th>count</th>\n",
              "    </tr>\n",
              "    <tr>\n",
              "      <th></th>\n",
              "      <th></th>\n",
              "      <th></th>\n",
              "      <th>DEATH_EVENT</th>\n",
              "    </tr>\n",
              "    <tr>\n",
              "      <th>sex</th>\n",
              "      <th>high_blood_pressure</th>\n",
              "      <th>diabetes</th>\n",
              "      <th></th>\n",
              "    </tr>\n",
              "  </thead>\n",
              "  <tbody>\n",
              "    <tr>\n",
              "      <th rowspan=\"4\" valign=\"top\">0</th>\n",
              "      <th rowspan=\"2\" valign=\"top\">0</th>\n",
              "      <th>0</th>\n",
              "      <td>28</td>\n",
              "    </tr>\n",
              "    <tr>\n",
              "      <th>1</th>\n",
              "      <td>33</td>\n",
              "    </tr>\n",
              "    <tr>\n",
              "      <th rowspan=\"2\" valign=\"top\">1</th>\n",
              "      <th>0</th>\n",
              "      <td>22</td>\n",
              "    </tr>\n",
              "    <tr>\n",
              "      <th>1</th>\n",
              "      <td>22</td>\n",
              "    </tr>\n",
              "    <tr>\n",
              "      <th rowspan=\"4\" valign=\"top\">1</th>\n",
              "      <th rowspan=\"2\" valign=\"top\">0</th>\n",
              "      <th>0</th>\n",
              "      <td>84</td>\n",
              "    </tr>\n",
              "    <tr>\n",
              "      <th>1</th>\n",
              "      <td>49</td>\n",
              "    </tr>\n",
              "    <tr>\n",
              "      <th rowspan=\"2\" valign=\"top\">1</th>\n",
              "      <th>0</th>\n",
              "      <td>40</td>\n",
              "    </tr>\n",
              "    <tr>\n",
              "      <th>1</th>\n",
              "      <td>21</td>\n",
              "    </tr>\n",
              "    <tr>\n",
              "      <th>Total</th>\n",
              "      <th></th>\n",
              "      <th></th>\n",
              "      <td>299</td>\n",
              "    </tr>\n",
              "  </tbody>\n",
              "</table>\n",
              "</div>"
            ],
            "text/plain": [
              "                                         count\n",
              "0                                  DEATH_EVENT\n",
              "sex   high_blood_pressure diabetes            \n",
              "0     0                   0                 28\n",
              "                          1                 33\n",
              "      1                   0                 22\n",
              "                          1                 22\n",
              "1     0                   0                 84\n",
              "                          1                 49\n",
              "      1                   0                 40\n",
              "                          1                 21\n",
              "Total                                      299"
            ]
          },
          "metadata": {
            "tags": []
          },
          "execution_count": 19
        }
      ]
    },
    {
      "cell_type": "markdown",
      "metadata": {
        "id": "DQJtBXt0lO_Q"
      },
      "source": [
        "#Density heat map sex/HBP/diabetes/death_event"
      ]
    },
    {
      "cell_type": "code",
      "metadata": {
        "colab": {
          "base_uri": "https://localhost:8080/",
          "height": 542
        },
        "id": "aH2GMcmrbGpB",
        "outputId": "4c6e351d-2cdc-4afb-e5a9-4bbcce0e95a5"
      },
      "source": [
        "fig = px.density_heatmap(df, x = 'sex', y = 'diabetes', title='Density Heat map', facet_col='high_blood_pressure', facet_row= 'DEATH_EVENT')\n",
        "fig.show()"
      ],
      "execution_count": null,
      "outputs": [
        {
          "output_type": "display_data",
          "data": {
            "text/html": [
              "<html>\n",
              "<head><meta charset=\"utf-8\" /></head>\n",
              "<body>\n",
              "    <div>\n",
              "            <script src=\"https://cdnjs.cloudflare.com/ajax/libs/mathjax/2.7.5/MathJax.js?config=TeX-AMS-MML_SVG\"></script><script type=\"text/javascript\">if (window.MathJax) {MathJax.Hub.Config({SVG: {font: \"STIX-Web\"}});}</script>\n",
              "                <script type=\"text/javascript\">window.PlotlyConfig = {MathJaxConfig: 'local'};</script>\n",
              "        <script src=\"https://cdn.plot.ly/plotly-latest.min.js\"></script>    \n",
              "            <div id=\"140388ea-dc95-4092-84d5-5b77082c9290\" class=\"plotly-graph-div\" style=\"height:525px; width:100%;\"></div>\n",
              "            <script type=\"text/javascript\">\n",
              "                \n",
              "                    window.PLOTLYENV=window.PLOTLYENV || {};\n",
              "                    \n",
              "                if (document.getElementById(\"140388ea-dc95-4092-84d5-5b77082c9290\")) {\n",
              "                    Plotly.newPlot(\n",
              "                        '140388ea-dc95-4092-84d5-5b77082c9290',\n",
              "                        [{\"coloraxis\": \"coloraxis\", \"hoverlabel\": {\"namelength\": 0}, \"hovertemplate\": \"DEATH_EVENT=1<br>high_blood_pressure=1<br>sex=%{x}<br>diabetes=%{y}<br>count=%{z}\", \"name\": \"\", \"type\": \"histogram2d\", \"x\": [\"1\", \"1\", \"1\", \"1\", \"1\", \"1\", \"0\", \"0\", \"1\", \"0\", \"0\", \"1\", \"1\", \"0\", \"1\", \"0\", \"1\", \"0\", \"1\", \"1\", \"1\", \"1\", \"1\", \"0\", \"0\", \"1\", \"1\", \"1\", \"0\", \"0\", \"0\", \"0\", \"1\", \"0\", \"0\", \"1\", \"1\", \"0\", \"0\"], \"xaxis\": \"x3\", \"xbingroup\": \"x\", \"y\": [\"0\", \"0\", \"0\", \"0\", \"0\", \"0\", \"0\", \"1\", \"0\", \"1\", \"0\", \"1\", \"1\", \"1\", \"1\", \"1\", \"0\", \"1\", \"1\", \"0\", \"1\", \"0\", \"0\", \"0\", \"1\", \"0\", \"1\", \"1\", \"0\", \"1\", \"0\", \"1\", \"0\", \"0\", \"1\", \"0\", \"0\", \"1\", \"0\"], \"yaxis\": \"y3\", \"ybingroup\": \"y\"}, {\"coloraxis\": \"coloraxis\", \"hoverlabel\": {\"namelength\": 0}, \"hovertemplate\": \"DEATH_EVENT=1<br>high_blood_pressure=0<br>sex=%{x}<br>diabetes=%{y}<br>count=%{z}\", \"name\": \"\", \"type\": \"histogram2d\", \"x\": [\"1\", \"1\", \"1\", \"0\", \"1\", \"1\", \"0\", \"1\", \"1\", \"1\", \"1\", \"0\", \"1\", \"1\", \"1\", \"1\", \"1\", \"1\", \"0\", \"0\", \"1\", \"0\", \"0\", \"0\", \"1\", \"1\", \"1\", \"0\", \"1\", \"0\", \"1\", \"1\", \"1\", \"1\", \"0\", \"1\", \"1\", \"0\", \"0\", \"1\", \"1\", \"1\", \"0\", \"1\", \"1\", \"1\", \"1\", \"1\", \"1\", \"0\", \"0\", \"1\", \"1\", \"0\", \"1\", \"1\", \"1\"], \"xaxis\": \"x4\", \"xbingroup\": \"x\", \"y\": [\"0\", \"0\", \"0\", \"1\", \"0\", \"1\", \"0\", \"0\", \"0\", \"0\", \"0\", \"1\", \"1\", \"0\", \"1\", \"0\", \"1\", \"1\", \"1\", \"1\", \"1\", \"0\", \"1\", \"1\", \"0\", \"0\", \"0\", \"1\", \"0\", \"0\", \"1\", \"0\", \"0\", \"0\", \"1\", \"0\", \"0\", \"0\", \"0\", \"0\", \"0\", \"0\", \"1\", \"1\", \"1\", \"1\", \"1\", \"0\", \"1\", \"0\", \"1\", \"0\", \"0\", \"0\", \"0\", \"1\", \"0\"], \"yaxis\": \"y4\", \"ybingroup\": \"y\"}, {\"coloraxis\": \"coloraxis\", \"hoverlabel\": {\"namelength\": 0}, \"hovertemplate\": \"DEATH_EVENT=0<br>high_blood_pressure=1<br>sex=%{x}<br>diabetes=%{y}<br>count=%{z}\", \"name\": \"\", \"type\": \"histogram2d\", \"x\": [\"0\", \"0\", \"1\", \"0\", \"1\", \"0\", \"1\", \"1\", \"1\", \"1\", \"1\", \"0\", \"1\", \"1\", \"0\", \"1\", \"0\", \"1\", \"0\", \"0\", \"1\", \"0\", \"0\", \"1\", \"1\", \"0\", \"1\", \"1\", \"0\", \"1\", \"1\", \"1\", \"0\", \"1\", \"1\", \"0\", \"1\", \"1\", \"0\", \"0\", \"0\", \"0\", \"1\", \"1\", \"1\", \"0\", \"1\", \"1\", \"1\", \"1\", \"0\", \"0\", \"1\", \"1\", \"1\", \"0\", \"0\", \"0\", \"1\", \"0\", \"1\", \"1\", \"1\", \"1\", \"0\", \"1\"], \"xaxis\": \"x\", \"xbingroup\": \"x\", \"y\": [\"0\", \"0\", \"1\", \"0\", \"1\", \"0\", \"0\", \"0\", \"1\", \"1\", \"0\", \"1\", \"0\", \"1\", \"1\", \"0\", \"0\", \"1\", \"1\", \"1\", \"0\", \"1\", \"0\", \"0\", \"0\", \"0\", \"0\", \"0\", \"0\", \"0\", \"1\", \"0\", \"0\", \"0\", \"0\", \"0\", \"0\", \"1\", \"1\", \"0\", \"1\", \"1\", \"1\", \"0\", \"0\", \"1\", \"1\", \"0\", \"0\", \"0\", \"0\", \"1\", \"0\", \"0\", \"0\", \"1\", \"0\", \"0\", \"0\", \"1\", \"0\", \"1\", \"1\", \"1\", \"0\", \"1\"], \"yaxis\": \"y\", \"ybingroup\": \"y\"}, {\"coloraxis\": \"coloraxis\", \"hoverlabel\": {\"namelength\": 0}, \"hovertemplate\": \"DEATH_EVENT=0<br>high_blood_pressure=0<br>sex=%{x}<br>diabetes=%{y}<br>count=%{z}\", \"name\": \"\", \"type\": \"histogram2d\", \"x\": [\"1\", \"0\", \"1\", \"1\", \"1\", \"1\", \"0\", \"1\", \"1\", \"1\", \"1\", \"0\", \"1\", \"1\", \"1\", \"1\", \"0\", \"0\", \"0\", \"1\", \"1\", \"1\", \"1\", \"1\", \"1\", \"1\", \"1\", \"1\", \"0\", \"0\", \"0\", \"0\", \"0\", \"1\", \"1\", \"1\", \"1\", \"0\", \"1\", \"0\", \"0\", \"0\", \"1\", \"1\", \"1\", \"1\", \"1\", \"0\", \"1\", \"1\", \"1\", \"1\", \"1\", \"0\", \"1\", \"1\", \"1\", \"1\", \"1\", \"0\", \"1\", \"1\", \"1\", \"1\", \"0\", \"1\", \"1\", \"0\", \"1\", \"1\", \"1\", \"0\", \"0\", \"1\", \"0\", \"1\", \"1\", \"1\", \"1\", \"1\", \"1\", \"0\", \"1\", \"0\", \"0\", \"1\", \"1\", \"1\", \"1\", \"1\", \"0\", \"1\", \"1\", \"1\", \"1\", \"1\", \"1\", \"1\", \"0\", \"0\", \"0\", \"1\", \"1\", \"1\", \"0\", \"0\", \"1\", \"1\", \"1\", \"0\", \"1\", \"0\", \"0\", \"1\", \"1\", \"0\", \"1\", \"0\", \"0\", \"1\", \"1\", \"1\", \"1\", \"1\", \"1\", \"1\", \"0\", \"0\", \"0\", \"0\", \"1\", \"1\", \"1\", \"0\", \"0\", \"1\", \"1\"], \"xaxis\": \"x2\", \"xbingroup\": \"x\", \"y\": [\"1\", \"1\", \"1\", \"0\", \"0\", \"0\", \"0\", \"0\", \"1\", \"1\", \"1\", \"0\", \"0\", \"0\", \"1\", \"1\", \"0\", \"0\", \"1\", \"0\", \"0\", \"0\", \"0\", \"1\", \"0\", \"1\", \"0\", \"1\", \"0\", \"0\", \"1\", \"0\", \"1\", \"1\", \"1\", \"0\", \"0\", \"1\", \"0\", \"1\", \"0\", \"1\", \"0\", \"0\", \"0\", \"1\", \"1\", \"0\", \"0\", \"0\", \"0\", \"0\", \"0\", \"1\", \"1\", \"0\", \"0\", \"0\", \"0\", \"0\", \"1\", \"0\", \"1\", \"1\", \"0\", \"1\", \"1\", \"0\", \"1\", \"0\", \"0\", \"1\", \"0\", \"0\", \"1\", \"0\", \"1\", \"0\", \"0\", \"0\", \"1\", \"1\", \"0\", \"0\", \"0\", \"0\", \"0\", \"0\", \"0\", \"0\", \"1\", \"0\", \"1\", \"0\", \"1\", \"1\", \"0\", \"0\", \"1\", \"1\", \"0\", \"1\", \"0\", \"0\", \"0\", \"1\", \"1\", \"0\", \"1\", \"1\", \"1\", \"1\", \"0\", \"0\", \"1\", \"0\", \"1\", \"1\", \"1\", \"1\", \"0\", \"0\", \"0\", \"0\", \"1\", \"0\", \"1\", \"1\", \"0\", \"1\", \"0\", \"1\", \"1\", \"0\", \"1\", \"0\", \"0\"], \"yaxis\": \"y2\", \"ybingroup\": \"y\"}],\n",
              "                        {\"annotations\": [{\"font\": {}, \"showarrow\": false, \"text\": \"high_blood_pressure=1\", \"x\": 0.24, \"xanchor\": \"center\", \"xref\": \"paper\", \"y\": 1.0, \"yanchor\": \"bottom\", \"yref\": \"paper\"}, {\"font\": {}, \"showarrow\": false, \"text\": \"high_blood_pressure=0\", \"x\": 0.74, \"xanchor\": \"center\", \"xref\": \"paper\", \"y\": 1.0, \"yanchor\": \"bottom\", \"yref\": \"paper\"}, {\"font\": {}, \"showarrow\": false, \"text\": \"DEATH_EVENT=0\", \"textangle\": 90, \"x\": 0.98, \"xanchor\": \"left\", \"xref\": \"paper\", \"y\": 0.2425, \"yanchor\": \"middle\", \"yref\": \"paper\"}, {\"font\": {}, \"showarrow\": false, \"text\": \"DEATH_EVENT=1\", \"textangle\": 90, \"x\": 0.98, \"xanchor\": \"left\", \"xref\": \"paper\", \"y\": 0.7575000000000001, \"yanchor\": \"middle\", \"yref\": \"paper\"}], \"coloraxis\": {\"colorbar\": {\"title\": {\"text\": \"count\"}}, \"colorscale\": [[0.0, \"#0d0887\"], [0.1111111111111111, \"#46039f\"], [0.2222222222222222, \"#7201a8\"], [0.3333333333333333, \"#9c179e\"], [0.4444444444444444, \"#bd3786\"], [0.5555555555555556, \"#d8576b\"], [0.6666666666666666, \"#ed7953\"], [0.7777777777777778, \"#fb9f3a\"], [0.8888888888888888, \"#fdca26\"], [1.0, \"#f0f921\"]]}, \"legend\": {\"tracegroupgap\": 0}, \"template\": {\"data\": {\"bar\": [{\"error_x\": {\"color\": \"#2a3f5f\"}, \"error_y\": {\"color\": \"#2a3f5f\"}, \"marker\": {\"line\": {\"color\": \"#E5ECF6\", \"width\": 0.5}}, \"type\": \"bar\"}], \"barpolar\": [{\"marker\": {\"line\": {\"color\": \"#E5ECF6\", \"width\": 0.5}}, \"type\": \"barpolar\"}], \"carpet\": [{\"aaxis\": {\"endlinecolor\": \"#2a3f5f\", \"gridcolor\": \"white\", \"linecolor\": \"white\", \"minorgridcolor\": \"white\", \"startlinecolor\": \"#2a3f5f\"}, \"baxis\": {\"endlinecolor\": \"#2a3f5f\", \"gridcolor\": \"white\", \"linecolor\": \"white\", \"minorgridcolor\": \"white\", \"startlinecolor\": \"#2a3f5f\"}, \"type\": \"carpet\"}], \"choropleth\": [{\"colorbar\": {\"outlinewidth\": 0, \"ticks\": \"\"}, \"type\": \"choropleth\"}], \"contour\": [{\"colorbar\": {\"outlinewidth\": 0, \"ticks\": \"\"}, \"colorscale\": [[0.0, \"#0d0887\"], [0.1111111111111111, \"#46039f\"], [0.2222222222222222, \"#7201a8\"], [0.3333333333333333, \"#9c179e\"], [0.4444444444444444, \"#bd3786\"], [0.5555555555555556, \"#d8576b\"], [0.6666666666666666, \"#ed7953\"], [0.7777777777777778, \"#fb9f3a\"], [0.8888888888888888, \"#fdca26\"], [1.0, \"#f0f921\"]], \"type\": \"contour\"}], \"contourcarpet\": [{\"colorbar\": {\"outlinewidth\": 0, \"ticks\": \"\"}, \"type\": \"contourcarpet\"}], \"heatmap\": [{\"colorbar\": {\"outlinewidth\": 0, \"ticks\": \"\"}, \"colorscale\": [[0.0, \"#0d0887\"], [0.1111111111111111, \"#46039f\"], [0.2222222222222222, \"#7201a8\"], [0.3333333333333333, \"#9c179e\"], [0.4444444444444444, \"#bd3786\"], [0.5555555555555556, \"#d8576b\"], [0.6666666666666666, \"#ed7953\"], [0.7777777777777778, \"#fb9f3a\"], [0.8888888888888888, \"#fdca26\"], [1.0, \"#f0f921\"]], \"type\": \"heatmap\"}], \"heatmapgl\": [{\"colorbar\": {\"outlinewidth\": 0, \"ticks\": \"\"}, \"colorscale\": [[0.0, \"#0d0887\"], [0.1111111111111111, \"#46039f\"], [0.2222222222222222, \"#7201a8\"], [0.3333333333333333, \"#9c179e\"], [0.4444444444444444, \"#bd3786\"], [0.5555555555555556, \"#d8576b\"], [0.6666666666666666, \"#ed7953\"], [0.7777777777777778, \"#fb9f3a\"], [0.8888888888888888, \"#fdca26\"], [1.0, \"#f0f921\"]], \"type\": \"heatmapgl\"}], \"histogram\": [{\"marker\": {\"colorbar\": {\"outlinewidth\": 0, \"ticks\": \"\"}}, \"type\": \"histogram\"}], \"histogram2d\": [{\"colorbar\": {\"outlinewidth\": 0, \"ticks\": \"\"}, \"colorscale\": [[0.0, \"#0d0887\"], [0.1111111111111111, \"#46039f\"], [0.2222222222222222, \"#7201a8\"], [0.3333333333333333, \"#9c179e\"], [0.4444444444444444, \"#bd3786\"], [0.5555555555555556, \"#d8576b\"], [0.6666666666666666, \"#ed7953\"], [0.7777777777777778, \"#fb9f3a\"], [0.8888888888888888, \"#fdca26\"], [1.0, \"#f0f921\"]], \"type\": \"histogram2d\"}], \"histogram2dcontour\": [{\"colorbar\": {\"outlinewidth\": 0, \"ticks\": \"\"}, \"colorscale\": [[0.0, \"#0d0887\"], [0.1111111111111111, \"#46039f\"], [0.2222222222222222, \"#7201a8\"], [0.3333333333333333, \"#9c179e\"], [0.4444444444444444, \"#bd3786\"], [0.5555555555555556, \"#d8576b\"], [0.6666666666666666, \"#ed7953\"], [0.7777777777777778, \"#fb9f3a\"], [0.8888888888888888, \"#fdca26\"], [1.0, \"#f0f921\"]], \"type\": \"histogram2dcontour\"}], \"mesh3d\": [{\"colorbar\": {\"outlinewidth\": 0, \"ticks\": \"\"}, \"type\": \"mesh3d\"}], \"parcoords\": [{\"line\": {\"colorbar\": {\"outlinewidth\": 0, \"ticks\": \"\"}}, \"type\": \"parcoords\"}], \"pie\": [{\"automargin\": true, \"type\": \"pie\"}], \"scatter\": [{\"marker\": {\"colorbar\": {\"outlinewidth\": 0, \"ticks\": \"\"}}, \"type\": \"scatter\"}], \"scatter3d\": [{\"line\": {\"colorbar\": {\"outlinewidth\": 0, \"ticks\": \"\"}}, \"marker\": {\"colorbar\": {\"outlinewidth\": 0, \"ticks\": \"\"}}, \"type\": \"scatter3d\"}], \"scattercarpet\": [{\"marker\": {\"colorbar\": {\"outlinewidth\": 0, \"ticks\": \"\"}}, \"type\": \"scattercarpet\"}], \"scattergeo\": [{\"marker\": {\"colorbar\": {\"outlinewidth\": 0, \"ticks\": \"\"}}, \"type\": \"scattergeo\"}], \"scattergl\": [{\"marker\": {\"colorbar\": {\"outlinewidth\": 0, \"ticks\": \"\"}}, \"type\": \"scattergl\"}], \"scattermapbox\": [{\"marker\": {\"colorbar\": {\"outlinewidth\": 0, \"ticks\": \"\"}}, \"type\": \"scattermapbox\"}], \"scatterpolar\": [{\"marker\": {\"colorbar\": {\"outlinewidth\": 0, \"ticks\": \"\"}}, \"type\": \"scatterpolar\"}], \"scatterpolargl\": [{\"marker\": {\"colorbar\": {\"outlinewidth\": 0, \"ticks\": \"\"}}, \"type\": \"scatterpolargl\"}], \"scatterternary\": [{\"marker\": {\"colorbar\": {\"outlinewidth\": 0, \"ticks\": \"\"}}, \"type\": \"scatterternary\"}], \"surface\": [{\"colorbar\": {\"outlinewidth\": 0, \"ticks\": \"\"}, \"colorscale\": [[0.0, \"#0d0887\"], [0.1111111111111111, \"#46039f\"], [0.2222222222222222, \"#7201a8\"], [0.3333333333333333, \"#9c179e\"], [0.4444444444444444, \"#bd3786\"], [0.5555555555555556, \"#d8576b\"], [0.6666666666666666, \"#ed7953\"], [0.7777777777777778, \"#fb9f3a\"], [0.8888888888888888, \"#fdca26\"], [1.0, \"#f0f921\"]], \"type\": \"surface\"}], \"table\": [{\"cells\": {\"fill\": {\"color\": \"#EBF0F8\"}, \"line\": {\"color\": \"white\"}}, \"header\": {\"fill\": {\"color\": \"#C8D4E3\"}, \"line\": {\"color\": \"white\"}}, \"type\": \"table\"}]}, \"layout\": {\"annotationdefaults\": {\"arrowcolor\": \"#2a3f5f\", \"arrowhead\": 0, \"arrowwidth\": 1}, \"coloraxis\": {\"colorbar\": {\"outlinewidth\": 0, \"ticks\": \"\"}}, \"colorscale\": {\"diverging\": [[0, \"#8e0152\"], [0.1, \"#c51b7d\"], [0.2, \"#de77ae\"], [0.3, \"#f1b6da\"], [0.4, \"#fde0ef\"], [0.5, \"#f7f7f7\"], [0.6, \"#e6f5d0\"], [0.7, \"#b8e186\"], [0.8, \"#7fbc41\"], [0.9, \"#4d9221\"], [1, \"#276419\"]], \"sequential\": [[0.0, \"#0d0887\"], [0.1111111111111111, \"#46039f\"], [0.2222222222222222, \"#7201a8\"], [0.3333333333333333, \"#9c179e\"], [0.4444444444444444, \"#bd3786\"], [0.5555555555555556, \"#d8576b\"], [0.6666666666666666, \"#ed7953\"], [0.7777777777777778, \"#fb9f3a\"], [0.8888888888888888, \"#fdca26\"], [1.0, \"#f0f921\"]], \"sequentialminus\": [[0.0, \"#0d0887\"], [0.1111111111111111, \"#46039f\"], [0.2222222222222222, \"#7201a8\"], [0.3333333333333333, \"#9c179e\"], [0.4444444444444444, \"#bd3786\"], [0.5555555555555556, \"#d8576b\"], [0.6666666666666666, \"#ed7953\"], [0.7777777777777778, \"#fb9f3a\"], [0.8888888888888888, \"#fdca26\"], [1.0, \"#f0f921\"]]}, \"colorway\": [\"#636efa\", \"#EF553B\", \"#00cc96\", \"#ab63fa\", \"#FFA15A\", \"#19d3f3\", \"#FF6692\", \"#B6E880\", \"#FF97FF\", \"#FECB52\"], \"font\": {\"color\": \"#2a3f5f\"}, \"geo\": {\"bgcolor\": \"white\", \"lakecolor\": \"white\", \"landcolor\": \"#E5ECF6\", \"showlakes\": true, \"showland\": true, \"subunitcolor\": \"white\"}, \"hoverlabel\": {\"align\": \"left\"}, \"hovermode\": \"closest\", \"mapbox\": {\"style\": \"light\"}, \"paper_bgcolor\": \"white\", \"plot_bgcolor\": \"#E5ECF6\", \"polar\": {\"angularaxis\": {\"gridcolor\": \"white\", \"linecolor\": \"white\", \"ticks\": \"\"}, \"bgcolor\": \"#E5ECF6\", \"radialaxis\": {\"gridcolor\": \"white\", \"linecolor\": \"white\", \"ticks\": \"\"}}, \"scene\": {\"xaxis\": {\"backgroundcolor\": \"#E5ECF6\", \"gridcolor\": \"white\", \"gridwidth\": 2, \"linecolor\": \"white\", \"showbackground\": true, \"ticks\": \"\", \"zerolinecolor\": \"white\"}, \"yaxis\": {\"backgroundcolor\": \"#E5ECF6\", \"gridcolor\": \"white\", \"gridwidth\": 2, \"linecolor\": \"white\", \"showbackground\": true, \"ticks\": \"\", \"zerolinecolor\": \"white\"}, \"zaxis\": {\"backgroundcolor\": \"#E5ECF6\", \"gridcolor\": \"white\", \"gridwidth\": 2, \"linecolor\": \"white\", \"showbackground\": true, \"ticks\": \"\", \"zerolinecolor\": \"white\"}}, \"shapedefaults\": {\"line\": {\"color\": \"#2a3f5f\"}}, \"ternary\": {\"aaxis\": {\"gridcolor\": \"white\", \"linecolor\": \"white\", \"ticks\": \"\"}, \"baxis\": {\"gridcolor\": \"white\", \"linecolor\": \"white\", \"ticks\": \"\"}, \"bgcolor\": \"#E5ECF6\", \"caxis\": {\"gridcolor\": \"white\", \"linecolor\": \"white\", \"ticks\": \"\"}}, \"title\": {\"x\": 0.05}, \"xaxis\": {\"automargin\": true, \"gridcolor\": \"white\", \"linecolor\": \"white\", \"ticks\": \"\", \"title\": {\"standoff\": 15}, \"zerolinecolor\": \"white\", \"zerolinewidth\": 2}, \"yaxis\": {\"automargin\": true, \"gridcolor\": \"white\", \"linecolor\": \"white\", \"ticks\": \"\", \"title\": {\"standoff\": 15}, \"zerolinecolor\": \"white\", \"zerolinewidth\": 2}}}, \"title\": {\"text\": \"Density Heat map\"}, \"xaxis\": {\"anchor\": \"y\", \"domain\": [0.0, 0.48], \"title\": {\"text\": \"sex\"}}, \"xaxis2\": {\"anchor\": \"y2\", \"domain\": [0.5, 0.98], \"matches\": \"x\", \"title\": {\"text\": \"sex\"}}, \"xaxis3\": {\"anchor\": \"y3\", \"domain\": [0.0, 0.48], \"matches\": \"x\", \"showticklabels\": false}, \"xaxis4\": {\"anchor\": \"y4\", \"domain\": [0.5, 0.98], \"matches\": \"x\", \"showticklabels\": false}, \"yaxis\": {\"anchor\": \"x\", \"domain\": [0.0, 0.485], \"title\": {\"text\": \"diabetes\"}}, \"yaxis2\": {\"anchor\": \"x2\", \"domain\": [0.0, 0.485], \"matches\": \"y\", \"showticklabels\": false}, \"yaxis3\": {\"anchor\": \"x3\", \"domain\": [0.515, 1.0], \"matches\": \"y\", \"title\": {\"text\": \"diabetes\"}}, \"yaxis4\": {\"anchor\": \"x4\", \"domain\": [0.515, 1.0], \"matches\": \"y\", \"showticklabels\": false}},\n",
              "                        {\"responsive\": true}\n",
              "                    ).then(function(){\n",
              "                            \n",
              "var gd = document.getElementById('140388ea-dc95-4092-84d5-5b77082c9290');\n",
              "var x = new MutationObserver(function (mutations, observer) {{\n",
              "        var display = window.getComputedStyle(gd).display;\n",
              "        if (!display || display === 'none') {{\n",
              "            console.log([gd, 'removed!']);\n",
              "            Plotly.purge(gd);\n",
              "            observer.disconnect();\n",
              "        }}\n",
              "}});\n",
              "\n",
              "// Listen for the removal of the full notebook cells\n",
              "var notebookContainer = gd.closest('#notebook-container');\n",
              "if (notebookContainer) {{\n",
              "    x.observe(notebookContainer, {childList: true});\n",
              "}}\n",
              "\n",
              "// Listen for the clearing of the current output cell\n",
              "var outputEl = gd.closest('.output');\n",
              "if (outputEl) {{\n",
              "    x.observe(outputEl, {childList: true});\n",
              "}}\n",
              "\n",
              "                        })\n",
              "                };\n",
              "                \n",
              "            </script>\n",
              "        </div>\n",
              "</body>\n",
              "</html>"
            ]
          },
          "metadata": {
            "tags": []
          }
        }
      ]
    },
    {
      "cell_type": "code",
      "metadata": {
        "id": "c8e3WLGIlTkC"
      },
      "source": [
        ""
      ],
      "execution_count": null,
      "outputs": []
    },
    {
      "cell_type": "code",
      "metadata": {
        "id": "ubxrYVapbHR4"
      },
      "source": [
        ""
      ],
      "execution_count": null,
      "outputs": []
    },
    {
      "cell_type": "code",
      "metadata": {
        "colab": {
          "base_uri": "https://localhost:8080/",
          "height": 542
        },
        "id": "a0ysIpOcJ3Ic",
        "outputId": "5d3d3776-24dc-4632-8191-d6789315c0b6"
      },
      "source": [
        "px.histogram(df, x = 'sex',  color = 'diabetes', title = 'count_Diabetes(No = 0, Yes = 1)')"
      ],
      "execution_count": null,
      "outputs": [
        {
          "output_type": "display_data",
          "data": {
            "text/html": [
              "<html>\n",
              "<head><meta charset=\"utf-8\" /></head>\n",
              "<body>\n",
              "    <div>\n",
              "            <script src=\"https://cdnjs.cloudflare.com/ajax/libs/mathjax/2.7.5/MathJax.js?config=TeX-AMS-MML_SVG\"></script><script type=\"text/javascript\">if (window.MathJax) {MathJax.Hub.Config({SVG: {font: \"STIX-Web\"}});}</script>\n",
              "                <script type=\"text/javascript\">window.PlotlyConfig = {MathJaxConfig: 'local'};</script>\n",
              "        <script src=\"https://cdn.plot.ly/plotly-latest.min.js\"></script>    \n",
              "            <div id=\"6b017d3a-8a4a-4a49-a2e2-fc77132f6d2b\" class=\"plotly-graph-div\" style=\"height:525px; width:100%;\"></div>\n",
              "            <script type=\"text/javascript\">\n",
              "                \n",
              "                    window.PLOTLYENV=window.PLOTLYENV || {};\n",
              "                    \n",
              "                if (document.getElementById(\"6b017d3a-8a4a-4a49-a2e2-fc77132f6d2b\")) {\n",
              "                    Plotly.newPlot(\n",
              "                        '6b017d3a-8a4a-4a49-a2e2-fc77132f6d2b',\n",
              "                        [{\"alignmentgroup\": \"True\", \"bingroup\": \"x\", \"hoverlabel\": {\"namelength\": 0}, \"hovertemplate\": \"diabetes=0<br>sex=%{x}<br>count=%{y}\", \"legendgroup\": \"diabetes=0\", \"marker\": {\"color\": \"#636efa\"}, \"name\": \"diabetes=0\", \"offsetgroup\": \"diabetes=0\", \"orientation\": \"v\", \"showlegend\": true, \"type\": \"histogram\", \"x\": [\"1\", \"1\", \"1\", \"1\", \"1\", \"1\", \"0\", \"1\", \"1\", \"1\", \"1\", \"1\", \"0\", \"1\", \"1\", \"1\", \"0\", \"0\", \"1\", \"0\", \"1\", \"1\", \"1\", \"1\", \"1\", \"0\", \"1\", \"0\", \"1\", \"1\", \"1\", \"1\", \"0\", \"1\", \"1\", \"0\", \"1\", \"1\", \"0\", \"1\", \"1\", \"1\", \"1\", \"0\", \"0\", \"0\", \"1\", \"1\", \"1\", \"1\", \"1\", \"0\", \"1\", \"1\", \"0\", \"1\", \"1\", \"1\", \"1\", \"0\", \"0\", \"1\", \"1\", \"1\", \"1\", \"0\", \"0\", \"0\", \"0\", \"1\", \"0\", \"1\", \"0\", \"1\", \"1\", \"0\", \"1\", \"1\", \"1\", \"1\", \"1\", \"1\", \"0\", \"0\", \"1\", \"1\", \"1\", \"1\", \"1\", \"1\", \"0\", \"1\", \"0\", \"0\", \"1\", \"1\", \"1\", \"1\", \"1\", \"1\", \"1\", \"0\", \"1\", \"1\", \"1\", \"1\", \"1\", \"0\", \"1\", \"1\", \"1\", \"0\", \"0\", \"0\", \"1\", \"1\", \"0\", \"1\", \"1\", \"1\", \"1\", \"0\", \"1\", \"1\", \"1\", \"1\", \"1\", \"0\", \"0\", \"1\", \"1\", \"1\", \"1\", \"1\", \"1\", \"0\", \"0\", \"0\", \"1\", \"1\", \"1\", \"1\", \"1\", \"1\", \"1\", \"1\", \"1\", \"0\", \"1\", \"1\", \"1\", \"0\", \"1\", \"1\", \"0\", \"1\", \"1\", \"0\", \"1\", \"1\", \"0\", \"1\", \"0\", \"0\", \"1\", \"1\", \"1\", \"1\", \"1\", \"0\", \"1\", \"0\", \"1\", \"1\"], \"xaxis\": \"x\", \"yaxis\": \"y\"}, {\"alignmentgroup\": \"True\", \"bingroup\": \"x\", \"hoverlabel\": {\"namelength\": 0}, \"hovertemplate\": \"diabetes=1<br>sex=%{x}<br>count=%{y}\", \"legendgroup\": \"diabetes=1\", \"marker\": {\"color\": \"#EF553B\"}, \"name\": \"diabetes=1\", \"offsetgroup\": \"diabetes=1\", \"orientation\": \"v\", \"showlegend\": true, \"type\": \"histogram\", \"x\": [\"0\", \"1\", \"0\", \"0\", \"1\", \"0\", \"1\", \"1\", \"1\", \"1\", \"0\", \"0\", \"1\", \"1\", \"1\", \"0\", \"1\", \"0\", \"0\", \"1\", \"1\", \"0\", \"1\", \"1\", \"0\", \"0\", \"0\", \"1\", \"1\", \"0\", \"1\", \"1\", \"1\", \"1\", \"1\", \"0\", \"0\", \"1\", \"1\", \"1\", \"1\", \"0\", \"1\", \"0\", \"0\", \"1\", \"1\", \"1\", \"1\", \"0\", \"0\", \"0\", \"0\", \"0\", \"0\", \"1\", \"1\", \"0\", \"0\", \"0\", \"1\", \"1\", \"1\", \"0\", \"1\", \"0\", \"1\", \"0\", \"1\", \"1\", \"1\", \"1\", \"1\", \"1\", \"1\", \"0\", \"0\", \"1\", \"1\", \"1\", \"0\", \"0\", \"1\", \"1\", \"0\", \"0\", \"0\", \"1\", \"0\", \"1\", \"0\", \"1\", \"0\", \"0\", \"0\", \"1\", \"1\", \"1\", \"0\", \"0\", \"0\", \"1\", \"1\", \"1\", \"1\", \"0\", \"1\", \"1\", \"0\", \"1\", \"1\", \"0\", \"1\", \"1\", \"0\", \"0\", \"1\", \"1\", \"0\", \"0\", \"0\", \"1\", \"1\", \"1\", \"0\"], \"xaxis\": \"x\", \"yaxis\": \"y\"}],\n",
              "                        {\"barmode\": \"relative\", \"legend\": {\"tracegroupgap\": 0}, \"template\": {\"data\": {\"bar\": [{\"error_x\": {\"color\": \"#2a3f5f\"}, \"error_y\": {\"color\": \"#2a3f5f\"}, \"marker\": {\"line\": {\"color\": \"#E5ECF6\", \"width\": 0.5}}, \"type\": \"bar\"}], \"barpolar\": [{\"marker\": {\"line\": {\"color\": \"#E5ECF6\", \"width\": 0.5}}, \"type\": \"barpolar\"}], \"carpet\": [{\"aaxis\": {\"endlinecolor\": \"#2a3f5f\", \"gridcolor\": \"white\", \"linecolor\": \"white\", \"minorgridcolor\": \"white\", \"startlinecolor\": \"#2a3f5f\"}, \"baxis\": {\"endlinecolor\": \"#2a3f5f\", \"gridcolor\": \"white\", \"linecolor\": \"white\", \"minorgridcolor\": \"white\", \"startlinecolor\": \"#2a3f5f\"}, \"type\": \"carpet\"}], \"choropleth\": [{\"colorbar\": {\"outlinewidth\": 0, \"ticks\": \"\"}, \"type\": \"choropleth\"}], \"contour\": [{\"colorbar\": {\"outlinewidth\": 0, \"ticks\": \"\"}, \"colorscale\": [[0.0, \"#0d0887\"], [0.1111111111111111, \"#46039f\"], [0.2222222222222222, \"#7201a8\"], [0.3333333333333333, \"#9c179e\"], [0.4444444444444444, \"#bd3786\"], [0.5555555555555556, \"#d8576b\"], [0.6666666666666666, \"#ed7953\"], [0.7777777777777778, \"#fb9f3a\"], [0.8888888888888888, \"#fdca26\"], [1.0, \"#f0f921\"]], \"type\": \"contour\"}], \"contourcarpet\": [{\"colorbar\": {\"outlinewidth\": 0, \"ticks\": \"\"}, \"type\": \"contourcarpet\"}], \"heatmap\": [{\"colorbar\": {\"outlinewidth\": 0, \"ticks\": \"\"}, \"colorscale\": [[0.0, \"#0d0887\"], [0.1111111111111111, \"#46039f\"], [0.2222222222222222, \"#7201a8\"], [0.3333333333333333, \"#9c179e\"], [0.4444444444444444, \"#bd3786\"], [0.5555555555555556, \"#d8576b\"], [0.6666666666666666, \"#ed7953\"], [0.7777777777777778, \"#fb9f3a\"], [0.8888888888888888, \"#fdca26\"], [1.0, \"#f0f921\"]], \"type\": \"heatmap\"}], \"heatmapgl\": [{\"colorbar\": {\"outlinewidth\": 0, \"ticks\": \"\"}, \"colorscale\": [[0.0, \"#0d0887\"], [0.1111111111111111, \"#46039f\"], [0.2222222222222222, \"#7201a8\"], [0.3333333333333333, \"#9c179e\"], [0.4444444444444444, \"#bd3786\"], [0.5555555555555556, \"#d8576b\"], [0.6666666666666666, \"#ed7953\"], [0.7777777777777778, \"#fb9f3a\"], [0.8888888888888888, \"#fdca26\"], [1.0, \"#f0f921\"]], \"type\": \"heatmapgl\"}], \"histogram\": [{\"marker\": {\"colorbar\": {\"outlinewidth\": 0, \"ticks\": \"\"}}, \"type\": \"histogram\"}], \"histogram2d\": [{\"colorbar\": {\"outlinewidth\": 0, \"ticks\": \"\"}, \"colorscale\": [[0.0, \"#0d0887\"], [0.1111111111111111, \"#46039f\"], [0.2222222222222222, \"#7201a8\"], [0.3333333333333333, \"#9c179e\"], [0.4444444444444444, \"#bd3786\"], [0.5555555555555556, \"#d8576b\"], [0.6666666666666666, \"#ed7953\"], [0.7777777777777778, \"#fb9f3a\"], [0.8888888888888888, \"#fdca26\"], [1.0, \"#f0f921\"]], \"type\": \"histogram2d\"}], \"histogram2dcontour\": [{\"colorbar\": {\"outlinewidth\": 0, \"ticks\": \"\"}, \"colorscale\": [[0.0, \"#0d0887\"], [0.1111111111111111, \"#46039f\"], [0.2222222222222222, \"#7201a8\"], [0.3333333333333333, \"#9c179e\"], [0.4444444444444444, \"#bd3786\"], [0.5555555555555556, \"#d8576b\"], [0.6666666666666666, \"#ed7953\"], [0.7777777777777778, \"#fb9f3a\"], [0.8888888888888888, \"#fdca26\"], [1.0, \"#f0f921\"]], \"type\": \"histogram2dcontour\"}], \"mesh3d\": [{\"colorbar\": {\"outlinewidth\": 0, \"ticks\": \"\"}, \"type\": \"mesh3d\"}], \"parcoords\": [{\"line\": {\"colorbar\": {\"outlinewidth\": 0, \"ticks\": \"\"}}, \"type\": \"parcoords\"}], \"pie\": [{\"automargin\": true, \"type\": \"pie\"}], \"scatter\": [{\"marker\": {\"colorbar\": {\"outlinewidth\": 0, \"ticks\": \"\"}}, \"type\": \"scatter\"}], \"scatter3d\": [{\"line\": {\"colorbar\": {\"outlinewidth\": 0, \"ticks\": \"\"}}, \"marker\": {\"colorbar\": {\"outlinewidth\": 0, \"ticks\": \"\"}}, \"type\": \"scatter3d\"}], \"scattercarpet\": [{\"marker\": {\"colorbar\": {\"outlinewidth\": 0, \"ticks\": \"\"}}, \"type\": \"scattercarpet\"}], \"scattergeo\": [{\"marker\": {\"colorbar\": {\"outlinewidth\": 0, \"ticks\": \"\"}}, \"type\": \"scattergeo\"}], \"scattergl\": [{\"marker\": {\"colorbar\": {\"outlinewidth\": 0, \"ticks\": \"\"}}, \"type\": \"scattergl\"}], \"scattermapbox\": [{\"marker\": {\"colorbar\": {\"outlinewidth\": 0, \"ticks\": \"\"}}, \"type\": \"scattermapbox\"}], \"scatterpolar\": [{\"marker\": {\"colorbar\": {\"outlinewidth\": 0, \"ticks\": \"\"}}, \"type\": \"scatterpolar\"}], \"scatterpolargl\": [{\"marker\": {\"colorbar\": {\"outlinewidth\": 0, \"ticks\": \"\"}}, \"type\": \"scatterpolargl\"}], \"scatterternary\": [{\"marker\": {\"colorbar\": {\"outlinewidth\": 0, \"ticks\": \"\"}}, \"type\": \"scatterternary\"}], \"surface\": [{\"colorbar\": {\"outlinewidth\": 0, \"ticks\": \"\"}, \"colorscale\": [[0.0, \"#0d0887\"], [0.1111111111111111, \"#46039f\"], [0.2222222222222222, \"#7201a8\"], [0.3333333333333333, \"#9c179e\"], [0.4444444444444444, \"#bd3786\"], [0.5555555555555556, \"#d8576b\"], [0.6666666666666666, \"#ed7953\"], [0.7777777777777778, \"#fb9f3a\"], [0.8888888888888888, \"#fdca26\"], [1.0, \"#f0f921\"]], \"type\": \"surface\"}], \"table\": [{\"cells\": {\"fill\": {\"color\": \"#EBF0F8\"}, \"line\": {\"color\": \"white\"}}, \"header\": {\"fill\": {\"color\": \"#C8D4E3\"}, \"line\": {\"color\": \"white\"}}, \"type\": \"table\"}]}, \"layout\": {\"annotationdefaults\": {\"arrowcolor\": \"#2a3f5f\", \"arrowhead\": 0, \"arrowwidth\": 1}, \"coloraxis\": {\"colorbar\": {\"outlinewidth\": 0, \"ticks\": \"\"}}, \"colorscale\": {\"diverging\": [[0, \"#8e0152\"], [0.1, \"#c51b7d\"], [0.2, \"#de77ae\"], [0.3, \"#f1b6da\"], [0.4, \"#fde0ef\"], [0.5, \"#f7f7f7\"], [0.6, \"#e6f5d0\"], [0.7, \"#b8e186\"], [0.8, \"#7fbc41\"], [0.9, \"#4d9221\"], [1, \"#276419\"]], \"sequential\": [[0.0, \"#0d0887\"], [0.1111111111111111, \"#46039f\"], [0.2222222222222222, \"#7201a8\"], [0.3333333333333333, \"#9c179e\"], [0.4444444444444444, \"#bd3786\"], [0.5555555555555556, \"#d8576b\"], [0.6666666666666666, \"#ed7953\"], [0.7777777777777778, \"#fb9f3a\"], [0.8888888888888888, \"#fdca26\"], [1.0, \"#f0f921\"]], \"sequentialminus\": [[0.0, \"#0d0887\"], [0.1111111111111111, \"#46039f\"], [0.2222222222222222, \"#7201a8\"], [0.3333333333333333, \"#9c179e\"], [0.4444444444444444, \"#bd3786\"], [0.5555555555555556, \"#d8576b\"], [0.6666666666666666, \"#ed7953\"], [0.7777777777777778, \"#fb9f3a\"], [0.8888888888888888, \"#fdca26\"], [1.0, \"#f0f921\"]]}, \"colorway\": [\"#636efa\", \"#EF553B\", \"#00cc96\", \"#ab63fa\", \"#FFA15A\", \"#19d3f3\", \"#FF6692\", \"#B6E880\", \"#FF97FF\", \"#FECB52\"], \"font\": {\"color\": \"#2a3f5f\"}, \"geo\": {\"bgcolor\": \"white\", \"lakecolor\": \"white\", \"landcolor\": \"#E5ECF6\", \"showlakes\": true, \"showland\": true, \"subunitcolor\": \"white\"}, \"hoverlabel\": {\"align\": \"left\"}, \"hovermode\": \"closest\", \"mapbox\": {\"style\": \"light\"}, \"paper_bgcolor\": \"white\", \"plot_bgcolor\": \"#E5ECF6\", \"polar\": {\"angularaxis\": {\"gridcolor\": \"white\", \"linecolor\": \"white\", \"ticks\": \"\"}, \"bgcolor\": \"#E5ECF6\", \"radialaxis\": {\"gridcolor\": \"white\", \"linecolor\": \"white\", \"ticks\": \"\"}}, \"scene\": {\"xaxis\": {\"backgroundcolor\": \"#E5ECF6\", \"gridcolor\": \"white\", \"gridwidth\": 2, \"linecolor\": \"white\", \"showbackground\": true, \"ticks\": \"\", \"zerolinecolor\": \"white\"}, \"yaxis\": {\"backgroundcolor\": \"#E5ECF6\", \"gridcolor\": \"white\", \"gridwidth\": 2, \"linecolor\": \"white\", \"showbackground\": true, \"ticks\": \"\", \"zerolinecolor\": \"white\"}, \"zaxis\": {\"backgroundcolor\": \"#E5ECF6\", \"gridcolor\": \"white\", \"gridwidth\": 2, \"linecolor\": \"white\", \"showbackground\": true, \"ticks\": \"\", \"zerolinecolor\": \"white\"}}, \"shapedefaults\": {\"line\": {\"color\": \"#2a3f5f\"}}, \"ternary\": {\"aaxis\": {\"gridcolor\": \"white\", \"linecolor\": \"white\", \"ticks\": \"\"}, \"baxis\": {\"gridcolor\": \"white\", \"linecolor\": \"white\", \"ticks\": \"\"}, \"bgcolor\": \"#E5ECF6\", \"caxis\": {\"gridcolor\": \"white\", \"linecolor\": \"white\", \"ticks\": \"\"}}, \"title\": {\"x\": 0.05}, \"xaxis\": {\"automargin\": true, \"gridcolor\": \"white\", \"linecolor\": \"white\", \"ticks\": \"\", \"title\": {\"standoff\": 15}, \"zerolinecolor\": \"white\", \"zerolinewidth\": 2}, \"yaxis\": {\"automargin\": true, \"gridcolor\": \"white\", \"linecolor\": \"white\", \"ticks\": \"\", \"title\": {\"standoff\": 15}, \"zerolinecolor\": \"white\", \"zerolinewidth\": 2}}}, \"title\": {\"text\": \"count_Diabetes(No = 0, Yes = 1)\"}, \"xaxis\": {\"anchor\": \"y\", \"domain\": [0.0, 1.0], \"title\": {\"text\": \"sex\"}}, \"yaxis\": {\"anchor\": \"x\", \"domain\": [0.0, 1.0], \"title\": {\"text\": \"count\"}}},\n",
              "                        {\"responsive\": true}\n",
              "                    ).then(function(){\n",
              "                            \n",
              "var gd = document.getElementById('6b017d3a-8a4a-4a49-a2e2-fc77132f6d2b');\n",
              "var x = new MutationObserver(function (mutations, observer) {{\n",
              "        var display = window.getComputedStyle(gd).display;\n",
              "        if (!display || display === 'none') {{\n",
              "            console.log([gd, 'removed!']);\n",
              "            Plotly.purge(gd);\n",
              "            observer.disconnect();\n",
              "        }}\n",
              "}});\n",
              "\n",
              "// Listen for the removal of the full notebook cells\n",
              "var notebookContainer = gd.closest('#notebook-container');\n",
              "if (notebookContainer) {{\n",
              "    x.observe(notebookContainer, {childList: true});\n",
              "}}\n",
              "\n",
              "// Listen for the clearing of the current output cell\n",
              "var outputEl = gd.closest('.output');\n",
              "if (outputEl) {{\n",
              "    x.observe(outputEl, {childList: true});\n",
              "}}\n",
              "\n",
              "                        })\n",
              "                };\n",
              "                \n",
              "            </script>\n",
              "        </div>\n",
              "</body>\n",
              "</html>"
            ]
          },
          "metadata": {
            "tags": []
          }
        }
      ]
    },
    {
      "cell_type": "code",
      "metadata": {
        "colab": {
          "base_uri": "https://localhost:8080/",
          "height": 550
        },
        "id": "paOkhESnKmZU",
        "outputId": "de9c9e59-0d13-4049-9670-383e70f0021a"
      },
      "source": [
        "pd.pivot_table(df, index =['sex', 'smoking', 'diabetes', 'high_blood_pressure'], values = ['DEATH_EVENT'], aggfunc = ['count'])"
      ],
      "execution_count": null,
      "outputs": [
        {
          "output_type": "execute_result",
          "data": {
            "text/html": [
              "<div>\n",
              "<style scoped>\n",
              "    .dataframe tbody tr th:only-of-type {\n",
              "        vertical-align: middle;\n",
              "    }\n",
              "\n",
              "    .dataframe tbody tr th {\n",
              "        vertical-align: top;\n",
              "    }\n",
              "\n",
              "    .dataframe thead tr th {\n",
              "        text-align: left;\n",
              "    }\n",
              "\n",
              "    .dataframe thead tr:last-of-type th {\n",
              "        text-align: right;\n",
              "    }\n",
              "</style>\n",
              "<table border=\"1\" class=\"dataframe\">\n",
              "  <thead>\n",
              "    <tr>\n",
              "      <th></th>\n",
              "      <th></th>\n",
              "      <th></th>\n",
              "      <th></th>\n",
              "      <th>count</th>\n",
              "    </tr>\n",
              "    <tr>\n",
              "      <th></th>\n",
              "      <th></th>\n",
              "      <th></th>\n",
              "      <th></th>\n",
              "      <th>DEATH_EVENT</th>\n",
              "    </tr>\n",
              "    <tr>\n",
              "      <th>sex</th>\n",
              "      <th>smoking</th>\n",
              "      <th>diabetes</th>\n",
              "      <th>high_blood_pressure</th>\n",
              "      <th></th>\n",
              "    </tr>\n",
              "  </thead>\n",
              "  <tbody>\n",
              "    <tr>\n",
              "      <th rowspan=\"7\" valign=\"top\">0</th>\n",
              "      <th rowspan=\"4\" valign=\"top\">0</th>\n",
              "      <th rowspan=\"2\" valign=\"top\">0</th>\n",
              "      <th>0</th>\n",
              "      <td>28</td>\n",
              "    </tr>\n",
              "    <tr>\n",
              "      <th>1</th>\n",
              "      <td>20</td>\n",
              "    </tr>\n",
              "    <tr>\n",
              "      <th rowspan=\"2\" valign=\"top\">1</th>\n",
              "      <th>0</th>\n",
              "      <td>32</td>\n",
              "    </tr>\n",
              "    <tr>\n",
              "      <th>1</th>\n",
              "      <td>21</td>\n",
              "    </tr>\n",
              "    <tr>\n",
              "      <th rowspan=\"3\" valign=\"top\">1</th>\n",
              "      <th>0</th>\n",
              "      <th>1</th>\n",
              "      <td>2</td>\n",
              "    </tr>\n",
              "    <tr>\n",
              "      <th rowspan=\"2\" valign=\"top\">1</th>\n",
              "      <th>0</th>\n",
              "      <td>1</td>\n",
              "    </tr>\n",
              "    <tr>\n",
              "      <th>1</th>\n",
              "      <td>1</td>\n",
              "    </tr>\n",
              "    <tr>\n",
              "      <th rowspan=\"8\" valign=\"top\">1</th>\n",
              "      <th rowspan=\"4\" valign=\"top\">0</th>\n",
              "      <th rowspan=\"2\" valign=\"top\">0</th>\n",
              "      <th>0</th>\n",
              "      <td>37</td>\n",
              "    </tr>\n",
              "    <tr>\n",
              "      <th>1</th>\n",
              "      <td>23</td>\n",
              "    </tr>\n",
              "    <tr>\n",
              "      <th rowspan=\"2\" valign=\"top\">1</th>\n",
              "      <th>0</th>\n",
              "      <td>31</td>\n",
              "    </tr>\n",
              "    <tr>\n",
              "      <th>1</th>\n",
              "      <td>11</td>\n",
              "    </tr>\n",
              "    <tr>\n",
              "      <th rowspan=\"4\" valign=\"top\">1</th>\n",
              "      <th rowspan=\"2\" valign=\"top\">0</th>\n",
              "      <th>0</th>\n",
              "      <td>47</td>\n",
              "    </tr>\n",
              "    <tr>\n",
              "      <th>1</th>\n",
              "      <td>17</td>\n",
              "    </tr>\n",
              "    <tr>\n",
              "      <th rowspan=\"2\" valign=\"top\">1</th>\n",
              "      <th>0</th>\n",
              "      <td>18</td>\n",
              "    </tr>\n",
              "    <tr>\n",
              "      <th>1</th>\n",
              "      <td>10</td>\n",
              "    </tr>\n",
              "  </tbody>\n",
              "</table>\n",
              "</div>"
            ],
            "text/plain": [
              "                                               count\n",
              "0                                        DEATH_EVENT\n",
              "sex smoking diabetes high_blood_pressure            \n",
              "0   0       0        0                            28\n",
              "                     1                            20\n",
              "            1        0                            32\n",
              "                     1                            21\n",
              "    1       0        1                             2\n",
              "            1        0                             1\n",
              "                     1                             1\n",
              "1   0       0        0                            37\n",
              "                     1                            23\n",
              "            1        0                            31\n",
              "                     1                            11\n",
              "    1       0        0                            47\n",
              "                     1                            17\n",
              "            1        0                            18\n",
              "                     1                            10"
            ]
          },
          "metadata": {
            "tags": []
          },
          "execution_count": 22
        }
      ]
    },
    {
      "cell_type": "markdown",
      "metadata": {
        "id": "3xo6pt3OpH3_"
      },
      "source": [
        "#sunburst"
      ]
    },
    {
      "cell_type": "code",
      "metadata": {
        "id": "Y3v32vxJqAL_",
        "colab": {
          "base_uri": "https://localhost:8080/",
          "height": 270
        },
        "outputId": "733fe1fd-a4b8-494f-f5b2-0ec6d0dfc733"
      },
      "source": [
        "!pip install --upgrade plotly"
      ],
      "execution_count": null,
      "outputs": [
        {
          "output_type": "stream",
          "text": [
            "Collecting plotly\n",
            "\u001b[?25l  Downloading https://files.pythonhosted.org/packages/1f/f6/bd3c17c8003b6641df1228e80e1acac97ed8402635e46c2571f8e1ef63af/plotly-4.14.3-py2.py3-none-any.whl (13.2MB)\n",
            "\u001b[K     |████████████████████████████████| 13.2MB 288kB/s \n",
            "\u001b[?25hRequirement already satisfied, skipping upgrade: retrying>=1.3.3 in /usr/local/lib/python3.7/dist-packages (from plotly) (1.3.3)\n",
            "Requirement already satisfied, skipping upgrade: six in /usr/local/lib/python3.7/dist-packages (from plotly) (1.15.0)\n",
            "Installing collected packages: plotly\n",
            "  Found existing installation: plotly 4.4.1\n",
            "    Uninstalling plotly-4.4.1:\n",
            "      Successfully uninstalled plotly-4.4.1\n",
            "Successfully installed plotly-4.14.3\n"
          ],
          "name": "stdout"
        },
        {
          "output_type": "display_data",
          "data": {
            "application/vnd.colab-display-data+json": {
              "pip_warning": {
                "packages": [
                  "_plotly_utils",
                  "plotly"
                ]
              }
            }
          },
          "metadata": {
            "tags": []
          }
        }
      ]
    },
    {
      "cell_type": "markdown",
      "metadata": {
        "id": "dCUDUJjIrET3"
      },
      "source": [
        "#sunburst for sex/smoking/diabetes/time/age "
      ]
    },
    {
      "cell_type": "code",
      "metadata": {
        "id": "IWhzRZBHZV-W",
        "colab": {
          "base_uri": "https://localhost:8080/",
          "height": 542
        },
        "outputId": "896afeac-c726-47a3-9972-5450cb67efab"
      },
      "source": [
        "\n",
        "import plotly.express as px\n",
        "fig = px.sunburst(df, path=['sex', 'smoking','diabetes', 'time'], values='age', color='time')\n",
        "fig.show()"
      ],
      "execution_count": null,
      "outputs": [
        {
          "output_type": "display_data",
          "data": {
            "text/html": [
              "<html>\n",
              "<head><meta charset=\"utf-8\" /></head>\n",
              "<body>\n",
              "    <div>            <script src=\"https://cdnjs.cloudflare.com/ajax/libs/mathjax/2.7.5/MathJax.js?config=TeX-AMS-MML_SVG\"></script><script type=\"text/javascript\">if (window.MathJax) {MathJax.Hub.Config({SVG: {font: \"STIX-Web\"}});}</script>                <script type=\"text/javascript\">window.PlotlyConfig = {MathJaxConfig: 'local'};</script>\n",
              "        <script src=\"https://cdn.plot.ly/plotly-latest.min.js\"></script>                <div id=\"9c64f2f9-f0cf-4783-9241-3e2d277c4355\" class=\"plotly-graph-div\" style=\"height:525px; width:100%;\"></div>            <script type=\"text/javascript\">                                    window.PLOTLYENV=window.PLOTLYENV || {};                                    if (document.getElementById(\"9c64f2f9-f0cf-4783-9241-3e2d277c4355\")) {                    Plotly.newPlot(                        \"9c64f2f9-f0cf-4783-9241-3e2d277c4355\",                        [{\"branchvalues\": \"total\", \"customdata\": [[\"107\"], [\"107\"], [\"107\"], [\"106\"], [\"104\"], [\"105\"], [\"24\"], [\"241\"], [\"240\"], [\"244\"], [\"244\"], [\"244\"], [\"246\"], [\"246\"], [\"245\"], [\"245\"], [\"245\"], [\"250\"], [\"247\"], [\"250\"], [\"250\"], [\"250\"], [\"256\"], [\"107\"], [\"107\"], [\"256\"], [\"257\"], [\"258\"], [\"258\"], [\"26\"], [\"26\"], [\"27\"], [\"270\"], [\"271\"], [\"278\"], [\"28\"], [\"108\"], [\"29\"], [\"285\"], [\"280\"], [\"28\"], [\"29\"], [\"30\"], [\"30\"], [\"31\"], [\"32\"], [\"33\"], [\"33\"], [\"108\"], [\"33\"], [\"35\"], [\"38\"], [\"109\"], [\"109\"], [\"4\"], [\"41\"], [\"40\"], [\"44\"], [\"43\"], [\"43\"], [\"42\"], [\"43\"], [\"45\"], [\"50\"], [\"54\"], [\"55\"], [\"59\"], [\"109\"], [\"11\"], [\"6\"], [\"60\"], [\"110\"], [\"60\"], [\"60\"], [\"61\"], [\"65\"], [\"64\"], [\"63\"], [\"67\"], [\"66\"], [\"65\"], [\"68\"], [\"71\"], [\"7\"], [\"7\"], [\"72\"], [\"74\"], [\"72\"], [\"73\"], [\"74\"], [\"74\"], [\"74\"], [\"79\"], [\"75\"], [\"76\"], [\"77\"], [\"78\"], [\"78\"], [\"79\"], [\"8\"], [\"8\"], [\"80\"], [\"80\"], [\"82\"], [\"82\"], [\"83\"], [\"83\"], [\"83\"], [\"85\"], [\"85\"], [\"111\"], [\"112\"], [\"86\"], [\"87\"], [\"87\"], [\"88\"], [\"87\"], [\"88\"], [\"88\"], [\"88\"], [\"88\"], [\"90\"], [\"90\"], [\"94\"], [\"91\"], [\"90\"], [\"91\"], [\"94\"], [\"95\"], [\"95\"], [\"95\"], [\"96\"], [\"97\"], [\"(?)\"], [\"(?)\"], [\"(?)\"], [\"(?)\"], [\"(?)\"], [\"(?)\"], [\"(?)\"], [\"(?)\"], [\"(?)\"], [\"(?)\"], [\"(?)\"], [\"(?)\"], [\"(?)\"], [\"(?)\"], [\"113\"], [\"115\"], [\"115\"], [\"117\"], [\"118\"], [\"119\"], [\"12\"], [\"120\"], [\"120\"], [\"120\"], [\"121\"], [\"121\"], [\"123\"], [\"126\"], [\"129\"], [\"13\"], [\"130\"], [\"134\"], [\"135\"], [\"14\"], [\"145\"], [\"140\"], [\"145\"], [\"146\"], [\"10\"], [\"146\"], [\"146\"], [\"147\"], [\"147\"], [\"147\"], [\"148\"], [\"15\"], [\"15\"], [\"150\"], [\"16\"], [\"154\"], [\"162\"], [\"170\"], [\"10\"], [\"171\"], [\"172\"], [\"172\"], [\"174\"], [\"174\"], [\"175\"], [\"180\"], [\"180\"], [\"185\"], [\"186\"], [\"186\"], [\"10\"], [\"10\"], [\"186\"], [\"186\"], [\"186\"], [\"187\"], [\"187\"], [\"192\"], [\"187\"], [\"187\"], [\"188\"], [\"193\"], [\"194\"], [\"195\"], [\"196\"], [\"197\"], [\"200\"], [\"20\"], [\"198\"], [\"197\"], [\"20\"], [\"100\"], [\"104\"], [\"201\"], [\"201\"], [\"205\"], [\"205\"], [\"205\"], [\"206\"], [\"207\"], [\"208\"], [\"209\"], [\"209\"], [\"210\"], [\"210\"], [\"212\"], [\"211\"], [\"212\"], [\"212\"], [\"213\"], [\"213\"], [\"214\"], [\"214\"], [\"214\"], [\"214\"], [\"215\"], [\"215\"], [\"216\"], [\"22\"], [\"23\"], [\"23\"], [\"220\"], [\"233\"], [\"233\"], [\"230\"], [\"235\"], [\"231\"], [\"237\"], [\"237\"]], \"domain\": {\"x\": [0.0, 1.0], \"y\": [0.0, 1.0]}, \"hovertemplate\": \"labels=%{label}<br>age=%{value}<br>parent=%{parent}<br>id=%{id}<br>time=%{customdata[0]}<extra></extra>\", \"ids\": [\"1/1/0/107\", \"1/0/0/107\", \"0/0/0/107\", \"1/1/0/106\", \"0/0/1/104\", \"1/0/1/105\", \"0/0/0/24\", \"1/1/0/241\", \"1/1/0/240\", \"0/0/1/244\", \"1/0/1/244\", \"1/1/1/244\", \"1/0/1/246\", \"0/0/1/246\", \"1/1/1/245\", \"1/0/0/245\", \"0/0/0/245\", \"1/0/0/250\", \"1/0/1/247\", \"1/1/0/250\", \"0/0/1/250\", \"1/0/1/250\", \"0/0/0/256\", \"1/0/1/107\", \"0/0/1/107\", \"0/0/1/256\", \"0/0/1/257\", \"1/1/1/258\", \"1/0/0/258\", \"1/0/0/26\", \"1/1/1/26\", \"1/0/1/27\", \"1/1/1/270\", \"0/0/0/271\", \"0/0/1/278\", \"1/0/0/28\", \"1/0/0/108\", \"0/0/1/29\", \"1/1/0/285\", \"1/1/0/280\", \"0/0/1/28\", \"1/0/1/29\", \"1/0/1/30\", \"0/0/1/30\", \"1/1/0/31\", \"0/1/1/32\", \"0/0/1/33\", \"1/0/1/33\", \"0/0/1/108\", \"1/1/1/33\", \"1/1/1/35\", \"1/0/0/38\", \"1/0/0/109\", \"0/0/0/109\", \"1/0/0/4\", \"1/0/0/41\", \"1/1/1/40\", \"0/0/1/44\", \"0/0/1/43\", \"1/0/0/43\", \"0/0/0/42\", \"0/0/0/43\", \"0/1/1/45\", \"1/0/0/50\", \"1/1/0/54\", \"1/1/0/55\", \"1/1/1/59\", \"0/0/1/109\", \"1/0/0/11\", \"1/0/0/6\", \"0/0/0/60\", \"0/0/0/110\", \"1/1/0/60\", \"1/0/1/60\", \"1/0/0/61\", \"1/1/0/65\", \"1/1/0/64\", \"0/0/0/63\", \"1/0/1/67\", \"0/0/0/66\", \"0/0/1/65\", \"1/1/0/68\", \"1/1/1/71\", \"1/1/0/7\", \"1/0/0/7\", \"1/1/0/72\", \"0/0/0/74\", \"1/1/1/72\", \"1/1/0/73\", \"0/1/0/74\", \"1/0/1/74\", \"1/1/1/74\", \"1/0/1/79\", \"0/0/0/75\", \"1/1/0/76\", \"0/0/1/77\", \"1/0/0/78\", \"0/0/1/78\", \"1/0/0/79\", \"1/1/0/8\", \"0/0/1/8\", \"1/0/1/80\", \"1/1/1/80\", \"0/0/0/82\", \"1/0/0/82\", \"1/0/0/83\", \"0/0/1/83\", \"1/0/1/83\", \"0/0/0/85\", \"0/0/1/85\", \"1/1/0/111\", \"1/1/0/112\", \"0/0/1/86\", \"1/0/0/87\", \"0/0/0/87\", \"0/1/0/88\", \"1/1/0/87\", \"1/0/0/88\", \"1/1/0/88\", \"1/0/1/88\", \"1/1/1/88\", \"0/0/0/90\", \"1/1/0/90\", \"0/0/1/94\", \"1/0/1/91\", \"1/0/1/90\", \"0/0/0/91\", \"0/0/0/94\", \"1/1/0/95\", \"0/0/0/95\", \"0/0/1/95\", \"1/0/0/96\", \"0/0/0/97\", \"0/0/0\", \"1/1/0\", \"0/1/0\", \"1/0/0\", \"1/0/1\", \"0/0/1\", \"1/1/1\", \"0/0\", \"0/1/1\", \"0\", \"1/0\", \"0/1\", \"1/1\", \"1\", \"1/0/0/113\", \"0/0/0/115\", \"1/0/0/115\", \"1/0/1/117\", \"1/1/0/118\", \"1/1/1/119\", \"0/0/0/12\", \"0/0/0/120\", \"1/1/0/120\", \"1/0/1/120\", \"1/0/0/121\", \"1/1/0/121\", \"1/1/0/123\", \"0/0/1/126\", \"1/0/1/129\", \"1/0/0/13\", \"0/0/1/130\", \"1/1/0/134\", \"1/0/1/135\", \"1/0/0/14\", \"0/0/0/145\", \"0/0/1/140\", \"1/1/1/145\", \"1/0/0/146\", \"0/0/0/10\", \"1/1/0/146\", \"1/1/1/146\", \"0/0/0/147\", \"1/1/0/147\", \"1/0/1/147\", \"1/0/1/148\", \"0/0/0/15\", \"0/0/1/15\", \"1/1/1/150\", \"0/0/0/16\", \"1/1/1/154\", \"1/0/0/162\", \"1/1/0/170\", \"1/0/0/10\", \"1/0/1/171\", \"0/0/0/172\", \"0/0/1/172\", \"0/0/0/174\", \"1/0/1/174\", \"1/0/1/175\", \"1/0/0/180\", \"1/1/1/180\", \"0/0/1/185\", \"0/0/0/186\", \"1/0/0/186\", \"1/1/0/10\", \"1/1/1/10\", \"0/0/1/186\", \"1/1/1/186\", \"1/0/1/186\", \"0/0/0/187\", \"1/0/0/187\", \"1/1/0/192\", \"0/0/1/187\", \"1/1/0/187\", \"1/1/1/188\", \"0/0/1/193\", \"1/0/0/194\", \"1/0/0/195\", \"0/0/0/196\", \"0/0/1/197\", \"1/1/0/200\", \"1/1/0/20\", \"1/0/0/198\", \"1/0/1/197\", \"0/0/1/20\", \"0/0/1/100\", \"1/1/0/104\", \"1/0/0/201\", \"1/1/0/201\", \"1/1/0/205\", \"0/0/1/205\", \"1/0/1/205\", \"1/0/0/206\", \"0/0/0/207\", \"1/1/0/208\", \"1/0/0/209\", \"1/1/0/209\", \"1/0/0/210\", \"0/0/1/210\", \"0/0/1/212\", \"1/1/0/211\", \"1/1/0/212\", \"1/1/1/212\", \"0/0/0/213\", \"1/0/1/213\", \"0/0/0/214\", \"1/0/0/214\", \"1/1/0/214\", \"0/0/1/214\", \"1/0/0/215\", \"0/0/1/215\", \"1/1/1/216\", \"1/0/1/22\", \"0/0/1/23\", \"1/1/1/23\", \"0/0/0/220\", \"0/0/0/233\", \"1/0/0/233\", \"1/0/1/230\", \"1/0/1/235\", \"1/1/0/231\", \"0/0/1/237\", \"1/0/1/237\"], \"labels\": [\"107\", \"107\", \"107\", \"106\", \"104\", \"105\", \"24\", \"241\", \"240\", \"244\", \"244\", \"244\", \"246\", \"246\", \"245\", \"245\", \"245\", \"250\", \"247\", \"250\", \"250\", \"250\", \"256\", \"107\", \"107\", \"256\", \"257\", \"258\", \"258\", \"26\", \"26\", \"27\", \"270\", \"271\", \"278\", \"28\", \"108\", \"29\", \"285\", \"280\", \"28\", \"29\", \"30\", \"30\", \"31\", \"32\", \"33\", \"33\", \"108\", \"33\", \"35\", \"38\", \"109\", \"109\", \"4\", \"41\", \"40\", \"44\", \"43\", \"43\", \"42\", \"43\", \"45\", \"50\", \"54\", \"55\", \"59\", \"109\", \"11\", \"6\", \"60\", \"110\", \"60\", \"60\", \"61\", \"65\", \"64\", \"63\", \"67\", \"66\", \"65\", \"68\", \"71\", \"7\", \"7\", \"72\", \"74\", \"72\", \"73\", \"74\", \"74\", \"74\", \"79\", \"75\", \"76\", \"77\", \"78\", \"78\", \"79\", \"8\", \"8\", \"80\", \"80\", \"82\", \"82\", \"83\", \"83\", \"83\", \"85\", \"85\", \"111\", \"112\", \"86\", \"87\", \"87\", \"88\", \"87\", \"88\", \"88\", \"88\", \"88\", \"90\", \"90\", \"94\", \"91\", \"90\", \"91\", \"94\", \"95\", \"95\", \"95\", \"96\", \"97\", \"0\", \"0\", \"0\", \"0\", \"1\", \"1\", \"1\", \"0\", \"1\", \"0\", \"0\", \"1\", \"1\", \"1\", \"113\", \"115\", \"115\", \"117\", \"118\", \"119\", \"12\", \"120\", \"120\", \"120\", \"121\", \"121\", \"123\", \"126\", \"129\", \"13\", \"130\", \"134\", \"135\", \"14\", \"145\", \"140\", \"145\", \"146\", \"10\", \"146\", \"146\", \"147\", \"147\", \"147\", \"148\", \"15\", \"15\", \"150\", \"16\", \"154\", \"162\", \"170\", \"10\", \"171\", \"172\", \"172\", \"174\", \"174\", \"175\", \"180\", \"180\", \"185\", \"186\", \"186\", \"10\", \"10\", \"186\", \"186\", \"186\", \"187\", \"187\", \"192\", \"187\", \"187\", \"188\", \"193\", \"194\", \"195\", \"196\", \"197\", \"200\", \"20\", \"198\", \"197\", \"20\", \"100\", \"104\", \"201\", \"201\", \"205\", \"205\", \"205\", \"206\", \"207\", \"208\", \"209\", \"209\", \"210\", \"210\", \"212\", \"211\", \"212\", \"212\", \"213\", \"213\", \"214\", \"214\", \"214\", \"214\", \"215\", \"215\", \"216\", \"22\", \"23\", \"23\", \"220\", \"233\", \"233\", \"230\", \"235\", \"231\", \"237\", \"237\"], \"marker\": {\"colors\": [\"#636efa\", \"#636efa\", \"#636efa\", \"#EF553B\", \"#00cc96\", \"#ab63fa\", \"#FFA15A\", \"#19d3f3\", \"#FF6692\", \"#B6E880\", \"#B6E880\", \"#B6E880\", \"#FF97FF\", \"#FF97FF\", \"#FECB52\", \"#FECB52\", \"#FECB52\", \"#636efa\", \"#EF553B\", \"#636efa\", \"#636efa\", \"#636efa\", \"#00cc96\", \"#636efa\", \"#636efa\", \"#00cc96\", \"#ab63fa\", \"#FFA15A\", \"#FFA15A\", \"#19d3f3\", \"#19d3f3\", \"#FF6692\", \"#B6E880\", \"#FF97FF\", \"#FECB52\", \"#636efa\", \"#EF553B\", \"#00cc96\", \"#ab63fa\", \"#FFA15A\", \"#636efa\", \"#00cc96\", \"#19d3f3\", \"#19d3f3\", \"#FF6692\", \"#B6E880\", \"#FF97FF\", \"#FF97FF\", \"#EF553B\", \"#FF97FF\", \"#FECB52\", \"#636efa\", \"#EF553B\", \"#EF553B\", \"#00cc96\", \"#ab63fa\", \"#FFA15A\", \"#19d3f3\", \"#FF6692\", \"#FF6692\", \"#B6E880\", \"#FF6692\", \"#FF97FF\", \"#FECB52\", \"#636efa\", \"#EF553B\", \"#00cc96\", \"#EF553B\", \"#ab63fa\", \"#FFA15A\", \"#19d3f3\", \"#FF6692\", \"#19d3f3\", \"#19d3f3\", \"#B6E880\", \"#FF97FF\", \"#FECB52\", \"#636efa\", \"#EF553B\", \"#00cc96\", \"#FF97FF\", \"#ab63fa\", \"#FFA15A\", \"#19d3f3\", \"#19d3f3\", \"#FF6692\", \"#B6E880\", \"#FF6692\", \"#FF97FF\", \"#B6E880\", \"#B6E880\", \"#B6E880\", \"#FECB52\", \"#636efa\", \"#EF553B\", \"#00cc96\", \"#ab63fa\", \"#ab63fa\", \"#FECB52\", \"#FFA15A\", \"#FFA15A\", \"#19d3f3\", \"#19d3f3\", \"#FF6692\", \"#FF6692\", \"#B6E880\", \"#B6E880\", \"#B6E880\", \"#FF97FF\", \"#FF97FF\", \"#FECB52\", \"#636efa\", \"#EF553B\", \"#00cc96\", \"#00cc96\", \"#ab63fa\", \"#00cc96\", \"#ab63fa\", \"#ab63fa\", \"#ab63fa\", \"#ab63fa\", \"#FFA15A\", \"#FFA15A\", \"#19d3f3\", \"#FF6692\", \"#FFA15A\", \"#FF6692\", \"#19d3f3\", \"#B6E880\", \"#B6E880\", \"#B6E880\", \"#FF97FF\", \"#FECB52\", \"#636efa\", \"#636efa\", \"#636efa\", \"#636efa\", \"#636efa\", \"#636efa\", \"#636efa\", \"#636efa\", \"#636efa\", \"#636efa\", \"#636efa\", \"#636efa\", \"#636efa\", \"#636efa\", \"#EF553B\", \"#00cc96\", \"#00cc96\", \"#ab63fa\", \"#FFA15A\", \"#19d3f3\", \"#FF6692\", \"#B6E880\", \"#B6E880\", \"#B6E880\", \"#FF97FF\", \"#FF97FF\", \"#FECB52\", \"#636efa\", \"#EF553B\", \"#00cc96\", \"#ab63fa\", \"#FFA15A\", \"#19d3f3\", \"#FF6692\", \"#B6E880\", \"#FF97FF\", \"#B6E880\", \"#FECB52\", \"#636efa\", \"#FECB52\", \"#FECB52\", \"#EF553B\", \"#EF553B\", \"#EF553B\", \"#00cc96\", \"#ab63fa\", \"#ab63fa\", \"#FFA15A\", \"#19d3f3\", \"#FF6692\", \"#B6E880\", \"#FF97FF\", \"#636efa\", \"#FECB52\", \"#636efa\", \"#636efa\", \"#EF553B\", \"#EF553B\", \"#00cc96\", \"#ab63fa\", \"#ab63fa\", \"#FFA15A\", \"#19d3f3\", \"#19d3f3\", \"#636efa\", \"#636efa\", \"#19d3f3\", \"#19d3f3\", \"#19d3f3\", \"#FF6692\", \"#FF6692\", \"#B6E880\", \"#FF6692\", \"#FF6692\", \"#FF97FF\", \"#FECB52\", \"#636efa\", \"#EF553B\", \"#00cc96\", \"#ab63fa\", \"#FFA15A\", \"#19d3f3\", \"#FF6692\", \"#ab63fa\", \"#19d3f3\", \"#B6E880\", \"#00cc96\", \"#FF97FF\", \"#FF97FF\", \"#FECB52\", \"#FECB52\", \"#FECB52\", \"#636efa\", \"#EF553B\", \"#00cc96\", \"#ab63fa\", \"#ab63fa\", \"#FFA15A\", \"#FFA15A\", \"#19d3f3\", \"#FF6692\", \"#19d3f3\", \"#19d3f3\", \"#B6E880\", \"#B6E880\", \"#FF97FF\", \"#FF97FF\", \"#FF97FF\", \"#FF97FF\", \"#FECB52\", \"#FECB52\", \"#636efa\", \"#EF553B\", \"#00cc96\", \"#00cc96\", \"#ab63fa\", \"#FFA15A\", \"#FFA15A\", \"#19d3f3\", \"#FF6692\", \"#B6E880\", \"#FF97FF\", \"#FF97FF\"]}, \"name\": \"\", \"parents\": [\"1/1/0\", \"1/0/0\", \"0/0/0\", \"1/1/0\", \"0/0/1\", \"1/0/1\", \"0/0/0\", \"1/1/0\", \"1/1/0\", \"0/0/1\", \"1/0/1\", \"1/1/1\", \"1/0/1\", \"0/0/1\", \"1/1/1\", \"1/0/0\", \"0/0/0\", \"1/0/0\", \"1/0/1\", \"1/1/0\", \"0/0/1\", \"1/0/1\", \"0/0/0\", \"1/0/1\", \"0/0/1\", \"0/0/1\", \"0/0/1\", \"1/1/1\", \"1/0/0\", \"1/0/0\", \"1/1/1\", \"1/0/1\", \"1/1/1\", \"0/0/0\", \"0/0/1\", \"1/0/0\", \"1/0/0\", \"0/0/1\", \"1/1/0\", \"1/1/0\", \"0/0/1\", \"1/0/1\", \"1/0/1\", \"0/0/1\", \"1/1/0\", \"0/1/1\", \"0/0/1\", \"1/0/1\", \"0/0/1\", \"1/1/1\", \"1/1/1\", \"1/0/0\", \"1/0/0\", \"0/0/0\", \"1/0/0\", \"1/0/0\", \"1/1/1\", \"0/0/1\", \"0/0/1\", \"1/0/0\", \"0/0/0\", \"0/0/0\", \"0/1/1\", \"1/0/0\", \"1/1/0\", \"1/1/0\", \"1/1/1\", \"0/0/1\", \"1/0/0\", \"1/0/0\", \"0/0/0\", \"0/0/0\", \"1/1/0\", \"1/0/1\", \"1/0/0\", \"1/1/0\", \"1/1/0\", \"0/0/0\", \"1/0/1\", \"0/0/0\", \"0/0/1\", \"1/1/0\", \"1/1/1\", \"1/1/0\", \"1/0/0\", \"1/1/0\", \"0/0/0\", \"1/1/1\", \"1/1/0\", \"0/1/0\", \"1/0/1\", \"1/1/1\", \"1/0/1\", \"0/0/0\", \"1/1/0\", \"0/0/1\", \"1/0/0\", \"0/0/1\", \"1/0/0\", \"1/1/0\", \"0/0/1\", \"1/0/1\", \"1/1/1\", \"0/0/0\", \"1/0/0\", \"1/0/0\", \"0/0/1\", \"1/0/1\", \"0/0/0\", \"0/0/1\", \"1/1/0\", \"1/1/0\", \"0/0/1\", \"1/0/0\", \"0/0/0\", \"0/1/0\", \"1/1/0\", \"1/0/0\", \"1/1/0\", \"1/0/1\", \"1/1/1\", \"0/0/0\", \"1/1/0\", \"0/0/1\", \"1/0/1\", \"1/0/1\", \"0/0/0\", \"0/0/0\", \"1/1/0\", \"0/0/0\", \"0/0/1\", \"1/0/0\", \"0/0/0\", \"0/0\", \"1/1\", \"0/1\", \"1/0\", \"1/0\", \"0/0\", \"1/1\", \"0\", \"0/1\", \"\", \"1\", \"0\", \"1\", \"\", \"1/0/0\", \"0/0/0\", \"1/0/0\", \"1/0/1\", \"1/1/0\", \"1/1/1\", \"0/0/0\", \"0/0/0\", \"1/1/0\", \"1/0/1\", \"1/0/0\", \"1/1/0\", \"1/1/0\", \"0/0/1\", \"1/0/1\", \"1/0/0\", \"0/0/1\", \"1/1/0\", \"1/0/1\", \"1/0/0\", \"0/0/0\", \"0/0/1\", \"1/1/1\", \"1/0/0\", \"0/0/0\", \"1/1/0\", \"1/1/1\", \"0/0/0\", \"1/1/0\", \"1/0/1\", \"1/0/1\", \"0/0/0\", \"0/0/1\", \"1/1/1\", \"0/0/0\", \"1/1/1\", \"1/0/0\", \"1/1/0\", \"1/0/0\", \"1/0/1\", \"0/0/0\", \"0/0/1\", \"0/0/0\", \"1/0/1\", \"1/0/1\", \"1/0/0\", \"1/1/1\", \"0/0/1\", \"0/0/0\", \"1/0/0\", \"1/1/0\", \"1/1/1\", \"0/0/1\", \"1/1/1\", \"1/0/1\", \"0/0/0\", \"1/0/0\", \"1/1/0\", \"0/0/1\", \"1/1/0\", \"1/1/1\", \"0/0/1\", \"1/0/0\", \"1/0/0\", \"0/0/0\", \"0/0/1\", \"1/1/0\", \"1/1/0\", \"1/0/0\", \"1/0/1\", \"0/0/1\", \"0/0/1\", \"1/1/0\", \"1/0/0\", \"1/1/0\", \"1/1/0\", \"0/0/1\", \"1/0/1\", \"1/0/0\", \"0/0/0\", \"1/1/0\", \"1/0/0\", \"1/1/0\", \"1/0/0\", \"0/0/1\", \"0/0/1\", \"1/1/0\", \"1/1/0\", \"1/1/1\", \"0/0/0\", \"1/0/1\", \"0/0/0\", \"1/0/0\", \"1/1/0\", \"0/0/1\", \"1/0/0\", \"0/0/1\", \"1/1/1\", \"1/0/1\", \"0/0/1\", \"1/1/1\", \"0/0/0\", \"0/0/0\", \"1/0/0\", \"1/0/1\", \"1/0/1\", \"1/1/0\", \"0/0/1\", \"1/0/1\"], \"type\": \"sunburst\", \"values\": [144.0, 75.0, 46.0, 53.0, 58.0, 53.0, 95.0, 55.0, 50.0, 96.0, 96.0, 44.0, 70.0, 105.0, 60.0, 42.0, 182.0, 110.0, 70.0, 177.0, 45.0, 55.0, 90.0, 60.0, 65.0, 65.0, 45.0, 52.0, 60.0, 58.0, 152.0, 94.0, 125.0, 55.0, 45.0, 85.0, 118.0, 50.0, 50.0, 45.0, 50.0, 65.0, 219.0, 142.0, 70.0, 50.0, 60.0, 72.0, 62.0, 70.0, 50.0, 51.0, 80.0, 46.0, 75.0, 80.0, 60.0, 70.0, 60.0, 68.0, 57.0, 53.0, 60.0, 95.0, 130.0, 49.0, 72.0, 50.0, 95.0, 55.0, 50.0, 61.0, 55.0, 45.0, 45.0, 72.0, 60.0, 45.0, 65.0, 70.0, 42.0, 41.0, 58.0, 65.0, 50.0, 85.0, 55.0, 65.0, 129.0, 70.0, 42.0, 75.0, 109.0, 70.0, 67.0, 60.0, 79.0, 59.0, 163.0, 90.0, 65.0, 60.0, 70.0, 42.0, 60.0, 58.0, 58.0, 63.0, 70.0, 60.0, 72.0, 102.0, 63.0, 140.0, 60.0, 72.0, 122.0, 55.0, 63.0, 45.0, 45.0, 70.0, 140.0, 125.0, 60.0, 50.0, 58.0, 85.0, 60.0, 146.0, 126.0, 60.0, 43.0, 2936.0, 3871.0, 142.0, 3813.0, 2480.667, 3088.667, 1748.0, 6024.6669999999995, 110.0, 6276.6669999999995, 6293.6669999999995, 252.0, 5619.0, 11912.667000000001, 139.0, 72.0, 60.0, 62.0, 50.0, 50.0, 49.0, 117.0, 50.0, 60.0, 151.0, 104.0, 63.0, 50.0, 45.0, 82.0, 80.0, 53.0, 59.0, 132.0, 70.0, 65.0, 51.0, 50.0, 65.0, 182.0, 65.0, 49.0, 124.0, 63.0, 40.0, 70.0, 48.0, 59.0, 65.0, 65.0, 75.0, 58.0, 75.0, 60.667, 50.0, 120.667, 104.0, 80.0, 50.0, 122.0, 73.0, 45.0, 65.0, 133.0, 217.0, 60.0, 50.0, 60.0, 45.0, 40.0, 85.0, 128.0, 159.0, 138.0, 70.0, 48.0, 65.0, 73.0, 124.0, 55.0, 65.0, 68.0, 73.0, 68.0, 65.0, 46.0, 61.0, 47.0, 42.0, 58.0, 75.0, 58.0, 55.0, 197.0, 70.0, 192.0, 106.0, 70.0, 65.0, 70.0, 55.0, 40.0, 65.0, 73.0, 115.0, 50.0, 119.0, 40.0, 53.0, 103.0, 125.0, 52.0, 53.0, 75.0, 80.0, 65.0, 62.0, 55.0, 103.0, 65.0, 53.0, 68.0, 61.0]}],                        {\"legend\": {\"tracegroupgap\": 0}, \"margin\": {\"t\": 60}, \"template\": {\"data\": {\"bar\": [{\"error_x\": {\"color\": \"#2a3f5f\"}, \"error_y\": {\"color\": \"#2a3f5f\"}, \"marker\": {\"line\": {\"color\": \"#E5ECF6\", \"width\": 0.5}}, \"type\": \"bar\"}], \"barpolar\": [{\"marker\": {\"line\": {\"color\": \"#E5ECF6\", \"width\": 0.5}}, \"type\": \"barpolar\"}], \"carpet\": [{\"aaxis\": {\"endlinecolor\": \"#2a3f5f\", \"gridcolor\": \"white\", \"linecolor\": \"white\", \"minorgridcolor\": \"white\", \"startlinecolor\": \"#2a3f5f\"}, \"baxis\": {\"endlinecolor\": \"#2a3f5f\", \"gridcolor\": \"white\", \"linecolor\": \"white\", \"minorgridcolor\": \"white\", \"startlinecolor\": \"#2a3f5f\"}, \"type\": \"carpet\"}], \"choropleth\": [{\"colorbar\": {\"outlinewidth\": 0, \"ticks\": \"\"}, \"type\": \"choropleth\"}], \"contour\": [{\"colorbar\": {\"outlinewidth\": 0, \"ticks\": \"\"}, \"colorscale\": [[0.0, \"#0d0887\"], [0.1111111111111111, \"#46039f\"], [0.2222222222222222, \"#7201a8\"], [0.3333333333333333, \"#9c179e\"], [0.4444444444444444, \"#bd3786\"], [0.5555555555555556, \"#d8576b\"], [0.6666666666666666, \"#ed7953\"], [0.7777777777777778, \"#fb9f3a\"], [0.8888888888888888, \"#fdca26\"], [1.0, \"#f0f921\"]], \"type\": \"contour\"}], \"contourcarpet\": [{\"colorbar\": {\"outlinewidth\": 0, \"ticks\": \"\"}, \"type\": \"contourcarpet\"}], \"heatmap\": [{\"colorbar\": {\"outlinewidth\": 0, \"ticks\": \"\"}, \"colorscale\": [[0.0, \"#0d0887\"], [0.1111111111111111, \"#46039f\"], [0.2222222222222222, \"#7201a8\"], [0.3333333333333333, \"#9c179e\"], [0.4444444444444444, \"#bd3786\"], [0.5555555555555556, \"#d8576b\"], [0.6666666666666666, \"#ed7953\"], [0.7777777777777778, \"#fb9f3a\"], [0.8888888888888888, \"#fdca26\"], [1.0, \"#f0f921\"]], \"type\": \"heatmap\"}], \"heatmapgl\": [{\"colorbar\": {\"outlinewidth\": 0, \"ticks\": \"\"}, \"colorscale\": [[0.0, \"#0d0887\"], [0.1111111111111111, \"#46039f\"], [0.2222222222222222, \"#7201a8\"], [0.3333333333333333, \"#9c179e\"], [0.4444444444444444, \"#bd3786\"], [0.5555555555555556, \"#d8576b\"], [0.6666666666666666, \"#ed7953\"], [0.7777777777777778, \"#fb9f3a\"], [0.8888888888888888, \"#fdca26\"], [1.0, \"#f0f921\"]], \"type\": \"heatmapgl\"}], \"histogram\": [{\"marker\": {\"colorbar\": {\"outlinewidth\": 0, \"ticks\": \"\"}}, \"type\": \"histogram\"}], \"histogram2d\": [{\"colorbar\": {\"outlinewidth\": 0, \"ticks\": \"\"}, \"colorscale\": [[0.0, \"#0d0887\"], [0.1111111111111111, \"#46039f\"], [0.2222222222222222, \"#7201a8\"], [0.3333333333333333, \"#9c179e\"], [0.4444444444444444, \"#bd3786\"], [0.5555555555555556, \"#d8576b\"], [0.6666666666666666, \"#ed7953\"], [0.7777777777777778, \"#fb9f3a\"], [0.8888888888888888, \"#fdca26\"], [1.0, \"#f0f921\"]], \"type\": \"histogram2d\"}], \"histogram2dcontour\": [{\"colorbar\": {\"outlinewidth\": 0, \"ticks\": \"\"}, \"colorscale\": [[0.0, \"#0d0887\"], [0.1111111111111111, \"#46039f\"], [0.2222222222222222, \"#7201a8\"], [0.3333333333333333, \"#9c179e\"], [0.4444444444444444, \"#bd3786\"], [0.5555555555555556, \"#d8576b\"], [0.6666666666666666, \"#ed7953\"], [0.7777777777777778, \"#fb9f3a\"], [0.8888888888888888, \"#fdca26\"], [1.0, \"#f0f921\"]], \"type\": \"histogram2dcontour\"}], \"mesh3d\": [{\"colorbar\": {\"outlinewidth\": 0, \"ticks\": \"\"}, \"type\": \"mesh3d\"}], \"parcoords\": [{\"line\": {\"colorbar\": {\"outlinewidth\": 0, \"ticks\": \"\"}}, \"type\": \"parcoords\"}], \"pie\": [{\"automargin\": true, \"type\": \"pie\"}], \"scatter\": [{\"marker\": {\"colorbar\": {\"outlinewidth\": 0, \"ticks\": \"\"}}, \"type\": \"scatter\"}], \"scatter3d\": [{\"line\": {\"colorbar\": {\"outlinewidth\": 0, \"ticks\": \"\"}}, \"marker\": {\"colorbar\": {\"outlinewidth\": 0, \"ticks\": \"\"}}, \"type\": \"scatter3d\"}], \"scattercarpet\": [{\"marker\": {\"colorbar\": {\"outlinewidth\": 0, \"ticks\": \"\"}}, \"type\": \"scattercarpet\"}], \"scattergeo\": [{\"marker\": {\"colorbar\": {\"outlinewidth\": 0, \"ticks\": \"\"}}, \"type\": \"scattergeo\"}], \"scattergl\": [{\"marker\": {\"colorbar\": {\"outlinewidth\": 0, \"ticks\": \"\"}}, \"type\": \"scattergl\"}], \"scattermapbox\": [{\"marker\": {\"colorbar\": {\"outlinewidth\": 0, \"ticks\": \"\"}}, \"type\": \"scattermapbox\"}], \"scatterpolar\": [{\"marker\": {\"colorbar\": {\"outlinewidth\": 0, \"ticks\": \"\"}}, \"type\": \"scatterpolar\"}], \"scatterpolargl\": [{\"marker\": {\"colorbar\": {\"outlinewidth\": 0, \"ticks\": \"\"}}, \"type\": \"scatterpolargl\"}], \"scatterternary\": [{\"marker\": {\"colorbar\": {\"outlinewidth\": 0, \"ticks\": \"\"}}, \"type\": \"scatterternary\"}], \"surface\": [{\"colorbar\": {\"outlinewidth\": 0, \"ticks\": \"\"}, \"colorscale\": [[0.0, \"#0d0887\"], [0.1111111111111111, \"#46039f\"], [0.2222222222222222, \"#7201a8\"], [0.3333333333333333, \"#9c179e\"], [0.4444444444444444, \"#bd3786\"], [0.5555555555555556, \"#d8576b\"], [0.6666666666666666, \"#ed7953\"], [0.7777777777777778, \"#fb9f3a\"], [0.8888888888888888, \"#fdca26\"], [1.0, \"#f0f921\"]], \"type\": \"surface\"}], \"table\": [{\"cells\": {\"fill\": {\"color\": \"#EBF0F8\"}, \"line\": {\"color\": \"white\"}}, \"header\": {\"fill\": {\"color\": \"#C8D4E3\"}, \"line\": {\"color\": \"white\"}}, \"type\": \"table\"}]}, \"layout\": {\"annotationdefaults\": {\"arrowcolor\": \"#2a3f5f\", \"arrowhead\": 0, \"arrowwidth\": 1}, \"autotypenumbers\": \"strict\", \"coloraxis\": {\"colorbar\": {\"outlinewidth\": 0, \"ticks\": \"\"}}, \"colorscale\": {\"diverging\": [[0, \"#8e0152\"], [0.1, \"#c51b7d\"], [0.2, \"#de77ae\"], [0.3, \"#f1b6da\"], [0.4, \"#fde0ef\"], [0.5, \"#f7f7f7\"], [0.6, \"#e6f5d0\"], [0.7, \"#b8e186\"], [0.8, \"#7fbc41\"], [0.9, \"#4d9221\"], [1, \"#276419\"]], \"sequential\": [[0.0, \"#0d0887\"], [0.1111111111111111, \"#46039f\"], [0.2222222222222222, \"#7201a8\"], [0.3333333333333333, \"#9c179e\"], [0.4444444444444444, \"#bd3786\"], [0.5555555555555556, \"#d8576b\"], [0.6666666666666666, \"#ed7953\"], [0.7777777777777778, \"#fb9f3a\"], [0.8888888888888888, \"#fdca26\"], [1.0, \"#f0f921\"]], \"sequentialminus\": [[0.0, \"#0d0887\"], [0.1111111111111111, \"#46039f\"], [0.2222222222222222, \"#7201a8\"], [0.3333333333333333, \"#9c179e\"], [0.4444444444444444, \"#bd3786\"], [0.5555555555555556, \"#d8576b\"], [0.6666666666666666, \"#ed7953\"], [0.7777777777777778, \"#fb9f3a\"], [0.8888888888888888, \"#fdca26\"], [1.0, \"#f0f921\"]]}, \"colorway\": [\"#636efa\", \"#EF553B\", \"#00cc96\", \"#ab63fa\", \"#FFA15A\", \"#19d3f3\", \"#FF6692\", \"#B6E880\", \"#FF97FF\", \"#FECB52\"], \"font\": {\"color\": \"#2a3f5f\"}, \"geo\": {\"bgcolor\": \"white\", \"lakecolor\": \"white\", \"landcolor\": \"#E5ECF6\", \"showlakes\": true, \"showland\": true, \"subunitcolor\": \"white\"}, \"hoverlabel\": {\"align\": \"left\"}, \"hovermode\": \"closest\", \"mapbox\": {\"style\": \"light\"}, \"paper_bgcolor\": \"white\", \"plot_bgcolor\": \"#E5ECF6\", \"polar\": {\"angularaxis\": {\"gridcolor\": \"white\", \"linecolor\": \"white\", \"ticks\": \"\"}, \"bgcolor\": \"#E5ECF6\", \"radialaxis\": {\"gridcolor\": \"white\", \"linecolor\": \"white\", \"ticks\": \"\"}}, \"scene\": {\"xaxis\": {\"backgroundcolor\": \"#E5ECF6\", \"gridcolor\": \"white\", \"gridwidth\": 2, \"linecolor\": \"white\", \"showbackground\": true, \"ticks\": \"\", \"zerolinecolor\": \"white\"}, \"yaxis\": {\"backgroundcolor\": \"#E5ECF6\", \"gridcolor\": \"white\", \"gridwidth\": 2, \"linecolor\": \"white\", \"showbackground\": true, \"ticks\": \"\", \"zerolinecolor\": \"white\"}, \"zaxis\": {\"backgroundcolor\": \"#E5ECF6\", \"gridcolor\": \"white\", \"gridwidth\": 2, \"linecolor\": \"white\", \"showbackground\": true, \"ticks\": \"\", \"zerolinecolor\": \"white\"}}, \"shapedefaults\": {\"line\": {\"color\": \"#2a3f5f\"}}, \"ternary\": {\"aaxis\": {\"gridcolor\": \"white\", \"linecolor\": \"white\", \"ticks\": \"\"}, \"baxis\": {\"gridcolor\": \"white\", \"linecolor\": \"white\", \"ticks\": \"\"}, \"bgcolor\": \"#E5ECF6\", \"caxis\": {\"gridcolor\": \"white\", \"linecolor\": \"white\", \"ticks\": \"\"}}, \"title\": {\"x\": 0.05}, \"xaxis\": {\"automargin\": true, \"gridcolor\": \"white\", \"linecolor\": \"white\", \"ticks\": \"\", \"title\": {\"standoff\": 15}, \"zerolinecolor\": \"white\", \"zerolinewidth\": 2}, \"yaxis\": {\"automargin\": true, \"gridcolor\": \"white\", \"linecolor\": \"white\", \"ticks\": \"\", \"title\": {\"standoff\": 15}, \"zerolinecolor\": \"white\", \"zerolinewidth\": 2}}}},                        {\"responsive\": true}                    ).then(function(){\n",
              "                            \n",
              "var gd = document.getElementById('9c64f2f9-f0cf-4783-9241-3e2d277c4355');\n",
              "var x = new MutationObserver(function (mutations, observer) {{\n",
              "        var display = window.getComputedStyle(gd).display;\n",
              "        if (!display || display === 'none') {{\n",
              "            console.log([gd, 'removed!']);\n",
              "            Plotly.purge(gd);\n",
              "            observer.disconnect();\n",
              "        }}\n",
              "}});\n",
              "\n",
              "// Listen for the removal of the full notebook cells\n",
              "var notebookContainer = gd.closest('#notebook-container');\n",
              "if (notebookContainer) {{\n",
              "    x.observe(notebookContainer, {childList: true});\n",
              "}}\n",
              "\n",
              "// Listen for the clearing of the current output cell\n",
              "var outputEl = gd.closest('.output');\n",
              "if (outputEl) {{\n",
              "    x.observe(outputEl, {childList: true});\n",
              "}}\n",
              "\n",
              "                        })                };                            </script>        </div>\n",
              "</body>\n",
              "</html>"
            ]
          },
          "metadata": {
            "tags": []
          }
        }
      ]
    },
    {
      "cell_type": "code",
      "metadata": {
        "id": "YQ3SmxK_ZWGV"
      },
      "source": [
        "df.columns"
      ],
      "execution_count": null,
      "outputs": []
    },
    {
      "cell_type": "markdown",
      "metadata": {
        "id": "BDEpHJpDunA1"
      },
      "source": [
        "#Age distribution"
      ]
    },
    {
      "cell_type": "markdown",
      "metadata": {
        "id": "tM2lpVWAuulE"
      },
      "source": [
        "#age group with most people "
      ]
    },
    {
      "cell_type": "markdown",
      "metadata": {
        "id": "0hS0KE0Pu9tY"
      },
      "source": [
        "how many people in each age group?"
      ]
    },
    {
      "cell_type": "code",
      "metadata": {
        "id": "zsnadxUkZl0g"
      },
      "source": [
        "#df.age.sample(33)\n",
        "px.histogram(df, x = 'age', title= ' Number of People in Age Group', template= 'plotly_dark')"
      ],
      "execution_count": null,
      "outputs": []
    },
    {
      "cell_type": "markdown",
      "metadata": {
        "id": "3v2JtZhqm9R5"
      },
      "source": [
        "#Number of people in each age group "
      ]
    },
    {
      "cell_type": "code",
      "metadata": {
        "id": "0pmuZ_MCm0_f"
      },
      "source": [
        "df.age.value_counts()"
      ],
      "execution_count": null,
      "outputs": []
    },
    {
      "cell_type": "markdown",
      "metadata": {
        "id": "cuzTbo90vYc4"
      },
      "source": [
        "#group bar chart"
      ]
    },
    {
      "cell_type": "code",
      "metadata": {
        "id": "ebJn0mT2uTeR"
      },
      "source": [
        "import plotly.graph_objects as go"
      ],
      "execution_count": null,
      "outputs": []
    },
    {
      "cell_type": "markdown",
      "metadata": {
        "id": "M3DuDwFmAa52"
      },
      "source": [
        "#facet subplots by high-BP/death/age"
      ]
    },
    {
      "cell_type": "code",
      "metadata": {
        "id": "jlGSi6LAAZS8"
      },
      "source": [
        "fig = px.bar(df, x = 'sex', y = 'age', color= 'smoking', barmode='group',\n",
        "           facet_row='high_blood_pressure', facet_col='DEATH_EVENT')\n",
        "fig.show()"
      ],
      "execution_count": null,
      "outputs": []
    },
    {
      "cell_type": "code",
      "metadata": {
        "id": "ADlzn5iLAaNH"
      },
      "source": [
        "df.columns"
      ],
      "execution_count": null,
      "outputs": []
    },
    {
      "cell_type": "code",
      "metadata": {
        "id": "gBtokm8xAab5"
      },
      "source": [
        ""
      ],
      "execution_count": null,
      "outputs": []
    },
    {
      "cell_type": "markdown",
      "metadata": {
        "id": "EkNYaYV5nhgv"
      },
      "source": [
        "#Platlet value for each gender/smoking/high-BP "
      ]
    },
    {
      "cell_type": "code",
      "metadata": {
        "id": "UGJqH30uxYPp"
      },
      "source": [
        "df[['high_blood_pressure', 'platelets','sex', 'smoking']].value_counts()"
      ],
      "execution_count": null,
      "outputs": []
    },
    {
      "cell_type": "markdown",
      "metadata": {
        "id": "F_mFZLKUnyXa"
      },
      "source": [
        "#number of people with/without high-BP"
      ]
    },
    {
      "cell_type": "code",
      "metadata": {
        "id": "KHeg2R0XxaEn"
      },
      "source": [
        "df.high_blood_pressure.value_counts()"
      ],
      "execution_count": null,
      "outputs": []
    },
    {
      "cell_type": "code",
      "metadata": {
        "id": "S9Q0KocE1OTz"
      },
      "source": [
        "px.histogram(df, x = 'sex', y ='high_blood_pressure', color='smoking', title='Count High BP by Gender', template ='plotly_white')"
      ],
      "execution_count": null,
      "outputs": []
    },
    {
      "cell_type": "markdown",
      "metadata": {
        "id": "EKcg4KJurUnW"
      },
      "source": [
        "#overlay histogram"
      ]
    },
    {
      "cell_type": "code",
      "metadata": {
        "id": "aK2JrTswpSP4"
      },
      "source": [
        "import plotly.graph_objects as go\n",
        "x0 = df.DEATH_EVENT.value_counts()\n",
        "x1 = df.smoking.value_counts()\n",
        "x2 = df.high_blood_pressure.value_counts()\n",
        "x3 = df.sex.value_counts()\n",
        "\n",
        "fig = go.Figure()\n",
        "fig.add_trace(go.Histogram(x=x0))\n",
        "fig.add_trace(go.Histogram(x=x1))\n",
        "fig.add_trace(go.Histogram(x=x2))\n",
        "fig.add_trace(go.Histogram(x=x3))\n",
        "\n",
        "#overlay all histograms\n",
        "fig.update_layout(barmode='stack')\n",
        "#reduce opacity to see through\n",
        "fig.update_traces(opacity =0.68 )\n",
        "fig.show()"
      ],
      "execution_count": null,
      "outputs": []
    },
    {
      "cell_type": "markdown",
      "metadata": {
        "id": "T_U8l6u_-a3w"
      },
      "source": [
        "#scatter plot sex/smoking/death_event"
      ]
    },
    {
      "cell_type": "code",
      "metadata": {
        "id": "pe3DErVjrbuz",
        "colab": {
          "base_uri": "https://localhost:8080/",
          "height": 542
        },
        "outputId": "c44b358c-d399-4a0e-adb6-782d3459a8a6"
      },
      "source": [
        "px.scatter(df, x = 'sex', y = 'age', color = 'smoking', title='Correlation Between Death/Smoking by Gender', template='plotly_dark')"
      ],
      "execution_count": null,
      "outputs": [
        {
          "output_type": "display_data",
          "data": {
            "text/html": [
              "<html>\n",
              "<head><meta charset=\"utf-8\" /></head>\n",
              "<body>\n",
              "    <div>            <script src=\"https://cdnjs.cloudflare.com/ajax/libs/mathjax/2.7.5/MathJax.js?config=TeX-AMS-MML_SVG\"></script><script type=\"text/javascript\">if (window.MathJax) {MathJax.Hub.Config({SVG: {font: \"STIX-Web\"}});}</script>                <script type=\"text/javascript\">window.PlotlyConfig = {MathJaxConfig: 'local'};</script>\n",
              "        <script src=\"https://cdn.plot.ly/plotly-latest.min.js\"></script>                <div id=\"3b4f247a-ad75-45ca-bbc2-7c8686e2b9cb\" class=\"plotly-graph-div\" style=\"height:525px; width:100%;\"></div>            <script type=\"text/javascript\">                                    window.PLOTLYENV=window.PLOTLYENV || {};                                    if (document.getElementById(\"3b4f247a-ad75-45ca-bbc2-7c8686e2b9cb\")) {                    Plotly.newPlot(                        \"3b4f247a-ad75-45ca-bbc2-7c8686e2b9cb\",                        [{\"hovertemplate\": \"smoking=0<br>sex=%{x}<br>age=%{y}<extra></extra>\", \"legendgroup\": \"0\", \"marker\": {\"color\": \"#636efa\", \"symbol\": \"circle\"}, \"mode\": \"markers\", \"name\": \"0\", \"orientation\": \"v\", \"showlegend\": true, \"type\": \"scatter\", \"x\": [\"1\", \"1\", \"1\", \"0\", \"1\", \"0\", \"1\", \"1\", \"0\", \"1\", \"1\", \"1\", \"0\", \"0\", \"0\", \"0\", \"1\", \"0\", \"0\", \"1\", \"1\", \"1\", \"0\", \"0\", \"1\", \"1\", \"1\", \"0\", \"1\", \"0\", \"1\", \"0\", \"1\", \"1\", \"0\", \"1\", \"0\", \"0\", \"0\", \"1\", \"1\", \"0\", \"1\", \"0\", \"0\", \"0\", \"1\", \"1\", \"0\", \"0\", \"0\", \"1\", \"0\", \"1\", \"1\", \"1\", \"1\", \"1\", \"1\", \"0\", \"1\", \"0\", \"1\", \"1\", \"0\", \"0\", \"0\", \"1\", \"1\", \"0\", \"1\", \"1\", \"1\", \"0\", \"1\", \"0\", \"0\", \"0\", \"0\", \"0\", \"0\", \"0\", \"0\", \"1\", \"0\", \"0\", \"0\", \"1\", \"1\", \"0\", \"1\", \"0\", \"1\", \"0\", \"1\", \"1\", \"0\", \"0\", \"0\", \"1\", \"1\", \"1\", \"0\", \"1\", \"0\", \"1\", \"0\", \"1\", \"1\", \"0\", \"1\", \"0\", \"1\", \"0\", \"0\", \"1\", \"0\", \"1\", \"1\", \"1\", \"1\", \"0\", \"0\", \"0\", \"0\", \"1\", \"0\", \"1\", \"1\", \"1\", \"0\", \"0\", \"0\", \"1\", \"1\", \"1\", \"0\", \"0\", \"1\", \"0\", \"0\", \"0\", \"1\", \"1\", \"0\", \"0\", \"1\", \"0\", \"1\", \"1\", \"1\", \"0\", \"1\", \"0\", \"0\", \"0\", \"1\", \"1\", \"1\", \"1\", \"0\", \"0\", \"0\", \"1\", \"1\", \"1\", \"1\", \"0\", \"0\", \"0\", \"1\", \"0\", \"1\", \"0\", \"1\", \"1\", \"1\", \"0\", \"1\", \"0\", \"1\", \"1\", \"0\", \"1\", \"0\", \"0\", \"1\", \"0\", \"0\", \"1\", \"0\", \"0\", \"1\", \"1\", \"1\", \"1\", \"0\", \"0\", \"0\", \"0\", \"1\", \"0\", \"0\"], \"xaxis\": \"x\", \"y\": [\"75\", \"55\", \"50\", \"65\", \"75\", \"65\", \"45\", \"50\", \"49\", \"82\", \"87\", \"45\", \"70\", \"48\", \"65\", \"65\", \"53\", \"75\", \"95\", \"58\", \"94\", \"85\", \"50\", \"50\", \"65\", \"69\", \"90\", \"82\", \"60\", \"60\", \"72\", \"60\", \"51\", \"80\", \"57\", \"68\", \"53\", \"60\", \"70\", \"95\", \"45\", \"50\", \"45\", \"45\", \"42\", \"70\", \"65\", \"42\", \"55\", \"70\", \"60\", \"79\", \"59\", \"51\", \"55\", \"65\", \"44\", \"57\", \"60\", \"42\", \"60\", \"58\", \"58\", \"63\", \"70\", \"60\", \"63\", \"65\", \"75\", \"60\", \"55\", \"45\", \"50\", \"70\", \"60\", \"58\", \"60\", \"85\", \"65\", \"86\", \"66\", \"60\", \"60\", \"60\", \"43\", \"46\", \"58\", \"53\", \"60\", \"46\", \"75\", \"65\", \"68\", \"62\", \"50\", \"80\", \"46\", \"50\", \"61\", \"64\", \"75\", \"60\", \"72\", \"62\", \"65\", \"60\", \"52\", \"85\", \"66\", \"50\", \"45\", \"80\", \"59\", \"65\", \"70\", \"50\", \"49\", \"63\", \"40\", \"75\", \"60.667\", \"50\", \"60\", \"60.667\", \"40\", \"80\", \"64\", \"50\", \"45\", \"77\", \"45\", \"65\", \"50\", \"63\", \"45\", \"70\", \"50\", \"40\", \"85\", \"60\", \"49\", \"48\", \"65\", \"73\", \"70\", \"54\", \"68\", \"55\", \"73\", \"47\", \"58\", \"75\", \"55\", \"65\", \"72\", \"60\", \"40\", \"77\", \"75\", \"70\", \"65\", \"70\", \"73\", \"54\", \"61\", \"55\", \"64\", \"53\", \"50\", \"55\", \"50\", \"70\", \"53\", \"65\", \"58\", \"45\", \"55\", \"62\", \"65\", \"68\", \"61\", \"56\", \"45\", \"40\", \"51\", \"67\", \"42\", \"45\", \"70\", \"70\", \"50\", \"55\", \"70\", \"50\", \"55\", \"60\", \"45\", \"65\", \"90\", \"45\", \"60\", \"55\", \"45\"], \"yaxis\": \"y\"}, {\"hovertemplate\": \"smoking=1<br>sex=%{x}<br>age=%{y}<extra></extra>\", \"legendgroup\": \"1\", \"marker\": {\"color\": \"#EF553B\", \"symbol\": \"circle\"}, \"mode\": \"markers\", \"name\": \"1\", \"orientation\": \"v\", \"showlegend\": true, \"type\": \"scatter\", \"x\": [\"1\", \"1\", \"1\", \"1\", \"1\", \"1\", \"1\", \"1\", \"1\", \"1\", \"1\", \"0\", \"1\", \"1\", \"1\", \"0\", \"1\", \"1\", \"1\", \"1\", \"1\", \"1\", \"1\", \"1\", \"1\", \"1\", \"1\", \"1\", \"1\", \"0\", \"1\", \"1\", \"1\", \"1\", \"1\", \"0\", \"1\", \"1\", \"1\", \"1\", \"1\", \"1\", \"1\", \"1\", \"1\", \"1\", \"1\", \"1\", \"1\", \"1\", \"1\", \"1\", \"1\", \"1\", \"1\", \"1\", \"1\", \"1\", \"1\", \"1\", \"1\", \"1\", \"1\", \"1\", \"1\", \"1\", \"1\", \"1\", \"1\", \"1\", \"1\", \"1\", \"1\", \"1\", \"1\", \"1\", \"1\", \"1\", \"1\", \"1\", \"1\", \"1\", \"1\", \"1\", \"1\", \"1\", \"1\", \"1\", \"1\", \"1\", \"1\", \"1\", \"1\", \"1\", \"1\", \"1\"], \"xaxis\": \"x\", \"y\": [\"65\", \"90\", \"60\", \"80\", \"75\", \"62\", \"68\", \"80\", \"70\", \"82\", \"70\", \"50\", \"70\", \"50\", \"60\", \"60\", \"70\", \"60\", \"49\", \"72\", \"55\", \"60\", \"72\", \"41\", \"58\", \"85\", \"65\", \"69\", \"60\", \"70\", \"75\", \"67\", \"70\", \"80\", \"42\", \"72\", \"63\", \"45\", \"85\", \"55\", \"60\", \"61\", \"53\", \"63\", \"81\", \"72\", \"50\", \"52\", \"50\", \"50\", \"50\", \"59\", \"45\", \"63\", \"53\", \"51\", \"52\", \"70\", \"65\", \"60\", \"69\", \"55\", \"59\", \"65\", \"58\", \"73\", \"60\", \"60\", \"78\", \"70\", \"50\", \"78\", \"65\", \"42\", \"58\", \"70\", \"53\", \"53\", \"55\", \"65\", \"40\", \"40\", \"52\", \"53\", \"50\", \"55\", \"44\", \"60\", \"70\", \"42\", \"65\", \"52\", \"63\", \"62\", \"45\", \"50\"], \"yaxis\": \"y\"}],                        {\"legend\": {\"title\": {\"text\": \"smoking\"}, \"tracegroupgap\": 0}, \"template\": {\"data\": {\"bar\": [{\"error_x\": {\"color\": \"#f2f5fa\"}, \"error_y\": {\"color\": \"#f2f5fa\"}, \"marker\": {\"line\": {\"color\": \"rgb(17,17,17)\", \"width\": 0.5}}, \"type\": \"bar\"}], \"barpolar\": [{\"marker\": {\"line\": {\"color\": \"rgb(17,17,17)\", \"width\": 0.5}}, \"type\": \"barpolar\"}], \"carpet\": [{\"aaxis\": {\"endlinecolor\": \"#A2B1C6\", \"gridcolor\": \"#506784\", \"linecolor\": \"#506784\", \"minorgridcolor\": \"#506784\", \"startlinecolor\": \"#A2B1C6\"}, \"baxis\": {\"endlinecolor\": \"#A2B1C6\", \"gridcolor\": \"#506784\", \"linecolor\": \"#506784\", \"minorgridcolor\": \"#506784\", \"startlinecolor\": \"#A2B1C6\"}, \"type\": \"carpet\"}], \"choropleth\": [{\"colorbar\": {\"outlinewidth\": 0, \"ticks\": \"\"}, \"type\": \"choropleth\"}], \"contour\": [{\"colorbar\": {\"outlinewidth\": 0, \"ticks\": \"\"}, \"colorscale\": [[0.0, \"#0d0887\"], [0.1111111111111111, \"#46039f\"], [0.2222222222222222, \"#7201a8\"], [0.3333333333333333, \"#9c179e\"], [0.4444444444444444, \"#bd3786\"], [0.5555555555555556, \"#d8576b\"], [0.6666666666666666, \"#ed7953\"], [0.7777777777777778, \"#fb9f3a\"], [0.8888888888888888, \"#fdca26\"], [1.0, \"#f0f921\"]], \"type\": \"contour\"}], \"contourcarpet\": [{\"colorbar\": {\"outlinewidth\": 0, \"ticks\": \"\"}, \"type\": \"contourcarpet\"}], \"heatmap\": [{\"colorbar\": {\"outlinewidth\": 0, \"ticks\": \"\"}, \"colorscale\": [[0.0, \"#0d0887\"], [0.1111111111111111, \"#46039f\"], [0.2222222222222222, \"#7201a8\"], [0.3333333333333333, \"#9c179e\"], [0.4444444444444444, \"#bd3786\"], [0.5555555555555556, \"#d8576b\"], [0.6666666666666666, \"#ed7953\"], [0.7777777777777778, \"#fb9f3a\"], [0.8888888888888888, \"#fdca26\"], [1.0, \"#f0f921\"]], \"type\": \"heatmap\"}], \"heatmapgl\": [{\"colorbar\": {\"outlinewidth\": 0, \"ticks\": \"\"}, \"colorscale\": [[0.0, \"#0d0887\"], [0.1111111111111111, \"#46039f\"], [0.2222222222222222, \"#7201a8\"], [0.3333333333333333, \"#9c179e\"], [0.4444444444444444, \"#bd3786\"], [0.5555555555555556, \"#d8576b\"], [0.6666666666666666, \"#ed7953\"], [0.7777777777777778, \"#fb9f3a\"], [0.8888888888888888, \"#fdca26\"], [1.0, \"#f0f921\"]], \"type\": \"heatmapgl\"}], \"histogram\": [{\"marker\": {\"colorbar\": {\"outlinewidth\": 0, \"ticks\": \"\"}}, \"type\": \"histogram\"}], \"histogram2d\": [{\"colorbar\": {\"outlinewidth\": 0, \"ticks\": \"\"}, \"colorscale\": [[0.0, \"#0d0887\"], [0.1111111111111111, \"#46039f\"], [0.2222222222222222, \"#7201a8\"], [0.3333333333333333, \"#9c179e\"], [0.4444444444444444, \"#bd3786\"], [0.5555555555555556, \"#d8576b\"], [0.6666666666666666, \"#ed7953\"], [0.7777777777777778, \"#fb9f3a\"], [0.8888888888888888, \"#fdca26\"], [1.0, \"#f0f921\"]], \"type\": \"histogram2d\"}], \"histogram2dcontour\": [{\"colorbar\": {\"outlinewidth\": 0, \"ticks\": \"\"}, \"colorscale\": [[0.0, \"#0d0887\"], [0.1111111111111111, \"#46039f\"], [0.2222222222222222, \"#7201a8\"], [0.3333333333333333, \"#9c179e\"], [0.4444444444444444, \"#bd3786\"], [0.5555555555555556, \"#d8576b\"], [0.6666666666666666, \"#ed7953\"], [0.7777777777777778, \"#fb9f3a\"], [0.8888888888888888, \"#fdca26\"], [1.0, \"#f0f921\"]], \"type\": \"histogram2dcontour\"}], \"mesh3d\": [{\"colorbar\": {\"outlinewidth\": 0, \"ticks\": \"\"}, \"type\": \"mesh3d\"}], \"parcoords\": [{\"line\": {\"colorbar\": {\"outlinewidth\": 0, \"ticks\": \"\"}}, \"type\": \"parcoords\"}], \"pie\": [{\"automargin\": true, \"type\": \"pie\"}], \"scatter\": [{\"marker\": {\"line\": {\"color\": \"#283442\"}}, \"type\": \"scatter\"}], \"scatter3d\": [{\"line\": {\"colorbar\": {\"outlinewidth\": 0, \"ticks\": \"\"}}, \"marker\": {\"colorbar\": {\"outlinewidth\": 0, \"ticks\": \"\"}}, \"type\": \"scatter3d\"}], \"scattercarpet\": [{\"marker\": {\"colorbar\": {\"outlinewidth\": 0, \"ticks\": \"\"}}, \"type\": \"scattercarpet\"}], \"scattergeo\": [{\"marker\": {\"colorbar\": {\"outlinewidth\": 0, \"ticks\": \"\"}}, \"type\": \"scattergeo\"}], \"scattergl\": [{\"marker\": {\"line\": {\"color\": \"#283442\"}}, \"type\": \"scattergl\"}], \"scattermapbox\": [{\"marker\": {\"colorbar\": {\"outlinewidth\": 0, \"ticks\": \"\"}}, \"type\": \"scattermapbox\"}], \"scatterpolar\": [{\"marker\": {\"colorbar\": {\"outlinewidth\": 0, \"ticks\": \"\"}}, \"type\": \"scatterpolar\"}], \"scatterpolargl\": [{\"marker\": {\"colorbar\": {\"outlinewidth\": 0, \"ticks\": \"\"}}, \"type\": \"scatterpolargl\"}], \"scatterternary\": [{\"marker\": {\"colorbar\": {\"outlinewidth\": 0, \"ticks\": \"\"}}, \"type\": \"scatterternary\"}], \"surface\": [{\"colorbar\": {\"outlinewidth\": 0, \"ticks\": \"\"}, \"colorscale\": [[0.0, \"#0d0887\"], [0.1111111111111111, \"#46039f\"], [0.2222222222222222, \"#7201a8\"], [0.3333333333333333, \"#9c179e\"], [0.4444444444444444, \"#bd3786\"], [0.5555555555555556, \"#d8576b\"], [0.6666666666666666, \"#ed7953\"], [0.7777777777777778, \"#fb9f3a\"], [0.8888888888888888, \"#fdca26\"], [1.0, \"#f0f921\"]], \"type\": \"surface\"}], \"table\": [{\"cells\": {\"fill\": {\"color\": \"#506784\"}, \"line\": {\"color\": \"rgb(17,17,17)\"}}, \"header\": {\"fill\": {\"color\": \"#2a3f5f\"}, \"line\": {\"color\": \"rgb(17,17,17)\"}}, \"type\": \"table\"}]}, \"layout\": {\"annotationdefaults\": {\"arrowcolor\": \"#f2f5fa\", \"arrowhead\": 0, \"arrowwidth\": 1}, \"autotypenumbers\": \"strict\", \"coloraxis\": {\"colorbar\": {\"outlinewidth\": 0, \"ticks\": \"\"}}, \"colorscale\": {\"diverging\": [[0, \"#8e0152\"], [0.1, \"#c51b7d\"], [0.2, \"#de77ae\"], [0.3, \"#f1b6da\"], [0.4, \"#fde0ef\"], [0.5, \"#f7f7f7\"], [0.6, \"#e6f5d0\"], [0.7, \"#b8e186\"], [0.8, \"#7fbc41\"], [0.9, \"#4d9221\"], [1, \"#276419\"]], \"sequential\": [[0.0, \"#0d0887\"], [0.1111111111111111, \"#46039f\"], [0.2222222222222222, \"#7201a8\"], [0.3333333333333333, \"#9c179e\"], [0.4444444444444444, \"#bd3786\"], [0.5555555555555556, \"#d8576b\"], [0.6666666666666666, \"#ed7953\"], [0.7777777777777778, \"#fb9f3a\"], [0.8888888888888888, \"#fdca26\"], [1.0, \"#f0f921\"]], \"sequentialminus\": [[0.0, \"#0d0887\"], [0.1111111111111111, \"#46039f\"], [0.2222222222222222, \"#7201a8\"], [0.3333333333333333, \"#9c179e\"], [0.4444444444444444, \"#bd3786\"], [0.5555555555555556, \"#d8576b\"], [0.6666666666666666, \"#ed7953\"], [0.7777777777777778, \"#fb9f3a\"], [0.8888888888888888, \"#fdca26\"], [1.0, \"#f0f921\"]]}, \"colorway\": [\"#636efa\", \"#EF553B\", \"#00cc96\", \"#ab63fa\", \"#FFA15A\", \"#19d3f3\", \"#FF6692\", \"#B6E880\", \"#FF97FF\", \"#FECB52\"], \"font\": {\"color\": \"#f2f5fa\"}, \"geo\": {\"bgcolor\": \"rgb(17,17,17)\", \"lakecolor\": \"rgb(17,17,17)\", \"landcolor\": \"rgb(17,17,17)\", \"showlakes\": true, \"showland\": true, \"subunitcolor\": \"#506784\"}, \"hoverlabel\": {\"align\": \"left\"}, \"hovermode\": \"closest\", \"mapbox\": {\"style\": \"dark\"}, \"paper_bgcolor\": \"rgb(17,17,17)\", \"plot_bgcolor\": \"rgb(17,17,17)\", \"polar\": {\"angularaxis\": {\"gridcolor\": \"#506784\", \"linecolor\": \"#506784\", \"ticks\": \"\"}, \"bgcolor\": \"rgb(17,17,17)\", \"radialaxis\": {\"gridcolor\": \"#506784\", \"linecolor\": \"#506784\", \"ticks\": \"\"}}, \"scene\": {\"xaxis\": {\"backgroundcolor\": \"rgb(17,17,17)\", \"gridcolor\": \"#506784\", \"gridwidth\": 2, \"linecolor\": \"#506784\", \"showbackground\": true, \"ticks\": \"\", \"zerolinecolor\": \"#C8D4E3\"}, \"yaxis\": {\"backgroundcolor\": \"rgb(17,17,17)\", \"gridcolor\": \"#506784\", \"gridwidth\": 2, \"linecolor\": \"#506784\", \"showbackground\": true, \"ticks\": \"\", \"zerolinecolor\": \"#C8D4E3\"}, \"zaxis\": {\"backgroundcolor\": \"rgb(17,17,17)\", \"gridcolor\": \"#506784\", \"gridwidth\": 2, \"linecolor\": \"#506784\", \"showbackground\": true, \"ticks\": \"\", \"zerolinecolor\": \"#C8D4E3\"}}, \"shapedefaults\": {\"line\": {\"color\": \"#f2f5fa\"}}, \"sliderdefaults\": {\"bgcolor\": \"#C8D4E3\", \"bordercolor\": \"rgb(17,17,17)\", \"borderwidth\": 1, \"tickwidth\": 0}, \"ternary\": {\"aaxis\": {\"gridcolor\": \"#506784\", \"linecolor\": \"#506784\", \"ticks\": \"\"}, \"baxis\": {\"gridcolor\": \"#506784\", \"linecolor\": \"#506784\", \"ticks\": \"\"}, \"bgcolor\": \"rgb(17,17,17)\", \"caxis\": {\"gridcolor\": \"#506784\", \"linecolor\": \"#506784\", \"ticks\": \"\"}}, \"title\": {\"x\": 0.05}, \"updatemenudefaults\": {\"bgcolor\": \"#506784\", \"borderwidth\": 0}, \"xaxis\": {\"automargin\": true, \"gridcolor\": \"#283442\", \"linecolor\": \"#506784\", \"ticks\": \"\", \"title\": {\"standoff\": 15}, \"zerolinecolor\": \"#283442\", \"zerolinewidth\": 2}, \"yaxis\": {\"automargin\": true, \"gridcolor\": \"#283442\", \"linecolor\": \"#506784\", \"ticks\": \"\", \"title\": {\"standoff\": 15}, \"zerolinecolor\": \"#283442\", \"zerolinewidth\": 2}}}, \"title\": {\"text\": \"Correlation Between Death/Smoking by Gender\"}, \"xaxis\": {\"anchor\": \"y\", \"domain\": [0.0, 1.0], \"title\": {\"text\": \"sex\"}}, \"yaxis\": {\"anchor\": \"x\", \"domain\": [0.0, 1.0], \"title\": {\"text\": \"age\"}}},                        {\"responsive\": true}                    ).then(function(){\n",
              "                            \n",
              "var gd = document.getElementById('3b4f247a-ad75-45ca-bbc2-7c8686e2b9cb');\n",
              "var x = new MutationObserver(function (mutations, observer) {{\n",
              "        var display = window.getComputedStyle(gd).display;\n",
              "        if (!display || display === 'none') {{\n",
              "            console.log([gd, 'removed!']);\n",
              "            Plotly.purge(gd);\n",
              "            observer.disconnect();\n",
              "        }}\n",
              "}});\n",
              "\n",
              "// Listen for the removal of the full notebook cells\n",
              "var notebookContainer = gd.closest('#notebook-container');\n",
              "if (notebookContainer) {{\n",
              "    x.observe(notebookContainer, {childList: true});\n",
              "}}\n",
              "\n",
              "// Listen for the clearing of the current output cell\n",
              "var outputEl = gd.closest('.output');\n",
              "if (outputEl) {{\n",
              "    x.observe(outputEl, {childList: true});\n",
              "}}\n",
              "\n",
              "                        })                };                            </script>        </div>\n",
              "</body>\n",
              "</html>"
            ]
          },
          "metadata": {
            "tags": []
          }
        }
      ]
    },
    {
      "cell_type": "markdown",
      "metadata": {
        "id": "uSTAl-feBtd3"
      },
      "source": [
        "#how many people smoke/died/survived/for_each_gender"
      ]
    },
    {
      "cell_type": "code",
      "metadata": {
        "colab": {
          "base_uri": "https://localhost:8080/",
          "height": 550
        },
        "id": "jUHcraV5_Y7E",
        "outputId": "6c17ceb7-41a2-49a8-9f5b-4609abfed277"
      },
      "source": [
        "pd.pivot_table(df, index=['sex', 'DEATH_EVENT', 'smoking', 'high_blood_pressure'], values=['age'], aggfunc=['count'])"
      ],
      "execution_count": null,
      "outputs": [
        {
          "output_type": "execute_result",
          "data": {
            "text/html": [
              "<div>\n",
              "<style scoped>\n",
              "    .dataframe tbody tr th:only-of-type {\n",
              "        vertical-align: middle;\n",
              "    }\n",
              "\n",
              "    .dataframe tbody tr th {\n",
              "        vertical-align: top;\n",
              "    }\n",
              "\n",
              "    .dataframe thead tr th {\n",
              "        text-align: left;\n",
              "    }\n",
              "\n",
              "    .dataframe thead tr:last-of-type th {\n",
              "        text-align: right;\n",
              "    }\n",
              "</style>\n",
              "<table border=\"1\" class=\"dataframe\">\n",
              "  <thead>\n",
              "    <tr>\n",
              "      <th></th>\n",
              "      <th></th>\n",
              "      <th></th>\n",
              "      <th></th>\n",
              "      <th>count</th>\n",
              "    </tr>\n",
              "    <tr>\n",
              "      <th></th>\n",
              "      <th></th>\n",
              "      <th></th>\n",
              "      <th></th>\n",
              "      <th>age</th>\n",
              "    </tr>\n",
              "    <tr>\n",
              "      <th>sex</th>\n",
              "      <th>DEATH_EVENT</th>\n",
              "      <th>smoking</th>\n",
              "      <th>high_blood_pressure</th>\n",
              "      <th></th>\n",
              "    </tr>\n",
              "  </thead>\n",
              "  <tbody>\n",
              "    <tr>\n",
              "      <th rowspan=\"7\" valign=\"top\">0</th>\n",
              "      <th rowspan=\"3\" valign=\"top\">0</th>\n",
              "      <th rowspan=\"2\" valign=\"top\">0</th>\n",
              "      <th>0</th>\n",
              "      <td>44</td>\n",
              "    </tr>\n",
              "    <tr>\n",
              "      <th>1</th>\n",
              "      <td>26</td>\n",
              "    </tr>\n",
              "    <tr>\n",
              "      <th>1</th>\n",
              "      <th>1</th>\n",
              "      <td>1</td>\n",
              "    </tr>\n",
              "    <tr>\n",
              "      <th rowspan=\"4\" valign=\"top\">1</th>\n",
              "      <th rowspan=\"2\" valign=\"top\">0</th>\n",
              "      <th>0</th>\n",
              "      <td>16</td>\n",
              "    </tr>\n",
              "    <tr>\n",
              "      <th>1</th>\n",
              "      <td>15</td>\n",
              "    </tr>\n",
              "    <tr>\n",
              "      <th rowspan=\"2\" valign=\"top\">1</th>\n",
              "      <th>0</th>\n",
              "      <td>1</td>\n",
              "    </tr>\n",
              "    <tr>\n",
              "      <th>1</th>\n",
              "      <td>2</td>\n",
              "    </tr>\n",
              "    <tr>\n",
              "      <th rowspan=\"8\" valign=\"top\">1</th>\n",
              "      <th rowspan=\"4\" valign=\"top\">0</th>\n",
              "      <th rowspan=\"2\" valign=\"top\">0</th>\n",
              "      <th>0</th>\n",
              "      <td>43</td>\n",
              "    </tr>\n",
              "    <tr>\n",
              "      <th>1</th>\n",
              "      <td>24</td>\n",
              "    </tr>\n",
              "    <tr>\n",
              "      <th rowspan=\"2\" valign=\"top\">1</th>\n",
              "      <th>0</th>\n",
              "      <td>50</td>\n",
              "    </tr>\n",
              "    <tr>\n",
              "      <th>1</th>\n",
              "      <td>15</td>\n",
              "    </tr>\n",
              "    <tr>\n",
              "      <th rowspan=\"4\" valign=\"top\">1</th>\n",
              "      <th rowspan=\"2\" valign=\"top\">0</th>\n",
              "      <th>0</th>\n",
              "      <td>25</td>\n",
              "    </tr>\n",
              "    <tr>\n",
              "      <th>1</th>\n",
              "      <td>10</td>\n",
              "    </tr>\n",
              "    <tr>\n",
              "      <th rowspan=\"2\" valign=\"top\">1</th>\n",
              "      <th>0</th>\n",
              "      <td>15</td>\n",
              "    </tr>\n",
              "    <tr>\n",
              "      <th>1</th>\n",
              "      <td>12</td>\n",
              "    </tr>\n",
              "  </tbody>\n",
              "</table>\n",
              "</div>"
            ],
            "text/plain": [
              "                                            count\n",
              "0                                             age\n",
              "sex DEATH_EVENT smoking high_blood_pressure      \n",
              "0   0           0       0                      44\n",
              "                        1                      26\n",
              "                1       1                       1\n",
              "    1           0       0                      16\n",
              "                        1                      15\n",
              "                1       0                       1\n",
              "                        1                       2\n",
              "1   0           0       0                      43\n",
              "                        1                      24\n",
              "                1       0                      50\n",
              "                        1                      15\n",
              "    1           0       0                      25\n",
              "                        1                      10\n",
              "                1       0                      15\n",
              "                        1                      12"
            ]
          },
          "metadata": {
            "tags": []
          },
          "execution_count": 9
        }
      ]
    },
    {
      "cell_type": "markdown",
      "metadata": {
        "id": "kTiI1ulvo6ZH"
      },
      "source": [
        "#How many percent died/survived for each gender with smoking/diabetes/high_blood_pressure"
      ]
    },
    {
      "cell_type": "code",
      "metadata": {
        "id": "P1aY5HDsA9pY"
      },
      "source": [
        "pd.crosstab([df.sex, df.diabetes, df.smoking, df.high_blood_pressure], df.DEATH_EVENT,  normalize=True)"
      ],
      "execution_count": null,
      "outputs": []
    },
    {
      "cell_type": "markdown",
      "metadata": {
        "id": "ieRTOJJYYSWj"
      },
      "source": [
        "#Age analysis\n"
      ]
    },
    {
      "cell_type": "markdown",
      "metadata": {
        "id": "piAFIr4jYW_T"
      },
      "source": [
        "#find max. ,min, mean, median"
      ]
    },
    {
      "cell_type": "markdown",
      "metadata": {
        "id": "Su9lPaxec2ef"
      },
      "source": [
        "NOTE:  age column is not int or float--> to find the mean value we must change the string datatype to float"
      ]
    },
    {
      "cell_type": "code",
      "metadata": {
        "id": "KswTz12KbgSj"
      },
      "source": [
        "df.info() #to check the datatype "
      ],
      "execution_count": null,
      "outputs": []
    },
    {
      "cell_type": "markdown",
      "metadata": {
        "id": "G-dEEiTQdp57"
      },
      "source": [
        "#change the age datatype to_numeric "
      ]
    },
    {
      "cell_type": "code",
      "metadata": {
        "id": "gOKRzuSfbpNv"
      },
      "source": [
        "df[\"age\"] = pd.to_numeric(df[\"age\"])"
      ],
      "execution_count": null,
      "outputs": []
    },
    {
      "cell_type": "code",
      "metadata": {
        "colab": {
          "base_uri": "https://localhost:8080/"
        },
        "id": "SitZlFnHcEVl",
        "outputId": "fea43e60-7203-4bb1-c174-e7dabe8b99f0"
      },
      "source": [
        "df.age.mean()"
      ],
      "execution_count": null,
      "outputs": [
        {
          "output_type": "execute_result",
          "data": {
            "text/plain": [
              "60.83389297658862"
            ]
          },
          "metadata": {
            "tags": []
          },
          "execution_count": 9
        }
      ]
    },
    {
      "cell_type": "code",
      "metadata": {
        "id": "RhkH-dYHcHBT",
        "colab": {
          "base_uri": "https://localhost:8080/"
        },
        "outputId": "09fec8f8-a9a1-4e5b-9ced-0a3f34915e88"
      },
      "source": [
        "df.info()"
      ],
      "execution_count": null,
      "outputs": [
        {
          "output_type": "stream",
          "text": [
            "<class 'pandas.core.frame.DataFrame'>\n",
            "RangeIndex: 299 entries, 1 to 299\n",
            "Data columns (total 13 columns):\n",
            " #   Column                    Non-Null Count  Dtype  \n",
            "---  ------                    --------------  -----  \n",
            " 0   age                       299 non-null    float64\n",
            " 1   anaemia                   299 non-null    object \n",
            " 2   creatinine_phosphokinase  299 non-null    object \n",
            " 3   diabetes                  299 non-null    object \n",
            " 4   ejection_fraction         299 non-null    object \n",
            " 5   high_blood_pressure       299 non-null    object \n",
            " 6   platelets                 299 non-null    object \n",
            " 7   serum_creatinine          299 non-null    object \n",
            " 8   serum_sodium              299 non-null    object \n",
            " 9   sex                       299 non-null    object \n",
            " 10  smoking                   299 non-null    object \n",
            " 11  time                      299 non-null    object \n",
            " 12  DEATH_EVENT               299 non-null    object \n",
            "dtypes: float64(1), object(12)\n",
            "memory usage: 30.5+ KB\n"
          ],
          "name": "stdout"
        }
      ]
    },
    {
      "cell_type": "code",
      "metadata": {
        "colab": {
          "base_uri": "https://localhost:8080/",
          "height": 166
        },
        "id": "XLtuOwxlcSkM",
        "outputId": "596ba618-1cf9-4601-d359-2e109a4dc5b1"
      },
      "source": [
        "pd.pivot_table(df, index=['sex'], values=['age'], aggfunc=['max', 'min', 'mean', 'median'])"
      ],
      "execution_count": null,
      "outputs": [
        {
          "output_type": "execute_result",
          "data": {
            "text/html": [
              "<div>\n",
              "<style scoped>\n",
              "    .dataframe tbody tr th:only-of-type {\n",
              "        vertical-align: middle;\n",
              "    }\n",
              "\n",
              "    .dataframe tbody tr th {\n",
              "        vertical-align: top;\n",
              "    }\n",
              "\n",
              "    .dataframe thead tr th {\n",
              "        text-align: left;\n",
              "    }\n",
              "\n",
              "    .dataframe thead tr:last-of-type th {\n",
              "        text-align: right;\n",
              "    }\n",
              "</style>\n",
              "<table border=\"1\" class=\"dataframe\">\n",
              "  <thead>\n",
              "    <tr>\n",
              "      <th></th>\n",
              "      <th>max</th>\n",
              "      <th>min</th>\n",
              "      <th>mean</th>\n",
              "      <th>median</th>\n",
              "    </tr>\n",
              "    <tr>\n",
              "      <th></th>\n",
              "      <th>age</th>\n",
              "      <th>age</th>\n",
              "      <th>age</th>\n",
              "      <th>age</th>\n",
              "    </tr>\n",
              "    <tr>\n",
              "      <th>sex</th>\n",
              "      <th></th>\n",
              "      <th></th>\n",
              "      <th></th>\n",
              "      <th></th>\n",
              "    </tr>\n",
              "  </thead>\n",
              "  <tbody>\n",
              "    <tr>\n",
              "      <th>0</th>\n",
              "      <td>95.0</td>\n",
              "      <td>40.0</td>\n",
              "      <td>59.777781</td>\n",
              "      <td>60.0</td>\n",
              "    </tr>\n",
              "    <tr>\n",
              "      <th>1</th>\n",
              "      <td>95.0</td>\n",
              "      <td>40.0</td>\n",
              "      <td>61.405500</td>\n",
              "      <td>60.0</td>\n",
              "    </tr>\n",
              "  </tbody>\n",
              "</table>\n",
              "</div>"
            ],
            "text/plain": [
              "      max   min       mean median\n",
              "0     age   age        age    age\n",
              "sex                              \n",
              "0    95.0  40.0  59.777781   60.0\n",
              "1    95.0  40.0  61.405500   60.0"
            ]
          },
          "metadata": {
            "tags": []
          },
          "execution_count": 11
        }
      ]
    },
    {
      "cell_type": "markdown",
      "metadata": {
        "id": "SsYFoYkrd44n"
      },
      "source": [
        "#mean age of each gender/Death_event "
      ]
    },
    {
      "cell_type": "code",
      "metadata": {
        "colab": {
          "base_uri": "https://localhost:8080/",
          "height": 225
        },
        "id": "cMImt4NDclwM",
        "outputId": "d1114ed4-0de5-446d-e873-dbe648e90f2c"
      },
      "source": [
        "pd.pivot_table(df, index=['sex', 'DEATH_EVENT'], values = 'age', aggfunc=['max','min', 'mean'])"
      ],
      "execution_count": null,
      "outputs": [
        {
          "output_type": "execute_result",
          "data": {
            "text/html": [
              "<div>\n",
              "<style scoped>\n",
              "    .dataframe tbody tr th:only-of-type {\n",
              "        vertical-align: middle;\n",
              "    }\n",
              "\n",
              "    .dataframe tbody tr th {\n",
              "        vertical-align: top;\n",
              "    }\n",
              "\n",
              "    .dataframe thead tr th {\n",
              "        text-align: left;\n",
              "    }\n",
              "\n",
              "    .dataframe thead tr:last-of-type th {\n",
              "        text-align: right;\n",
              "    }\n",
              "</style>\n",
              "<table border=\"1\" class=\"dataframe\">\n",
              "  <thead>\n",
              "    <tr>\n",
              "      <th></th>\n",
              "      <th></th>\n",
              "      <th>max</th>\n",
              "      <th>min</th>\n",
              "      <th>mean</th>\n",
              "    </tr>\n",
              "    <tr>\n",
              "      <th></th>\n",
              "      <th></th>\n",
              "      <th>age</th>\n",
              "      <th>age</th>\n",
              "      <th>age</th>\n",
              "    </tr>\n",
              "    <tr>\n",
              "      <th>sex</th>\n",
              "      <th>DEATH_EVENT</th>\n",
              "      <th></th>\n",
              "      <th></th>\n",
              "      <th></th>\n",
              "    </tr>\n",
              "  </thead>\n",
              "  <tbody>\n",
              "    <tr>\n",
              "      <th rowspan=\"2\" valign=\"top\">0</th>\n",
              "      <th>0</th>\n",
              "      <td>90.0</td>\n",
              "      <td>40.0</td>\n",
              "      <td>58.629113</td>\n",
              "    </tr>\n",
              "    <tr>\n",
              "      <th>1</th>\n",
              "      <td>95.0</td>\n",
              "      <td>42.0</td>\n",
              "      <td>62.176471</td>\n",
              "    </tr>\n",
              "    <tr>\n",
              "      <th rowspan=\"2\" valign=\"top\">1</th>\n",
              "      <th>0</th>\n",
              "      <td>85.0</td>\n",
              "      <td>40.0</td>\n",
              "      <td>58.833333</td>\n",
              "    </tr>\n",
              "    <tr>\n",
              "      <th>1</th>\n",
              "      <td>95.0</td>\n",
              "      <td>45.0</td>\n",
              "      <td>66.881726</td>\n",
              "    </tr>\n",
              "  </tbody>\n",
              "</table>\n",
              "</div>"
            ],
            "text/plain": [
              "                  max   min       mean\n",
              "0                 age   age        age\n",
              "sex DEATH_EVENT                       \n",
              "0   0            90.0  40.0  58.629113\n",
              "    1            95.0  42.0  62.176471\n",
              "1   0            85.0  40.0  58.833333\n",
              "    1            95.0  45.0  66.881726"
            ]
          },
          "metadata": {
            "tags": []
          },
          "execution_count": 12
        }
      ]
    },
    {
      "cell_type": "code",
      "metadata": {
        "colab": {
          "base_uri": "https://localhost:8080/",
          "height": 195
        },
        "id": "XCbH_7-bee1O",
        "outputId": "da4c3485-606a-4264-e30c-4d44e8a572d3"
      },
      "source": [
        "df.head()"
      ],
      "execution_count": null,
      "outputs": [
        {
          "output_type": "execute_result",
          "data": {
            "text/html": [
              "<div>\n",
              "<style scoped>\n",
              "    .dataframe tbody tr th:only-of-type {\n",
              "        vertical-align: middle;\n",
              "    }\n",
              "\n",
              "    .dataframe tbody tr th {\n",
              "        vertical-align: top;\n",
              "    }\n",
              "\n",
              "    .dataframe thead th {\n",
              "        text-align: right;\n",
              "    }\n",
              "</style>\n",
              "<table border=\"1\" class=\"dataframe\">\n",
              "  <thead>\n",
              "    <tr style=\"text-align: right;\">\n",
              "      <th></th>\n",
              "      <th>age</th>\n",
              "      <th>anaemia</th>\n",
              "      <th>creatinine_phosphokinase</th>\n",
              "      <th>diabetes</th>\n",
              "      <th>ejection_fraction</th>\n",
              "      <th>high_blood_pressure</th>\n",
              "      <th>platelets</th>\n",
              "      <th>serum_creatinine</th>\n",
              "      <th>serum_sodium</th>\n",
              "      <th>sex</th>\n",
              "      <th>smoking</th>\n",
              "      <th>time</th>\n",
              "      <th>DEATH_EVENT</th>\n",
              "    </tr>\n",
              "  </thead>\n",
              "  <tbody>\n",
              "    <tr>\n",
              "      <th>1</th>\n",
              "      <td>75.0</td>\n",
              "      <td>0</td>\n",
              "      <td>582</td>\n",
              "      <td>0</td>\n",
              "      <td>20</td>\n",
              "      <td>1</td>\n",
              "      <td>265000</td>\n",
              "      <td>1.9</td>\n",
              "      <td>130</td>\n",
              "      <td>1</td>\n",
              "      <td>0</td>\n",
              "      <td>4</td>\n",
              "      <td>1</td>\n",
              "    </tr>\n",
              "    <tr>\n",
              "      <th>2</th>\n",
              "      <td>55.0</td>\n",
              "      <td>0</td>\n",
              "      <td>7861</td>\n",
              "      <td>0</td>\n",
              "      <td>38</td>\n",
              "      <td>0</td>\n",
              "      <td>263358.03</td>\n",
              "      <td>1.1</td>\n",
              "      <td>136</td>\n",
              "      <td>1</td>\n",
              "      <td>0</td>\n",
              "      <td>6</td>\n",
              "      <td>1</td>\n",
              "    </tr>\n",
              "    <tr>\n",
              "      <th>3</th>\n",
              "      <td>65.0</td>\n",
              "      <td>0</td>\n",
              "      <td>146</td>\n",
              "      <td>0</td>\n",
              "      <td>20</td>\n",
              "      <td>0</td>\n",
              "      <td>162000</td>\n",
              "      <td>1.3</td>\n",
              "      <td>129</td>\n",
              "      <td>1</td>\n",
              "      <td>1</td>\n",
              "      <td>7</td>\n",
              "      <td>1</td>\n",
              "    </tr>\n",
              "    <tr>\n",
              "      <th>4</th>\n",
              "      <td>50.0</td>\n",
              "      <td>1</td>\n",
              "      <td>111</td>\n",
              "      <td>0</td>\n",
              "      <td>20</td>\n",
              "      <td>0</td>\n",
              "      <td>210000</td>\n",
              "      <td>1.9</td>\n",
              "      <td>137</td>\n",
              "      <td>1</td>\n",
              "      <td>0</td>\n",
              "      <td>7</td>\n",
              "      <td>1</td>\n",
              "    </tr>\n",
              "    <tr>\n",
              "      <th>5</th>\n",
              "      <td>65.0</td>\n",
              "      <td>1</td>\n",
              "      <td>160</td>\n",
              "      <td>1</td>\n",
              "      <td>20</td>\n",
              "      <td>0</td>\n",
              "      <td>327000</td>\n",
              "      <td>2.7</td>\n",
              "      <td>116</td>\n",
              "      <td>0</td>\n",
              "      <td>0</td>\n",
              "      <td>8</td>\n",
              "      <td>1</td>\n",
              "    </tr>\n",
              "  </tbody>\n",
              "</table>\n",
              "</div>"
            ],
            "text/plain": [
              "0   age anaemia creatinine_phosphokinase diabetes  ... sex smoking time DEATH_EVENT\n",
              "1  75.0       0                      582        0  ...   1       0    4           1\n",
              "2  55.0       0                     7861        0  ...   1       0    6           1\n",
              "3  65.0       0                      146        0  ...   1       1    7           1\n",
              "4  50.0       1                      111        0  ...   1       0    7           1\n",
              "5  65.0       1                      160        1  ...   0       0    8           1\n",
              "\n",
              "[5 rows x 13 columns]"
            ]
          },
          "metadata": {
            "tags": []
          },
          "execution_count": 13
        }
      ]
    },
    {
      "cell_type": "code",
      "metadata": {
        "colab": {
          "base_uri": "https://localhost:8080/"
        },
        "id": "vAeQfPofexPL",
        "outputId": "bf4a2805-70ae-4499-e09a-e39da9ff48b0"
      },
      "source": [
        "df.info()"
      ],
      "execution_count": null,
      "outputs": [
        {
          "output_type": "stream",
          "text": [
            "<class 'pandas.core.frame.DataFrame'>\n",
            "RangeIndex: 299 entries, 1 to 299\n",
            "Data columns (total 13 columns):\n",
            " #   Column                    Non-Null Count  Dtype  \n",
            "---  ------                    --------------  -----  \n",
            " 0   age                       299 non-null    float64\n",
            " 1   anaemia                   299 non-null    object \n",
            " 2   creatinine_phosphokinase  299 non-null    object \n",
            " 3   diabetes                  299 non-null    object \n",
            " 4   ejection_fraction         299 non-null    object \n",
            " 5   high_blood_pressure       299 non-null    object \n",
            " 6   platelets                 299 non-null    object \n",
            " 7   serum_creatinine          299 non-null    object \n",
            " 8   serum_sodium              299 non-null    object \n",
            " 9   sex                       299 non-null    object \n",
            " 10  smoking                   299 non-null    object \n",
            " 11  time                      299 non-null    object \n",
            " 12  DEATH_EVENT               299 non-null    object \n",
            "dtypes: float64(1), object(12)\n",
            "memory usage: 30.5+ KB\n"
          ],
          "name": "stdout"
        }
      ]
    },
    {
      "cell_type": "markdown",
      "metadata": {
        "id": "3ka44aI6gshe"
      },
      "source": [
        "#convert all columns of DataFrame to int/float"
      ]
    },
    {
      "cell_type": "code",
      "metadata": {
        "colab": {
          "base_uri": "https://localhost:8080/"
        },
        "id": "9JJVVbXIf2cJ",
        "outputId": "f6d3394b-b8dc-49e9-c420-c891c5654792"
      },
      "source": [
        "df = df.apply(pd.to_numeric) # convert all columns of DataFrame\n",
        "df.info()"
      ],
      "execution_count": null,
      "outputs": [
        {
          "output_type": "stream",
          "text": [
            "<class 'pandas.core.frame.DataFrame'>\n",
            "RangeIndex: 299 entries, 1 to 299\n",
            "Data columns (total 13 columns):\n",
            " #   Column                    Non-Null Count  Dtype  \n",
            "---  ------                    --------------  -----  \n",
            " 0   age                       299 non-null    float64\n",
            " 1   anaemia                   299 non-null    int64  \n",
            " 2   creatinine_phosphokinase  299 non-null    int64  \n",
            " 3   diabetes                  299 non-null    int64  \n",
            " 4   ejection_fraction         299 non-null    int64  \n",
            " 5   high_blood_pressure       299 non-null    int64  \n",
            " 6   platelets                 299 non-null    float64\n",
            " 7   serum_creatinine          299 non-null    float64\n",
            " 8   serum_sodium              299 non-null    int64  \n",
            " 9   sex                       299 non-null    int64  \n",
            " 10  smoking                   299 non-null    int64  \n",
            " 11  time                      299 non-null    int64  \n",
            " 12  DEATH_EVENT               299 non-null    int64  \n",
            "dtypes: float64(3), int64(10)\n",
            "memory usage: 30.5 KB\n"
          ],
          "name": "stdout"
        }
      ]
    },
    {
      "cell_type": "code",
      "metadata": {
        "colab": {
          "base_uri": "https://localhost:8080/",
          "height": 195
        },
        "id": "t3T9Wck-gQEs",
        "outputId": "dadc8241-b2f5-4033-f220-259937021b75"
      },
      "source": [
        "df.head()"
      ],
      "execution_count": null,
      "outputs": [
        {
          "output_type": "execute_result",
          "data": {
            "text/html": [
              "<div>\n",
              "<style scoped>\n",
              "    .dataframe tbody tr th:only-of-type {\n",
              "        vertical-align: middle;\n",
              "    }\n",
              "\n",
              "    .dataframe tbody tr th {\n",
              "        vertical-align: top;\n",
              "    }\n",
              "\n",
              "    .dataframe thead th {\n",
              "        text-align: right;\n",
              "    }\n",
              "</style>\n",
              "<table border=\"1\" class=\"dataframe\">\n",
              "  <thead>\n",
              "    <tr style=\"text-align: right;\">\n",
              "      <th></th>\n",
              "      <th>age</th>\n",
              "      <th>anaemia</th>\n",
              "      <th>creatinine_phosphokinase</th>\n",
              "      <th>diabetes</th>\n",
              "      <th>ejection_fraction</th>\n",
              "      <th>high_blood_pressure</th>\n",
              "      <th>platelets</th>\n",
              "      <th>serum_creatinine</th>\n",
              "      <th>serum_sodium</th>\n",
              "      <th>sex</th>\n",
              "      <th>smoking</th>\n",
              "      <th>time</th>\n",
              "      <th>DEATH_EVENT</th>\n",
              "    </tr>\n",
              "  </thead>\n",
              "  <tbody>\n",
              "    <tr>\n",
              "      <th>1</th>\n",
              "      <td>75.0</td>\n",
              "      <td>0</td>\n",
              "      <td>582</td>\n",
              "      <td>0</td>\n",
              "      <td>20</td>\n",
              "      <td>1</td>\n",
              "      <td>265000.00</td>\n",
              "      <td>1.9</td>\n",
              "      <td>130</td>\n",
              "      <td>1</td>\n",
              "      <td>0</td>\n",
              "      <td>4</td>\n",
              "      <td>1</td>\n",
              "    </tr>\n",
              "    <tr>\n",
              "      <th>2</th>\n",
              "      <td>55.0</td>\n",
              "      <td>0</td>\n",
              "      <td>7861</td>\n",
              "      <td>0</td>\n",
              "      <td>38</td>\n",
              "      <td>0</td>\n",
              "      <td>263358.03</td>\n",
              "      <td>1.1</td>\n",
              "      <td>136</td>\n",
              "      <td>1</td>\n",
              "      <td>0</td>\n",
              "      <td>6</td>\n",
              "      <td>1</td>\n",
              "    </tr>\n",
              "    <tr>\n",
              "      <th>3</th>\n",
              "      <td>65.0</td>\n",
              "      <td>0</td>\n",
              "      <td>146</td>\n",
              "      <td>0</td>\n",
              "      <td>20</td>\n",
              "      <td>0</td>\n",
              "      <td>162000.00</td>\n",
              "      <td>1.3</td>\n",
              "      <td>129</td>\n",
              "      <td>1</td>\n",
              "      <td>1</td>\n",
              "      <td>7</td>\n",
              "      <td>1</td>\n",
              "    </tr>\n",
              "    <tr>\n",
              "      <th>4</th>\n",
              "      <td>50.0</td>\n",
              "      <td>1</td>\n",
              "      <td>111</td>\n",
              "      <td>0</td>\n",
              "      <td>20</td>\n",
              "      <td>0</td>\n",
              "      <td>210000.00</td>\n",
              "      <td>1.9</td>\n",
              "      <td>137</td>\n",
              "      <td>1</td>\n",
              "      <td>0</td>\n",
              "      <td>7</td>\n",
              "      <td>1</td>\n",
              "    </tr>\n",
              "    <tr>\n",
              "      <th>5</th>\n",
              "      <td>65.0</td>\n",
              "      <td>1</td>\n",
              "      <td>160</td>\n",
              "      <td>1</td>\n",
              "      <td>20</td>\n",
              "      <td>0</td>\n",
              "      <td>327000.00</td>\n",
              "      <td>2.7</td>\n",
              "      <td>116</td>\n",
              "      <td>0</td>\n",
              "      <td>0</td>\n",
              "      <td>8</td>\n",
              "      <td>1</td>\n",
              "    </tr>\n",
              "  </tbody>\n",
              "</table>\n",
              "</div>"
            ],
            "text/plain": [
              "0   age  anaemia  creatinine_phosphokinase  ...  smoking  time  DEATH_EVENT\n",
              "1  75.0        0                       582  ...        0     4            1\n",
              "2  55.0        0                      7861  ...        0     6            1\n",
              "3  65.0        0                       146  ...        1     7            1\n",
              "4  50.0        1                       111  ...        0     7            1\n",
              "5  65.0        1                       160  ...        0     8            1\n",
              "\n",
              "[5 rows x 13 columns]"
            ]
          },
          "metadata": {
            "tags": []
          },
          "execution_count": 37
        }
      ]
    },
    {
      "cell_type": "code",
      "metadata": {
        "id": "bwFJZdIFiJPW"
      },
      "source": [
        "df[\"DEATH_EVENT\"] = pd.to_numeric(df[\"DEATH_EVENT\"])"
      ],
      "execution_count": null,
      "outputs": []
    },
    {
      "cell_type": "code",
      "metadata": {
        "colab": {
          "base_uri": "https://localhost:8080/",
          "height": 542
        },
        "id": "JqGLK6gJgdTb",
        "outputId": "adc354d2-abf2-4935-c12c-ee0fdb630523"
      },
      "source": [
        "px.scatter(df, x = 'DEATH_EVENT', y='age', color='sex', template='plotly_white', title='Death by Age in each Gender')"
      ],
      "execution_count": null,
      "outputs": [
        {
          "output_type": "display_data",
          "data": {
            "text/html": [
              "<html>\n",
              "<head><meta charset=\"utf-8\" /></head>\n",
              "<body>\n",
              "    <div>\n",
              "            <script src=\"https://cdnjs.cloudflare.com/ajax/libs/mathjax/2.7.5/MathJax.js?config=TeX-AMS-MML_SVG\"></script><script type=\"text/javascript\">if (window.MathJax) {MathJax.Hub.Config({SVG: {font: \"STIX-Web\"}});}</script>\n",
              "                <script type=\"text/javascript\">window.PlotlyConfig = {MathJaxConfig: 'local'};</script>\n",
              "        <script src=\"https://cdn.plot.ly/plotly-latest.min.js\"></script>    \n",
              "            <div id=\"9bf7532e-dc3c-40a4-aa9d-8e9ba18a2b74\" class=\"plotly-graph-div\" style=\"height:525px; width:100%;\"></div>\n",
              "            <script type=\"text/javascript\">\n",
              "                \n",
              "                    window.PLOTLYENV=window.PLOTLYENV || {};\n",
              "                    \n",
              "                if (document.getElementById(\"9bf7532e-dc3c-40a4-aa9d-8e9ba18a2b74\")) {\n",
              "                    Plotly.newPlot(\n",
              "                        '9bf7532e-dc3c-40a4-aa9d-8e9ba18a2b74',\n",
              "                        [{\"hoverlabel\": {\"namelength\": 0}, \"hovertemplate\": \"DEATH_EVENT=%{x}<br>age=%{y}<br>sex=%{marker.color}\", \"legendgroup\": \"\", \"marker\": {\"color\": [1, 1, 1, 1, 0, 1, 1, 1, 0, 1, 1, 1, 1, 1, 0, 1, 1, 1, 0, 0, 0, 0, 1, 1, 0, 1, 0, 1, 1, 1, 1, 1, 0, 0, 1, 1, 1, 0, 1, 0, 1, 0, 1, 1, 0, 1, 1, 1, 1, 0, 1, 0, 0, 0, 0, 1, 1, 1, 1, 1, 1, 0, 1, 1, 0, 1, 0, 1, 0, 1, 1, 1, 1, 1, 1, 1, 0, 1, 1, 0, 0, 1, 0, 1, 0, 1, 1, 1, 1, 1, 1, 1, 0, 1, 0, 1, 1, 0, 0, 0, 1, 1, 1, 1, 0, 0, 1, 1, 1, 1, 1, 1, 1, 0, 1, 0, 0, 0, 0, 0, 1, 0, 0, 0, 1, 0, 0, 0, 1, 1, 1, 1, 0, 1, 1, 1, 0, 1, 0, 1, 1, 0, 0, 0, 1, 1, 1, 1, 1, 1, 0, 1, 1, 1, 0, 1, 0, 1, 1, 1, 1, 1, 1, 0, 1, 0, 1, 1, 0, 0, 1, 1, 1, 1, 1, 1, 1, 0, 1, 1, 1, 1, 1, 1, 1, 1, 0, 0, 0, 0, 1, 0, 1, 1, 1, 1, 0, 0, 0, 1, 1, 1, 1, 1, 1, 0, 0, 1, 0, 0, 1, 1, 1, 0, 1, 1, 0, 0, 1, 0, 1, 1, 1, 1, 1, 0, 1, 1, 0, 0, 0, 1, 1, 1, 1, 1, 1, 1, 0, 1, 0, 1, 1, 0, 1, 1, 1, 1, 1, 0, 0, 0, 1, 0, 1, 1, 0, 1, 1, 1, 1, 0, 1, 0, 1, 1, 1, 1, 0, 1, 1, 0, 0, 1, 1, 0, 0, 1, 0, 0, 1, 1, 1, 1, 1, 1, 1, 0, 0, 0, 0, 1, 1, 1, 1, 0, 0, 1, 1], \"coloraxis\": \"coloraxis\", \"symbol\": \"circle\"}, \"mode\": \"markers\", \"name\": \"\", \"showlegend\": false, \"type\": \"scatter\", \"x\": [1, 1, 1, 1, 1, 1, 1, 1, 1, 1, 1, 1, 1, 1, 0, 1, 1, 1, 1, 1, 0, 1, 1, 0, 1, 1, 1, 1, 1, 1, 1, 1, 1, 0, 1, 1, 1, 1, 0, 1, 1, 1, 1, 0, 1, 1, 1, 1, 1, 1, 1, 1, 1, 1, 1, 1, 0, 0, 1, 1, 1, 1, 0, 1, 0, 1, 1, 1, 1, 1, 0, 0, 1, 0, 1, 1, 0, 0, 0, 0, 0, 0, 1, 0, 1, 0, 0, 0, 0, 0, 0, 0, 0, 1, 0, 0, 0, 0, 0, 0, 0, 0, 0, 0, 0, 1, 0, 0, 0, 0, 1, 0, 0, 1, 0, 0, 0, 0, 0, 1, 0, 0, 0, 0, 1, 0, 1, 0, 0, 0, 0, 0, 0, 0, 0, 0, 0, 0, 0, 0, 1, 0, 0, 0, 1, 0, 0, 0, 1, 0, 1, 0, 0, 0, 0, 0, 0, 0, 0, 0, 0, 0, 0, 1, 1, 1, 0, 1, 0, 0, 0, 0, 0, 0, 0, 0, 0, 0, 0, 0, 0, 1, 1, 1, 1, 1, 1, 1, 0, 0, 0, 0, 0, 0, 1, 1, 0, 0, 0, 0, 0, 0, 0, 0, 0, 0, 0, 0, 0, 0, 0, 0, 0, 1, 0, 0, 0, 1, 0, 0, 1, 0, 0, 0, 0, 0, 0, 0, 0, 0, 1, 0, 0, 0, 0, 0, 0, 0, 0, 0, 0, 0, 0, 0, 0, 0, 1, 0, 0, 0, 0, 0, 0, 0, 0, 0, 0, 0, 0, 0, 0, 0, 1, 0, 0, 0, 1, 0, 0, 0, 0, 0, 0, 0, 0, 0, 0, 0, 0, 0, 0, 0, 0, 0, 0, 0, 0, 0, 0, 0, 0, 0, 0, 0, 0, 0, 0, 0, 0], \"xaxis\": \"x\", \"y\": [75.0, 55.0, 65.0, 50.0, 65.0, 90.0, 75.0, 60.0, 65.0, 80.0, 75.0, 62.0, 45.0, 50.0, 49.0, 82.0, 87.0, 45.0, 70.0, 48.0, 65.0, 65.0, 68.0, 53.0, 75.0, 80.0, 95.0, 70.0, 58.0, 82.0, 94.0, 85.0, 50.0, 50.0, 65.0, 69.0, 90.0, 82.0, 60.0, 60.0, 70.0, 50.0, 70.0, 72.0, 60.0, 50.0, 51.0, 60.0, 80.0, 57.0, 68.0, 53.0, 60.0, 70.0, 60.0, 95.0, 70.0, 60.0, 49.0, 72.0, 45.0, 50.0, 55.0, 45.0, 45.0, 60.0, 42.0, 72.0, 70.0, 65.0, 41.0, 58.0, 85.0, 65.0, 69.0, 60.0, 70.0, 42.0, 75.0, 55.0, 70.0, 67.0, 60.0, 79.0, 59.0, 51.0, 55.0, 65.0, 44.0, 57.0, 70.0, 60.0, 42.0, 60.0, 58.0, 58.0, 63.0, 70.0, 60.0, 63.0, 65.0, 75.0, 80.0, 42.0, 60.0, 72.0, 55.0, 45.0, 63.0, 45.0, 85.0, 55.0, 50.0, 70.0, 60.0, 58.0, 60.0, 85.0, 65.0, 86.0, 60.0, 66.0, 60.0, 60.0, 60.0, 43.0, 46.0, 58.0, 61.0, 53.0, 53.0, 60.0, 46.0, 63.0, 81.0, 75.0, 65.0, 68.0, 62.0, 50.0, 80.0, 46.0, 50.0, 61.0, 72.0, 50.0, 52.0, 64.0, 75.0, 60.0, 72.0, 62.0, 50.0, 50.0, 65.0, 60.0, 52.0, 50.0, 85.0, 59.0, 66.0, 45.0, 63.0, 50.0, 45.0, 80.0, 53.0, 59.0, 65.0, 70.0, 51.0, 52.0, 70.0, 50.0, 65.0, 60.0, 69.0, 49.0, 63.0, 55.0, 40.0, 59.0, 65.0, 75.0, 58.0, 60.667, 50.0, 60.0, 60.667, 40.0, 80.0, 64.0, 50.0, 73.0, 45.0, 77.0, 45.0, 65.0, 50.0, 60.0, 63.0, 45.0, 70.0, 60.0, 78.0, 50.0, 40.0, 85.0, 60.0, 49.0, 70.0, 50.0, 78.0, 48.0, 65.0, 73.0, 70.0, 54.0, 68.0, 55.0, 73.0, 65.0, 42.0, 47.0, 58.0, 75.0, 58.0, 55.0, 65.0, 72.0, 60.0, 70.0, 40.0, 53.0, 53.0, 77.0, 75.0, 70.0, 65.0, 55.0, 70.0, 65.0, 40.0, 73.0, 54.0, 61.0, 55.0, 64.0, 40.0, 53.0, 50.0, 55.0, 50.0, 70.0, 53.0, 52.0, 65.0, 58.0, 45.0, 53.0, 55.0, 62.0, 65.0, 68.0, 61.0, 50.0, 55.0, 56.0, 45.0, 40.0, 44.0, 51.0, 67.0, 42.0, 60.0, 45.0, 70.0, 70.0, 50.0, 55.0, 70.0, 70.0, 42.0, 65.0, 50.0, 55.0, 60.0, 45.0, 65.0, 90.0, 45.0, 60.0, 52.0, 63.0, 62.0, 55.0, 45.0, 45.0, 50.0], \"yaxis\": \"y\"}],\n",
              "                        {\"coloraxis\": {\"colorbar\": {\"title\": {\"text\": \"sex\"}}, \"colorscale\": [[0.0, \"#0d0887\"], [0.1111111111111111, \"#46039f\"], [0.2222222222222222, \"#7201a8\"], [0.3333333333333333, \"#9c179e\"], [0.4444444444444444, \"#bd3786\"], [0.5555555555555556, \"#d8576b\"], [0.6666666666666666, \"#ed7953\"], [0.7777777777777778, \"#fb9f3a\"], [0.8888888888888888, \"#fdca26\"], [1.0, \"#f0f921\"]]}, \"legend\": {\"tracegroupgap\": 0}, \"template\": {\"data\": {\"bar\": [{\"error_x\": {\"color\": \"#2a3f5f\"}, \"error_y\": {\"color\": \"#2a3f5f\"}, \"marker\": {\"line\": {\"color\": \"white\", \"width\": 0.5}}, \"type\": \"bar\"}], \"barpolar\": [{\"marker\": {\"line\": {\"color\": \"white\", \"width\": 0.5}}, \"type\": \"barpolar\"}], \"carpet\": [{\"aaxis\": {\"endlinecolor\": \"#2a3f5f\", \"gridcolor\": \"#C8D4E3\", \"linecolor\": \"#C8D4E3\", \"minorgridcolor\": \"#C8D4E3\", \"startlinecolor\": \"#2a3f5f\"}, \"baxis\": {\"endlinecolor\": \"#2a3f5f\", \"gridcolor\": \"#C8D4E3\", \"linecolor\": \"#C8D4E3\", \"minorgridcolor\": \"#C8D4E3\", \"startlinecolor\": \"#2a3f5f\"}, \"type\": \"carpet\"}], \"choropleth\": [{\"colorbar\": {\"outlinewidth\": 0, \"ticks\": \"\"}, \"type\": \"choropleth\"}], \"contour\": [{\"colorbar\": {\"outlinewidth\": 0, \"ticks\": \"\"}, \"colorscale\": [[0.0, \"#0d0887\"], [0.1111111111111111, \"#46039f\"], [0.2222222222222222, \"#7201a8\"], [0.3333333333333333, \"#9c179e\"], [0.4444444444444444, \"#bd3786\"], [0.5555555555555556, \"#d8576b\"], [0.6666666666666666, \"#ed7953\"], [0.7777777777777778, \"#fb9f3a\"], [0.8888888888888888, \"#fdca26\"], [1.0, \"#f0f921\"]], \"type\": \"contour\"}], \"contourcarpet\": [{\"colorbar\": {\"outlinewidth\": 0, \"ticks\": \"\"}, \"type\": \"contourcarpet\"}], \"heatmap\": [{\"colorbar\": {\"outlinewidth\": 0, \"ticks\": \"\"}, \"colorscale\": [[0.0, \"#0d0887\"], [0.1111111111111111, \"#46039f\"], [0.2222222222222222, \"#7201a8\"], [0.3333333333333333, \"#9c179e\"], [0.4444444444444444, \"#bd3786\"], [0.5555555555555556, \"#d8576b\"], [0.6666666666666666, \"#ed7953\"], [0.7777777777777778, \"#fb9f3a\"], [0.8888888888888888, \"#fdca26\"], [1.0, \"#f0f921\"]], \"type\": \"heatmap\"}], \"heatmapgl\": [{\"colorbar\": {\"outlinewidth\": 0, \"ticks\": \"\"}, \"colorscale\": [[0.0, \"#0d0887\"], [0.1111111111111111, \"#46039f\"], [0.2222222222222222, \"#7201a8\"], [0.3333333333333333, \"#9c179e\"], [0.4444444444444444, \"#bd3786\"], [0.5555555555555556, \"#d8576b\"], [0.6666666666666666, \"#ed7953\"], [0.7777777777777778, \"#fb9f3a\"], [0.8888888888888888, \"#fdca26\"], [1.0, \"#f0f921\"]], \"type\": \"heatmapgl\"}], \"histogram\": [{\"marker\": {\"colorbar\": {\"outlinewidth\": 0, \"ticks\": \"\"}}, \"type\": \"histogram\"}], \"histogram2d\": [{\"colorbar\": {\"outlinewidth\": 0, \"ticks\": \"\"}, \"colorscale\": [[0.0, \"#0d0887\"], [0.1111111111111111, \"#46039f\"], [0.2222222222222222, \"#7201a8\"], [0.3333333333333333, \"#9c179e\"], [0.4444444444444444, \"#bd3786\"], [0.5555555555555556, \"#d8576b\"], [0.6666666666666666, \"#ed7953\"], [0.7777777777777778, \"#fb9f3a\"], [0.8888888888888888, \"#fdca26\"], [1.0, \"#f0f921\"]], \"type\": \"histogram2d\"}], \"histogram2dcontour\": [{\"colorbar\": {\"outlinewidth\": 0, \"ticks\": \"\"}, \"colorscale\": [[0.0, \"#0d0887\"], [0.1111111111111111, \"#46039f\"], [0.2222222222222222, \"#7201a8\"], [0.3333333333333333, \"#9c179e\"], [0.4444444444444444, \"#bd3786\"], [0.5555555555555556, \"#d8576b\"], [0.6666666666666666, \"#ed7953\"], [0.7777777777777778, \"#fb9f3a\"], [0.8888888888888888, \"#fdca26\"], [1.0, \"#f0f921\"]], \"type\": \"histogram2dcontour\"}], \"mesh3d\": [{\"colorbar\": {\"outlinewidth\": 0, \"ticks\": \"\"}, \"type\": \"mesh3d\"}], \"parcoords\": [{\"line\": {\"colorbar\": {\"outlinewidth\": 0, \"ticks\": \"\"}}, \"type\": \"parcoords\"}], \"pie\": [{\"automargin\": true, \"type\": \"pie\"}], \"scatter\": [{\"marker\": {\"colorbar\": {\"outlinewidth\": 0, \"ticks\": \"\"}}, \"type\": \"scatter\"}], \"scatter3d\": [{\"line\": {\"colorbar\": {\"outlinewidth\": 0, \"ticks\": \"\"}}, \"marker\": {\"colorbar\": {\"outlinewidth\": 0, \"ticks\": \"\"}}, \"type\": \"scatter3d\"}], \"scattercarpet\": [{\"marker\": {\"colorbar\": {\"outlinewidth\": 0, \"ticks\": \"\"}}, \"type\": \"scattercarpet\"}], \"scattergeo\": [{\"marker\": {\"colorbar\": {\"outlinewidth\": 0, \"ticks\": \"\"}}, \"type\": \"scattergeo\"}], \"scattergl\": [{\"marker\": {\"colorbar\": {\"outlinewidth\": 0, \"ticks\": \"\"}}, \"type\": \"scattergl\"}], \"scattermapbox\": [{\"marker\": {\"colorbar\": {\"outlinewidth\": 0, \"ticks\": \"\"}}, \"type\": \"scattermapbox\"}], \"scatterpolar\": [{\"marker\": {\"colorbar\": {\"outlinewidth\": 0, \"ticks\": \"\"}}, \"type\": \"scatterpolar\"}], \"scatterpolargl\": [{\"marker\": {\"colorbar\": {\"outlinewidth\": 0, \"ticks\": \"\"}}, \"type\": \"scatterpolargl\"}], \"scatterternary\": [{\"marker\": {\"colorbar\": {\"outlinewidth\": 0, \"ticks\": \"\"}}, \"type\": \"scatterternary\"}], \"surface\": [{\"colorbar\": {\"outlinewidth\": 0, \"ticks\": \"\"}, \"colorscale\": [[0.0, \"#0d0887\"], [0.1111111111111111, \"#46039f\"], [0.2222222222222222, \"#7201a8\"], [0.3333333333333333, \"#9c179e\"], [0.4444444444444444, \"#bd3786\"], [0.5555555555555556, \"#d8576b\"], [0.6666666666666666, \"#ed7953\"], [0.7777777777777778, \"#fb9f3a\"], [0.8888888888888888, \"#fdca26\"], [1.0, \"#f0f921\"]], \"type\": \"surface\"}], \"table\": [{\"cells\": {\"fill\": {\"color\": \"#EBF0F8\"}, \"line\": {\"color\": \"white\"}}, \"header\": {\"fill\": {\"color\": \"#C8D4E3\"}, \"line\": {\"color\": \"white\"}}, \"type\": \"table\"}]}, \"layout\": {\"annotationdefaults\": {\"arrowcolor\": \"#2a3f5f\", \"arrowhead\": 0, \"arrowwidth\": 1}, \"coloraxis\": {\"colorbar\": {\"outlinewidth\": 0, \"ticks\": \"\"}}, \"colorscale\": {\"diverging\": [[0, \"#8e0152\"], [0.1, \"#c51b7d\"], [0.2, \"#de77ae\"], [0.3, \"#f1b6da\"], [0.4, \"#fde0ef\"], [0.5, \"#f7f7f7\"], [0.6, \"#e6f5d0\"], [0.7, \"#b8e186\"], [0.8, \"#7fbc41\"], [0.9, \"#4d9221\"], [1, \"#276419\"]], \"sequential\": [[0.0, \"#0d0887\"], [0.1111111111111111, \"#46039f\"], [0.2222222222222222, \"#7201a8\"], [0.3333333333333333, \"#9c179e\"], [0.4444444444444444, \"#bd3786\"], [0.5555555555555556, \"#d8576b\"], [0.6666666666666666, \"#ed7953\"], [0.7777777777777778, \"#fb9f3a\"], [0.8888888888888888, \"#fdca26\"], [1.0, \"#f0f921\"]], \"sequentialminus\": [[0.0, \"#0d0887\"], [0.1111111111111111, \"#46039f\"], [0.2222222222222222, \"#7201a8\"], [0.3333333333333333, \"#9c179e\"], [0.4444444444444444, \"#bd3786\"], [0.5555555555555556, \"#d8576b\"], [0.6666666666666666, \"#ed7953\"], [0.7777777777777778, \"#fb9f3a\"], [0.8888888888888888, \"#fdca26\"], [1.0, \"#f0f921\"]]}, \"colorway\": [\"#636efa\", \"#EF553B\", \"#00cc96\", \"#ab63fa\", \"#FFA15A\", \"#19d3f3\", \"#FF6692\", \"#B6E880\", \"#FF97FF\", \"#FECB52\"], \"font\": {\"color\": \"#2a3f5f\"}, \"geo\": {\"bgcolor\": \"white\", \"lakecolor\": \"white\", \"landcolor\": \"white\", \"showlakes\": true, \"showland\": true, \"subunitcolor\": \"#C8D4E3\"}, \"hoverlabel\": {\"align\": \"left\"}, \"hovermode\": \"closest\", \"mapbox\": {\"style\": \"light\"}, \"paper_bgcolor\": \"white\", \"plot_bgcolor\": \"white\", \"polar\": {\"angularaxis\": {\"gridcolor\": \"#EBF0F8\", \"linecolor\": \"#EBF0F8\", \"ticks\": \"\"}, \"bgcolor\": \"white\", \"radialaxis\": {\"gridcolor\": \"#EBF0F8\", \"linecolor\": \"#EBF0F8\", \"ticks\": \"\"}}, \"scene\": {\"xaxis\": {\"backgroundcolor\": \"white\", \"gridcolor\": \"#DFE8F3\", \"gridwidth\": 2, \"linecolor\": \"#EBF0F8\", \"showbackground\": true, \"ticks\": \"\", \"zerolinecolor\": \"#EBF0F8\"}, \"yaxis\": {\"backgroundcolor\": \"white\", \"gridcolor\": \"#DFE8F3\", \"gridwidth\": 2, \"linecolor\": \"#EBF0F8\", \"showbackground\": true, \"ticks\": \"\", \"zerolinecolor\": \"#EBF0F8\"}, \"zaxis\": {\"backgroundcolor\": \"white\", \"gridcolor\": \"#DFE8F3\", \"gridwidth\": 2, \"linecolor\": \"#EBF0F8\", \"showbackground\": true, \"ticks\": \"\", \"zerolinecolor\": \"#EBF0F8\"}}, \"shapedefaults\": {\"line\": {\"color\": \"#2a3f5f\"}}, \"ternary\": {\"aaxis\": {\"gridcolor\": \"#DFE8F3\", \"linecolor\": \"#A2B1C6\", \"ticks\": \"\"}, \"baxis\": {\"gridcolor\": \"#DFE8F3\", \"linecolor\": \"#A2B1C6\", \"ticks\": \"\"}, \"bgcolor\": \"white\", \"caxis\": {\"gridcolor\": \"#DFE8F3\", \"linecolor\": \"#A2B1C6\", \"ticks\": \"\"}}, \"title\": {\"x\": 0.05}, \"xaxis\": {\"automargin\": true, \"gridcolor\": \"#EBF0F8\", \"linecolor\": \"#EBF0F8\", \"ticks\": \"\", \"title\": {\"standoff\": 15}, \"zerolinecolor\": \"#EBF0F8\", \"zerolinewidth\": 2}, \"yaxis\": {\"automargin\": true, \"gridcolor\": \"#EBF0F8\", \"linecolor\": \"#EBF0F8\", \"ticks\": \"\", \"title\": {\"standoff\": 15}, \"zerolinecolor\": \"#EBF0F8\", \"zerolinewidth\": 2}}}, \"title\": {\"text\": \"Death by Age in each Gender\"}, \"xaxis\": {\"anchor\": \"y\", \"domain\": [0.0, 1.0], \"title\": {\"text\": \"DEATH_EVENT\"}}, \"yaxis\": {\"anchor\": \"x\", \"domain\": [0.0, 1.0], \"title\": {\"text\": \"age\"}}},\n",
              "                        {\"responsive\": true}\n",
              "                    ).then(function(){\n",
              "                            \n",
              "var gd = document.getElementById('9bf7532e-dc3c-40a4-aa9d-8e9ba18a2b74');\n",
              "var x = new MutationObserver(function (mutations, observer) {{\n",
              "        var display = window.getComputedStyle(gd).display;\n",
              "        if (!display || display === 'none') {{\n",
              "            console.log([gd, 'removed!']);\n",
              "            Plotly.purge(gd);\n",
              "            observer.disconnect();\n",
              "        }}\n",
              "}});\n",
              "\n",
              "// Listen for the removal of the full notebook cells\n",
              "var notebookContainer = gd.closest('#notebook-container');\n",
              "if (notebookContainer) {{\n",
              "    x.observe(notebookContainer, {childList: true});\n",
              "}}\n",
              "\n",
              "// Listen for the clearing of the current output cell\n",
              "var outputEl = gd.closest('.output');\n",
              "if (outputEl) {{\n",
              "    x.observe(outputEl, {childList: true});\n",
              "}}\n",
              "\n",
              "                        })\n",
              "                };\n",
              "                \n",
              "            </script>\n",
              "        </div>\n",
              "</body>\n",
              "</html>"
            ]
          },
          "metadata": {
            "tags": []
          }
        }
      ]
    },
    {
      "cell_type": "code",
      "metadata": {
        "id": "lgvhz_Oih3J7",
        "colab": {
          "base_uri": "https://localhost:8080/",
          "height": 542
        },
        "outputId": "09806593-68a7-4361-cab6-57a929797f70"
      },
      "source": [
        "fig = px.histogram(df, y=\"age\", x=\"DEATH_EVENT\", color=\"sex\", marginal=\"rug\",\n",
        "                   hover_data=df.columns)\n",
        "fig.show()"
      ],
      "execution_count": null,
      "outputs": [
        {
          "output_type": "display_data",
          "data": {
            "text/html": [
              "<html>\n",
              "<head><meta charset=\"utf-8\" /></head>\n",
              "<body>\n",
              "    <div>\n",
              "            <script src=\"https://cdnjs.cloudflare.com/ajax/libs/mathjax/2.7.5/MathJax.js?config=TeX-AMS-MML_SVG\"></script><script type=\"text/javascript\">if (window.MathJax) {MathJax.Hub.Config({SVG: {font: \"STIX-Web\"}});}</script>\n",
              "                <script type=\"text/javascript\">window.PlotlyConfig = {MathJaxConfig: 'local'};</script>\n",
              "        <script src=\"https://cdn.plot.ly/plotly-latest.min.js\"></script>    \n",
              "            <div id=\"34364151-a2f0-4bb5-b467-e2a5de2c8a39\" class=\"plotly-graph-div\" style=\"height:525px; width:100%;\"></div>\n",
              "            <script type=\"text/javascript\">\n",
              "                \n",
              "                    window.PLOTLYENV=window.PLOTLYENV || {};\n",
              "                    \n",
              "                if (document.getElementById(\"34364151-a2f0-4bb5-b467-e2a5de2c8a39\")) {\n",
              "                    Plotly.newPlot(\n",
              "                        '34364151-a2f0-4bb5-b467-e2a5de2c8a39',\n",
              "                        [{\"alignmentgroup\": \"True\", \"bingroup\": \"x\", \"hoverlabel\": {\"namelength\": 0}, \"hovertemplate\": \"sex=1<br>DEATH_EVENT=%{x}<br>count of age=%{y}\", \"legendgroup\": \"sex=1\", \"marker\": {\"color\": \"#636efa\"}, \"name\": \"sex=1\", \"offsetgroup\": \"sex=1\", \"orientation\": \"v\", \"showlegend\": true, \"type\": \"histogram\", \"x\": [1, 1, 1, 1, 1, 1, 1, 1, 1, 1, 1, 1, 1, 1, 1, 1, 0, 1, 1, 1, 1, 1, 1, 1, 1, 1, 0, 1, 1, 0, 1, 1, 1, 1, 1, 1, 0, 0, 1, 1, 1, 0, 1, 1, 1, 1, 0, 0, 1, 0, 1, 1, 0, 0, 0, 0, 0, 0, 0, 0, 0, 0, 0, 1, 0, 0, 0, 0, 0, 0, 0, 0, 0, 0, 1, 0, 0, 0, 0, 1, 0, 0, 0, 0, 0, 0, 0, 0, 0, 1, 1, 0, 0, 0, 1, 0, 0, 0, 0, 0, 0, 0, 0, 0, 0, 0, 1, 0, 1, 0, 0, 0, 0, 0, 0, 0, 0, 0, 0, 1, 1, 1, 1, 1, 0, 0, 0, 1, 1, 0, 0, 0, 0, 0, 0, 0, 0, 0, 0, 0, 0, 0, 1, 0, 0, 0, 0, 0, 0, 0, 0, 0, 0, 0, 0, 0, 0, 0, 0, 0, 0, 1, 0, 0, 0, 0, 0, 0, 0, 0, 0, 1, 0, 0, 1, 0, 0, 0, 0, 0, 0, 0, 0, 0, 0, 0, 0, 0, 0, 0, 0, 0, 0, 0], \"xaxis\": \"x\", \"y\": [75.0, 55.0, 65.0, 50.0, 90.0, 75.0, 60.0, 80.0, 75.0, 62.0, 45.0, 50.0, 82.0, 87.0, 45.0, 68.0, 53.0, 80.0, 70.0, 58.0, 82.0, 94.0, 85.0, 65.0, 69.0, 90.0, 60.0, 70.0, 70.0, 72.0, 50.0, 51.0, 60.0, 80.0, 68.0, 95.0, 70.0, 60.0, 49.0, 72.0, 45.0, 55.0, 45.0, 60.0, 72.0, 65.0, 41.0, 58.0, 85.0, 65.0, 69.0, 60.0, 42.0, 75.0, 67.0, 79.0, 51.0, 55.0, 65.0, 44.0, 57.0, 70.0, 60.0, 60.0, 58.0, 63.0, 65.0, 75.0, 80.0, 42.0, 55.0, 45.0, 63.0, 45.0, 85.0, 55.0, 50.0, 60.0, 60.0, 60.0, 61.0, 53.0, 53.0, 60.0, 63.0, 81.0, 75.0, 68.0, 50.0, 80.0, 72.0, 50.0, 52.0, 64.0, 75.0, 60.0, 62.0, 50.0, 50.0, 60.0, 50.0, 85.0, 59.0, 66.0, 45.0, 63.0, 45.0, 53.0, 59.0, 51.0, 52.0, 70.0, 50.0, 65.0, 60.0, 69.0, 63.0, 55.0, 40.0, 59.0, 65.0, 75.0, 58.0, 60.667, 80.0, 50.0, 73.0, 45.0, 77.0, 60.0, 63.0, 45.0, 70.0, 60.0, 78.0, 85.0, 70.0, 50.0, 78.0, 65.0, 73.0, 68.0, 73.0, 65.0, 42.0, 47.0, 58.0, 58.0, 55.0, 70.0, 40.0, 53.0, 53.0, 77.0, 75.0, 70.0, 55.0, 65.0, 40.0, 54.0, 61.0, 55.0, 64.0, 40.0, 50.0, 53.0, 52.0, 58.0, 45.0, 53.0, 55.0, 65.0, 61.0, 50.0, 55.0, 56.0, 40.0, 44.0, 42.0, 60.0, 70.0, 70.0, 70.0, 42.0, 65.0, 50.0, 55.0, 60.0, 60.0, 52.0, 63.0, 62.0, 45.0, 50.0], \"yaxis\": \"y\"}, {\"alignmentgroup\": \"True\", \"boxpoints\": \"all\", \"customdata\": [[75.0, 0.0, 582.0, 0.0, 20.0, 1.0, 265000.0, 1.9, 130.0, 1.0, 0.0, 4.0, 1.0], [55.0, 0.0, 7861.0, 0.0, 38.0, 0.0, 263358.03, 1.1, 136.0, 1.0, 0.0, 6.0, 1.0], [65.0, 0.0, 146.0, 0.0, 20.0, 0.0, 162000.0, 1.3, 129.0, 1.0, 1.0, 7.0, 1.0], [50.0, 1.0, 111.0, 0.0, 20.0, 0.0, 210000.0, 1.9, 137.0, 1.0, 0.0, 7.0, 1.0], [90.0, 1.0, 47.0, 0.0, 40.0, 1.0, 204000.0, 2.1, 132.0, 1.0, 1.0, 8.0, 1.0], [75.0, 1.0, 246.0, 0.0, 15.0, 0.0, 127000.0, 1.2, 137.0, 1.0, 0.0, 10.0, 1.0], [60.0, 1.0, 315.0, 1.0, 60.0, 0.0, 454000.0, 1.1, 131.0, 1.0, 1.0, 10.0, 1.0], [80.0, 1.0, 123.0, 0.0, 35.0, 1.0, 388000.0, 9.4, 133.0, 1.0, 1.0, 10.0, 1.0], [75.0, 1.0, 81.0, 0.0, 38.0, 1.0, 368000.0, 4.0, 131.0, 1.0, 1.0, 10.0, 1.0], [62.0, 0.0, 231.0, 0.0, 25.0, 1.0, 253000.0, 0.9, 140.0, 1.0, 1.0, 10.0, 1.0], [45.0, 1.0, 981.0, 0.0, 30.0, 0.0, 136000.0, 1.1, 137.0, 1.0, 0.0, 11.0, 1.0], [50.0, 1.0, 168.0, 0.0, 38.0, 1.0, 276000.0, 1.1, 137.0, 1.0, 0.0, 11.0, 1.0], [82.0, 1.0, 379.0, 0.0, 50.0, 0.0, 47000.0, 1.3, 136.0, 1.0, 0.0, 13.0, 1.0], [87.0, 1.0, 149.0, 0.0, 38.0, 0.0, 262000.0, 0.9, 140.0, 1.0, 0.0, 14.0, 1.0], [45.0, 0.0, 582.0, 0.0, 14.0, 0.0, 166000.0, 0.8, 127.0, 1.0, 0.0, 14.0, 1.0], [68.0, 1.0, 220.0, 0.0, 35.0, 1.0, 289000.0, 0.9, 140.0, 1.0, 1.0, 20.0, 1.0], [53.0, 0.0, 63.0, 1.0, 60.0, 0.0, 368000.0, 0.8, 135.0, 1.0, 0.0, 22.0, 0.0], [80.0, 0.0, 148.0, 1.0, 38.0, 0.0, 149000.0, 1.9, 144.0, 1.0, 1.0, 23.0, 1.0], [70.0, 0.0, 122.0, 1.0, 45.0, 1.0, 284000.0, 1.3, 136.0, 1.0, 1.0, 26.0, 1.0], [58.0, 1.0, 60.0, 0.0, 38.0, 0.0, 153000.0, 5.8, 134.0, 1.0, 0.0, 26.0, 1.0], [82.0, 0.0, 70.0, 1.0, 30.0, 0.0, 200000.0, 1.2, 132.0, 1.0, 1.0, 26.0, 1.0], [94.0, 0.0, 582.0, 1.0, 38.0, 1.0, 263358.03, 1.83, 134.0, 1.0, 0.0, 27.0, 1.0], [85.0, 0.0, 23.0, 0.0, 45.0, 0.0, 360000.0, 3.0, 132.0, 1.0, 0.0, 28.0, 1.0], [65.0, 0.0, 94.0, 1.0, 50.0, 1.0, 188000.0, 1.0, 140.0, 1.0, 0.0, 29.0, 1.0], [69.0, 0.0, 582.0, 1.0, 35.0, 0.0, 228000.0, 3.5, 134.0, 1.0, 0.0, 30.0, 1.0], [90.0, 1.0, 60.0, 1.0, 50.0, 0.0, 226000.0, 1.0, 134.0, 1.0, 0.0, 30.0, 1.0], [60.0, 0.0, 2656.0, 1.0, 30.0, 0.0, 305000.0, 2.3, 137.0, 1.0, 0.0, 30.0, 0.0], [70.0, 0.0, 582.0, 0.0, 20.0, 1.0, 263358.03, 1.83, 134.0, 1.0, 1.0, 31.0, 1.0], [70.0, 0.0, 571.0, 1.0, 45.0, 1.0, 185000.0, 1.2, 139.0, 1.0, 1.0, 33.0, 1.0], [72.0, 0.0, 127.0, 1.0, 50.0, 1.0, 218000.0, 1.0, 134.0, 1.0, 0.0, 33.0, 0.0], [50.0, 0.0, 582.0, 1.0, 38.0, 0.0, 310000.0, 1.9, 135.0, 1.0, 1.0, 35.0, 1.0], [51.0, 0.0, 1380.0, 0.0, 25.0, 1.0, 271000.0, 0.9, 130.0, 1.0, 0.0, 38.0, 1.0], [60.0, 0.0, 582.0, 1.0, 38.0, 1.0, 451000.0, 0.6, 138.0, 1.0, 1.0, 40.0, 1.0], [80.0, 1.0, 553.0, 0.0, 20.0, 1.0, 140000.0, 4.4, 133.0, 1.0, 0.0, 41.0, 1.0], [68.0, 1.0, 577.0, 0.0, 25.0, 1.0, 166000.0, 1.0, 138.0, 1.0, 0.0, 43.0, 1.0], [95.0, 1.0, 371.0, 0.0, 30.0, 0.0, 461000.0, 2.0, 132.0, 1.0, 0.0, 50.0, 1.0], [70.0, 1.0, 75.0, 0.0, 35.0, 0.0, 223000.0, 2.7, 138.0, 1.0, 1.0, 54.0, 0.0], [60.0, 1.0, 607.0, 0.0, 40.0, 0.0, 216000.0, 0.6, 138.0, 1.0, 1.0, 54.0, 0.0], [49.0, 0.0, 789.0, 0.0, 20.0, 1.0, 319000.0, 1.1, 136.0, 1.0, 1.0, 55.0, 1.0], [72.0, 0.0, 364.0, 1.0, 20.0, 1.0, 254000.0, 1.3, 136.0, 1.0, 1.0, 59.0, 1.0], [45.0, 0.0, 7702.0, 1.0, 25.0, 1.0, 390000.0, 1.0, 139.0, 1.0, 0.0, 60.0, 1.0], [55.0, 0.0, 109.0, 0.0, 35.0, 0.0, 254000.0, 1.1, 139.0, 1.0, 1.0, 60.0, 0.0], [45.0, 0.0, 582.0, 0.0, 35.0, 0.0, 385000.0, 1.0, 145.0, 1.0, 0.0, 61.0, 1.0], [60.0, 0.0, 68.0, 0.0, 20.0, 0.0, 119000.0, 2.9, 127.0, 1.0, 1.0, 64.0, 1.0], [72.0, 1.0, 110.0, 0.0, 25.0, 0.0, 274000.0, 1.0, 140.0, 1.0, 1.0, 65.0, 1.0], [65.0, 0.0, 113.0, 1.0, 25.0, 0.0, 497000.0, 1.83, 135.0, 1.0, 0.0, 67.0, 1.0], [41.0, 0.0, 148.0, 0.0, 40.0, 0.0, 374000.0, 0.8, 140.0, 1.0, 1.0, 68.0, 0.0], [58.0, 0.0, 582.0, 1.0, 35.0, 0.0, 122000.0, 0.9, 139.0, 1.0, 1.0, 71.0, 0.0], [85.0, 0.0, 5882.0, 0.0, 35.0, 0.0, 243000.0, 1.0, 132.0, 1.0, 1.0, 72.0, 1.0], [65.0, 0.0, 224.0, 1.0, 50.0, 0.0, 149000.0, 1.3, 137.0, 1.0, 1.0, 72.0, 0.0], [69.0, 0.0, 582.0, 0.0, 20.0, 0.0, 266000.0, 1.2, 134.0, 1.0, 1.0, 73.0, 1.0], [60.0, 1.0, 47.0, 0.0, 20.0, 0.0, 204000.0, 0.7, 139.0, 1.0, 1.0, 73.0, 1.0], [42.0, 0.0, 102.0, 1.0, 40.0, 0.0, 237000.0, 1.2, 140.0, 1.0, 0.0, 74.0, 0.0], [75.0, 1.0, 203.0, 1.0, 38.0, 1.0, 283000.0, 0.6, 131.0, 1.0, 1.0, 74.0, 0.0], [67.0, 0.0, 582.0, 0.0, 50.0, 0.0, 263358.03, 1.18, 137.0, 1.0, 1.0, 76.0, 0.0], [79.0, 1.0, 55.0, 0.0, 50.0, 1.0, 172000.0, 1.8, 133.0, 1.0, 0.0, 78.0, 0.0], [51.0, 0.0, 78.0, 0.0, 50.0, 0.0, 406000.0, 0.7, 140.0, 1.0, 0.0, 79.0, 0.0], [55.0, 0.0, 47.0, 0.0, 35.0, 1.0, 173000.0, 1.1, 137.0, 1.0, 0.0, 79.0, 0.0], [65.0, 1.0, 68.0, 1.0, 60.0, 1.0, 304000.0, 0.8, 140.0, 1.0, 0.0, 79.0, 0.0], [44.0, 0.0, 84.0, 1.0, 40.0, 1.0, 235000.0, 0.7, 139.0, 1.0, 0.0, 79.0, 0.0], [57.0, 1.0, 115.0, 0.0, 25.0, 1.0, 181000.0, 1.1, 144.0, 1.0, 0.0, 79.0, 0.0], [70.0, 0.0, 66.0, 1.0, 45.0, 0.0, 249000.0, 0.8, 136.0, 1.0, 1.0, 80.0, 0.0], [60.0, 0.0, 897.0, 1.0, 45.0, 0.0, 297000.0, 1.0, 133.0, 1.0, 0.0, 80.0, 0.0], [60.0, 1.0, 154.0, 0.0, 25.0, 0.0, 210000.0, 1.7, 135.0, 1.0, 0.0, 82.0, 1.0], [58.0, 1.0, 133.0, 0.0, 60.0, 1.0, 219000.0, 1.0, 141.0, 1.0, 0.0, 83.0, 0.0], [63.0, 1.0, 514.0, 1.0, 25.0, 1.0, 254000.0, 1.3, 134.0, 1.0, 0.0, 83.0, 0.0], [65.0, 1.0, 305.0, 0.0, 25.0, 0.0, 298000.0, 1.1, 141.0, 1.0, 0.0, 87.0, 0.0], [75.0, 0.0, 582.0, 0.0, 45.0, 1.0, 263358.03, 1.18, 137.0, 1.0, 0.0, 87.0, 0.0], [80.0, 0.0, 898.0, 0.0, 25.0, 0.0, 149000.0, 1.1, 144.0, 1.0, 1.0, 87.0, 0.0], [42.0, 0.0, 5209.0, 0.0, 30.0, 0.0, 226000.0, 1.0, 140.0, 1.0, 1.0, 87.0, 0.0], [55.0, 0.0, 748.0, 0.0, 45.0, 0.0, 263000.0, 1.3, 137.0, 1.0, 0.0, 88.0, 0.0], [45.0, 1.0, 1876.0, 1.0, 35.0, 0.0, 226000.0, 0.9, 138.0, 1.0, 0.0, 88.0, 0.0], [63.0, 0.0, 936.0, 0.0, 38.0, 0.0, 304000.0, 1.1, 133.0, 1.0, 1.0, 88.0, 0.0], [45.0, 0.0, 292.0, 1.0, 35.0, 0.0, 850000.0, 1.3, 142.0, 1.0, 1.0, 88.0, 0.0], [85.0, 0.0, 129.0, 0.0, 60.0, 0.0, 306000.0, 1.2, 132.0, 1.0, 1.0, 90.0, 1.0], [55.0, 0.0, 60.0, 0.0, 35.0, 0.0, 228000.0, 1.2, 135.0, 1.0, 1.0, 90.0, 0.0], [50.0, 0.0, 369.0, 1.0, 25.0, 0.0, 252000.0, 1.6, 136.0, 1.0, 0.0, 90.0, 0.0], [60.0, 1.0, 754.0, 1.0, 40.0, 1.0, 328000.0, 1.2, 126.0, 1.0, 0.0, 91.0, 0.0], [60.0, 1.0, 737.0, 0.0, 60.0, 1.0, 210000.0, 1.5, 135.0, 1.0, 1.0, 95.0, 0.0], [60.0, 0.0, 582.0, 0.0, 40.0, 0.0, 217000.0, 3.7, 134.0, 1.0, 0.0, 96.0, 1.0], [61.0, 0.0, 248.0, 0.0, 30.0, 1.0, 267000.0, 0.7, 136.0, 1.0, 1.0, 104.0, 0.0], [53.0, 1.0, 270.0, 1.0, 35.0, 0.0, 227000.0, 3.4, 145.0, 1.0, 0.0, 105.0, 0.0], [53.0, 1.0, 1808.0, 0.0, 60.0, 1.0, 249000.0, 0.7, 138.0, 1.0, 1.0, 106.0, 0.0], [60.0, 1.0, 1082.0, 1.0, 45.0, 0.0, 250000.0, 6.1, 131.0, 1.0, 0.0, 107.0, 0.0], [63.0, 0.0, 193.0, 0.0, 60.0, 1.0, 295000.0, 1.3, 145.0, 1.0, 1.0, 107.0, 0.0], [81.0, 0.0, 4540.0, 0.0, 35.0, 0.0, 231000.0, 1.18, 137.0, 1.0, 1.0, 107.0, 0.0], [75.0, 0.0, 582.0, 0.0, 40.0, 0.0, 263358.03, 1.18, 137.0, 1.0, 0.0, 107.0, 0.0], [68.0, 1.0, 646.0, 0.0, 25.0, 0.0, 305000.0, 2.1, 130.0, 1.0, 0.0, 108.0, 0.0], [50.0, 0.0, 1548.0, 0.0, 30.0, 1.0, 211000.0, 0.8, 138.0, 1.0, 0.0, 108.0, 0.0], [80.0, 0.0, 805.0, 0.0, 38.0, 0.0, 263358.03, 1.1, 134.0, 1.0, 0.0, 109.0, 1.0], [72.0, 1.0, 943.0, 0.0, 25.0, 1.0, 338000.0, 1.7, 139.0, 1.0, 1.0, 111.0, 1.0], [50.0, 0.0, 185.0, 0.0, 30.0, 0.0, 266000.0, 0.7, 141.0, 1.0, 1.0, 112.0, 0.0], [52.0, 0.0, 132.0, 0.0, 30.0, 0.0, 218000.0, 0.7, 136.0, 1.0, 1.0, 112.0, 0.0], [64.0, 0.0, 1610.0, 0.0, 60.0, 0.0, 242000.0, 1.0, 137.0, 1.0, 0.0, 113.0, 0.0], [75.0, 1.0, 582.0, 0.0, 30.0, 0.0, 225000.0, 1.83, 134.0, 1.0, 0.0, 113.0, 1.0], [60.0, 0.0, 2261.0, 0.0, 35.0, 1.0, 228000.0, 0.9, 136.0, 1.0, 0.0, 115.0, 0.0], [62.0, 0.0, 30.0, 1.0, 60.0, 1.0, 244000.0, 0.9, 139.0, 1.0, 0.0, 117.0, 0.0], [50.0, 0.0, 115.0, 0.0, 45.0, 1.0, 184000.0, 0.9, 134.0, 1.0, 1.0, 118.0, 0.0], [50.0, 0.0, 1846.0, 1.0, 35.0, 0.0, 263358.03, 1.18, 137.0, 1.0, 1.0, 119.0, 0.0], [60.0, 1.0, 231.0, 1.0, 25.0, 0.0, 194000.0, 1.7, 140.0, 1.0, 0.0, 120.0, 0.0], [50.0, 0.0, 250.0, 0.0, 25.0, 0.0, 262000.0, 1.0, 136.0, 1.0, 1.0, 120.0, 0.0], [85.0, 1.0, 910.0, 0.0, 50.0, 0.0, 235000.0, 1.3, 134.0, 1.0, 0.0, 121.0, 0.0], [59.0, 1.0, 129.0, 0.0, 45.0, 1.0, 362000.0, 1.1, 139.0, 1.0, 1.0, 121.0, 0.0], [66.0, 1.0, 72.0, 0.0, 40.0, 1.0, 242000.0, 1.2, 134.0, 1.0, 0.0, 121.0, 0.0], [45.0, 1.0, 130.0, 0.0, 35.0, 0.0, 174000.0, 0.8, 139.0, 1.0, 1.0, 121.0, 0.0], [63.0, 1.0, 582.0, 0.0, 40.0, 0.0, 448000.0, 0.9, 137.0, 1.0, 1.0, 123.0, 0.0], [45.0, 0.0, 2442.0, 1.0, 30.0, 0.0, 334000.0, 1.1, 139.0, 1.0, 0.0, 129.0, 1.0], [53.0, 0.0, 196.0, 0.0, 60.0, 0.0, 220000.0, 0.7, 133.0, 1.0, 1.0, 134.0, 0.0], [59.0, 0.0, 66.0, 1.0, 20.0, 0.0, 70000.0, 2.4, 134.0, 1.0, 0.0, 135.0, 1.0], [51.0, 1.0, 582.0, 1.0, 35.0, 0.0, 263358.03, 1.5, 136.0, 1.0, 1.0, 145.0, 0.0], [52.0, 0.0, 3966.0, 0.0, 40.0, 0.0, 325000.0, 0.9, 140.0, 1.0, 1.0, 146.0, 0.0], [70.0, 1.0, 171.0, 0.0, 60.0, 1.0, 176000.0, 1.1, 145.0, 1.0, 1.0, 146.0, 0.0], [50.0, 1.0, 115.0, 0.0, 20.0, 0.0, 189000.0, 0.8, 139.0, 1.0, 0.0, 146.0, 0.0], [65.0, 0.0, 198.0, 1.0, 35.0, 1.0, 281000.0, 0.9, 137.0, 1.0, 1.0, 146.0, 0.0], [60.0, 1.0, 95.0, 0.0, 60.0, 0.0, 337000.0, 1.0, 138.0, 1.0, 1.0, 146.0, 0.0], [69.0, 0.0, 1419.0, 0.0, 40.0, 0.0, 105000.0, 1.0, 135.0, 1.0, 1.0, 147.0, 0.0], [63.0, 1.0, 122.0, 1.0, 60.0, 0.0, 267000.0, 1.2, 145.0, 1.0, 0.0, 147.0, 0.0], [55.0, 0.0, 835.0, 0.0, 40.0, 0.0, 279000.0, 0.7, 140.0, 1.0, 1.0, 147.0, 0.0], [40.0, 0.0, 478.0, 1.0, 30.0, 0.0, 303000.0, 0.9, 136.0, 1.0, 0.0, 148.0, 0.0], [59.0, 1.0, 176.0, 1.0, 25.0, 0.0, 221000.0, 1.0, 136.0, 1.0, 1.0, 150.0, 1.0], [65.0, 0.0, 395.0, 1.0, 25.0, 0.0, 265000.0, 1.2, 136.0, 1.0, 1.0, 154.0, 1.0], [75.0, 0.0, 99.0, 0.0, 38.0, 1.0, 224000.0, 2.5, 134.0, 1.0, 0.0, 162.0, 1.0], [58.0, 1.0, 145.0, 0.0, 25.0, 0.0, 219000.0, 1.2, 137.0, 1.0, 1.0, 170.0, 1.0], [60.667, 1.0, 104.0, 1.0, 30.0, 0.0, 389000.0, 1.5, 136.0, 1.0, 0.0, 171.0, 1.0], [80.0, 0.0, 582.0, 1.0, 35.0, 0.0, 350000.0, 2.1, 134.0, 1.0, 0.0, 174.0, 0.0], [50.0, 1.0, 121.0, 1.0, 40.0, 0.0, 260000.0, 0.7, 130.0, 1.0, 0.0, 175.0, 0.0], [73.0, 1.0, 231.0, 1.0, 30.0, 0.0, 160000.0, 1.18, 142.0, 1.0, 1.0, 180.0, 0.0], [45.0, 0.0, 582.0, 0.0, 20.0, 1.0, 126000.0, 1.6, 135.0, 1.0, 0.0, 180.0, 1.0], [77.0, 1.0, 418.0, 0.0, 45.0, 0.0, 223000.0, 1.8, 145.0, 1.0, 0.0, 180.0, 1.0], [60.0, 0.0, 1211.0, 1.0, 35.0, 0.0, 263358.03, 1.8, 113.0, 1.0, 1.0, 186.0, 0.0], [63.0, 1.0, 1767.0, 0.0, 45.0, 0.0, 73000.0, 0.7, 137.0, 1.0, 0.0, 186.0, 0.0], [45.0, 0.0, 308.0, 1.0, 60.0, 1.0, 377000.0, 1.0, 136.0, 1.0, 0.0, 186.0, 0.0], [70.0, 0.0, 97.0, 0.0, 60.0, 1.0, 220000.0, 0.9, 138.0, 1.0, 0.0, 186.0, 0.0], [60.0, 0.0, 59.0, 0.0, 25.0, 1.0, 212000.0, 3.5, 136.0, 1.0, 1.0, 187.0, 0.0], [78.0, 1.0, 64.0, 0.0, 40.0, 0.0, 277000.0, 0.7, 137.0, 1.0, 1.0, 187.0, 0.0], [85.0, 0.0, 212.0, 0.0, 38.0, 0.0, 186000.0, 0.9, 136.0, 1.0, 0.0, 187.0, 0.0], [70.0, 0.0, 212.0, 1.0, 17.0, 1.0, 389000.0, 1.0, 136.0, 1.0, 1.0, 188.0, 0.0], [50.0, 0.0, 582.0, 0.0, 62.0, 1.0, 147000.0, 0.8, 140.0, 1.0, 1.0, 192.0, 0.0], [78.0, 0.0, 224.0, 0.0, 50.0, 0.0, 481000.0, 1.4, 138.0, 1.0, 1.0, 192.0, 0.0], [65.0, 1.0, 135.0, 0.0, 35.0, 1.0, 290000.0, 0.8, 134.0, 1.0, 0.0, 194.0, 0.0], [73.0, 0.0, 582.0, 0.0, 35.0, 1.0, 203000.0, 1.3, 134.0, 1.0, 0.0, 195.0, 0.0], [68.0, 1.0, 1021.0, 1.0, 35.0, 0.0, 271000.0, 1.1, 134.0, 1.0, 0.0, 197.0, 0.0], [73.0, 0.0, 582.0, 0.0, 20.0, 0.0, 263358.03, 1.83, 134.0, 1.0, 0.0, 198.0, 1.0], [65.0, 0.0, 118.0, 0.0, 50.0, 0.0, 194000.0, 1.1, 145.0, 1.0, 1.0, 200.0, 0.0], [42.0, 1.0, 86.0, 0.0, 35.0, 0.0, 365000.0, 1.1, 139.0, 1.0, 1.0, 201.0, 0.0], [47.0, 0.0, 582.0, 0.0, 25.0, 0.0, 130000.0, 0.8, 134.0, 1.0, 0.0, 201.0, 0.0], [58.0, 0.0, 582.0, 1.0, 25.0, 0.0, 504000.0, 1.0, 138.0, 1.0, 0.0, 205.0, 0.0], [58.0, 1.0, 57.0, 0.0, 25.0, 0.0, 189000.0, 1.3, 132.0, 1.0, 1.0, 205.0, 0.0], [55.0, 1.0, 2794.0, 0.0, 35.0, 1.0, 141000.0, 1.0, 140.0, 1.0, 0.0, 206.0, 0.0], [70.0, 0.0, 93.0, 0.0, 35.0, 0.0, 185000.0, 1.1, 134.0, 1.0, 1.0, 208.0, 0.0], [40.0, 1.0, 129.0, 0.0, 35.0, 0.0, 255000.0, 0.9, 137.0, 1.0, 0.0, 209.0, 0.0], [53.0, 1.0, 707.0, 0.0, 38.0, 0.0, 330000.0, 1.4, 137.0, 1.0, 1.0, 209.0, 0.0], [53.0, 1.0, 582.0, 0.0, 45.0, 0.0, 305000.0, 1.1, 137.0, 1.0, 1.0, 209.0, 0.0], [77.0, 1.0, 109.0, 0.0, 50.0, 1.0, 406000.0, 1.1, 137.0, 1.0, 0.0, 209.0, 0.0], [75.0, 0.0, 119.0, 0.0, 50.0, 1.0, 248000.0, 1.1, 148.0, 1.0, 0.0, 209.0, 0.0], [70.0, 0.0, 232.0, 0.0, 30.0, 0.0, 173000.0, 1.2, 132.0, 1.0, 0.0, 210.0, 0.0], [55.0, 1.0, 180.0, 0.0, 45.0, 0.0, 263358.03, 1.18, 137.0, 1.0, 1.0, 211.0, 0.0], [65.0, 0.0, 582.0, 1.0, 30.0, 0.0, 249000.0, 1.3, 136.0, 1.0, 1.0, 212.0, 0.0], [40.0, 0.0, 90.0, 0.0, 35.0, 0.0, 255000.0, 1.1, 136.0, 1.0, 1.0, 212.0, 0.0], [54.0, 0.0, 582.0, 1.0, 38.0, 0.0, 264000.0, 1.8, 134.0, 1.0, 0.0, 213.0, 0.0], [61.0, 1.0, 80.0, 1.0, 38.0, 0.0, 282000.0, 1.4, 137.0, 1.0, 0.0, 213.0, 0.0], [55.0, 0.0, 2017.0, 0.0, 25.0, 0.0, 314000.0, 1.1, 138.0, 1.0, 0.0, 214.0, 1.0], [64.0, 0.0, 143.0, 0.0, 25.0, 0.0, 246000.0, 2.4, 135.0, 1.0, 0.0, 214.0, 0.0], [40.0, 0.0, 624.0, 0.0, 35.0, 0.0, 301000.0, 1.0, 142.0, 1.0, 1.0, 214.0, 0.0], [50.0, 0.0, 245.0, 0.0, 45.0, 1.0, 274000.0, 1.0, 133.0, 1.0, 0.0, 215.0, 0.0], [53.0, 1.0, 446.0, 0.0, 60.0, 1.0, 263358.03, 1.0, 139.0, 1.0, 0.0, 215.0, 0.0], [52.0, 1.0, 191.0, 1.0, 30.0, 1.0, 334000.0, 1.0, 142.0, 1.0, 1.0, 216.0, 0.0], [58.0, 0.0, 132.0, 1.0, 38.0, 1.0, 253000.0, 1.0, 139.0, 1.0, 0.0, 230.0, 0.0], [45.0, 1.0, 66.0, 1.0, 25.0, 0.0, 233000.0, 0.8, 135.0, 1.0, 0.0, 230.0, 0.0], [53.0, 0.0, 56.0, 0.0, 50.0, 0.0, 308000.0, 0.7, 135.0, 1.0, 1.0, 231.0, 0.0], [55.0, 0.0, 66.0, 0.0, 40.0, 0.0, 203000.0, 1.0, 138.0, 1.0, 0.0, 233.0, 0.0], [65.0, 1.0, 258.0, 1.0, 25.0, 0.0, 198000.0, 1.4, 129.0, 1.0, 0.0, 235.0, 1.0], [61.0, 0.0, 582.0, 1.0, 38.0, 0.0, 147000.0, 1.2, 141.0, 1.0, 0.0, 237.0, 0.0], [50.0, 1.0, 298.0, 0.0, 35.0, 0.0, 362000.0, 0.9, 140.0, 1.0, 1.0, 240.0, 0.0], [55.0, 0.0, 1199.0, 0.0, 20.0, 0.0, 263358.03, 1.83, 134.0, 1.0, 1.0, 241.0, 1.0], [56.0, 1.0, 135.0, 1.0, 38.0, 0.0, 133000.0, 1.7, 140.0, 1.0, 0.0, 244.0, 0.0], [40.0, 0.0, 582.0, 1.0, 35.0, 0.0, 222000.0, 1.0, 132.0, 1.0, 0.0, 244.0, 0.0], [44.0, 0.0, 582.0, 1.0, 30.0, 1.0, 263358.03, 1.6, 130.0, 1.0, 1.0, 244.0, 0.0], [42.0, 0.0, 64.0, 0.0, 40.0, 0.0, 189000.0, 0.7, 140.0, 1.0, 0.0, 245.0, 0.0], [60.0, 1.0, 257.0, 1.0, 30.0, 0.0, 150000.0, 1.0, 137.0, 1.0, 1.0, 245.0, 0.0], [70.0, 0.0, 582.0, 1.0, 38.0, 0.0, 25100.0, 1.1, 140.0, 1.0, 0.0, 246.0, 0.0], [70.0, 0.0, 2695.0, 1.0, 40.0, 0.0, 241000.0, 1.0, 137.0, 1.0, 0.0, 247.0, 0.0], [70.0, 0.0, 582.0, 0.0, 40.0, 0.0, 51000.0, 2.7, 136.0, 1.0, 1.0, 250.0, 0.0], [42.0, 0.0, 64.0, 0.0, 30.0, 0.0, 215000.0, 3.8, 128.0, 1.0, 1.0, 250.0, 0.0], [65.0, 0.0, 1688.0, 0.0, 38.0, 0.0, 263358.03, 1.1, 138.0, 1.0, 1.0, 250.0, 0.0], [50.0, 1.0, 54.0, 0.0, 40.0, 0.0, 279000.0, 0.8, 141.0, 1.0, 0.0, 250.0, 0.0], [55.0, 1.0, 170.0, 1.0, 40.0, 0.0, 336000.0, 1.2, 135.0, 1.0, 0.0, 250.0, 0.0], [60.0, 0.0, 253.0, 0.0, 35.0, 0.0, 279000.0, 1.7, 140.0, 1.0, 0.0, 250.0, 0.0], [60.0, 0.0, 320.0, 0.0, 35.0, 0.0, 133000.0, 1.4, 139.0, 1.0, 0.0, 258.0, 0.0], [52.0, 0.0, 190.0, 1.0, 38.0, 0.0, 382000.0, 1.0, 140.0, 1.0, 1.0, 258.0, 0.0], [63.0, 1.0, 103.0, 1.0, 35.0, 0.0, 179000.0, 0.9, 136.0, 1.0, 1.0, 270.0, 0.0], [62.0, 0.0, 61.0, 1.0, 38.0, 1.0, 155000.0, 1.1, 143.0, 1.0, 1.0, 270.0, 0.0], [45.0, 0.0, 2413.0, 0.0, 38.0, 0.0, 140000.0, 1.4, 140.0, 1.0, 1.0, 280.0, 0.0], [50.0, 0.0, 196.0, 0.0, 45.0, 0.0, 395000.0, 1.6, 136.0, 1.0, 1.0, 285.0, 0.0]], \"fillcolor\": \"rgba(255,255,255,0)\", \"hoverlabel\": {\"namelength\": 0}, \"hoveron\": \"points\", \"hovertemplate\": \"sex=%{customdata[9]}<br>DEATH_EVENT=%{customdata[12]}<br>age=%{customdata[0]}<br>anaemia=%{customdata[1]}<br>creatinine_phosphokinase=%{customdata[2]}<br>diabetes=%{customdata[3]}<br>ejection_fraction=%{customdata[4]}<br>high_blood_pressure=%{customdata[5]}<br>platelets=%{customdata[6]}<br>serum_creatinine=%{customdata[7]}<br>serum_sodium=%{customdata[8]}<br>smoking=%{customdata[10]}<br>time=%{customdata[11]}\", \"jitter\": 0, \"legendgroup\": \"sex=1\", \"line\": {\"color\": \"rgba(255,255,255,0)\"}, \"marker\": {\"color\": \"#636efa\", \"symbol\": \"line-ns-open\"}, \"name\": \"sex=1\", \"offsetgroup\": \"sex=1\", \"showlegend\": false, \"type\": \"box\", \"x\": [1, 1, 1, 1, 1, 1, 1, 1, 1, 1, 1, 1, 1, 1, 1, 1, 0, 1, 1, 1, 1, 1, 1, 1, 1, 1, 0, 1, 1, 0, 1, 1, 1, 1, 1, 1, 0, 0, 1, 1, 1, 0, 1, 1, 1, 1, 0, 0, 1, 0, 1, 1, 0, 0, 0, 0, 0, 0, 0, 0, 0, 0, 0, 1, 0, 0, 0, 0, 0, 0, 0, 0, 0, 0, 1, 0, 0, 0, 0, 1, 0, 0, 0, 0, 0, 0, 0, 0, 0, 1, 1, 0, 0, 0, 1, 0, 0, 0, 0, 0, 0, 0, 0, 0, 0, 0, 1, 0, 1, 0, 0, 0, 0, 0, 0, 0, 0, 0, 0, 1, 1, 1, 1, 1, 0, 0, 0, 1, 1, 0, 0, 0, 0, 0, 0, 0, 0, 0, 0, 0, 0, 0, 1, 0, 0, 0, 0, 0, 0, 0, 0, 0, 0, 0, 0, 0, 0, 0, 0, 0, 0, 1, 0, 0, 0, 0, 0, 0, 0, 0, 0, 1, 0, 0, 1, 0, 0, 0, 0, 0, 0, 0, 0, 0, 0, 0, 0, 0, 0, 0, 0, 0, 0, 0], \"xaxis\": \"x2\", \"yaxis\": \"y2\"}, {\"alignmentgroup\": \"True\", \"bingroup\": \"x\", \"hoverlabel\": {\"namelength\": 0}, \"hovertemplate\": \"sex=0<br>DEATH_EVENT=%{x}<br>count of age=%{y}\", \"legendgroup\": \"sex=0\", \"marker\": {\"color\": \"#EF553B\"}, \"name\": \"sex=0\", \"offsetgroup\": \"sex=0\", \"orientation\": \"v\", \"showlegend\": true, \"type\": \"histogram\", \"x\": [1, 1, 0, 1, 1, 0, 1, 1, 1, 1, 0, 1, 1, 1, 1, 1, 1, 1, 1, 1, 1, 0, 1, 1, 0, 0, 0, 1, 1, 0, 0, 0, 0, 0, 0, 1, 1, 0, 0, 0, 0, 1, 0, 0, 0, 0, 1, 0, 0, 0, 0, 0, 0, 0, 1, 0, 0, 1, 1, 0, 0, 0, 1, 1, 0, 0, 0, 0, 0, 0, 0, 0, 0, 0, 1, 0, 1, 0, 0, 0, 0, 1, 0, 0, 0, 0, 0, 0, 0, 0, 0, 0, 0, 0, 0, 0, 0, 0, 0, 0, 0, 0, 0, 0, 0], \"xaxis\": \"x\", \"y\": [65.0, 65.0, 49.0, 70.0, 48.0, 65.0, 65.0, 75.0, 95.0, 50.0, 50.0, 82.0, 60.0, 50.0, 60.0, 57.0, 53.0, 60.0, 70.0, 60.0, 50.0, 45.0, 42.0, 70.0, 70.0, 55.0, 70.0, 60.0, 59.0, 42.0, 58.0, 70.0, 60.0, 63.0, 60.0, 72.0, 70.0, 58.0, 60.0, 85.0, 65.0, 86.0, 66.0, 60.0, 60.0, 43.0, 46.0, 58.0, 46.0, 65.0, 62.0, 46.0, 50.0, 61.0, 72.0, 65.0, 52.0, 50.0, 80.0, 65.0, 70.0, 49.0, 50.0, 60.0, 60.667, 40.0, 64.0, 45.0, 65.0, 50.0, 50.0, 40.0, 60.0, 49.0, 48.0, 70.0, 54.0, 55.0, 75.0, 65.0, 72.0, 60.0, 65.0, 70.0, 73.0, 53.0, 50.0, 55.0, 70.0, 65.0, 62.0, 68.0, 45.0, 51.0, 67.0, 45.0, 70.0, 50.0, 55.0, 45.0, 65.0, 90.0, 45.0, 55.0, 45.0], \"yaxis\": \"y\"}, {\"alignmentgroup\": \"True\", \"boxpoints\": \"all\", \"customdata\": [[65.0, 1.0, 160.0, 1.0, 20.0, 0.0, 327000.0, 2.7, 116.0, 0.0, 0.0, 8.0, 1.0], [65.0, 0.0, 157.0, 0.0, 65.0, 0.0, 263358.03, 1.5, 138.0, 0.0, 0.0, 10.0, 1.0], [49.0, 1.0, 80.0, 0.0, 30.0, 1.0, 427000.0, 1.0, 138.0, 0.0, 0.0, 12.0, 0.0], [70.0, 1.0, 125.0, 0.0, 25.0, 1.0, 237000.0, 1.0, 140.0, 0.0, 0.0, 15.0, 1.0], [48.0, 1.0, 582.0, 1.0, 55.0, 0.0, 87000.0, 1.9, 121.0, 0.0, 0.0, 15.0, 1.0], [65.0, 1.0, 52.0, 0.0, 25.0, 1.0, 276000.0, 1.3, 137.0, 0.0, 0.0, 16.0, 0.0], [65.0, 1.0, 128.0, 1.0, 30.0, 1.0, 297000.0, 1.6, 136.0, 0.0, 0.0, 20.0, 1.0], [75.0, 0.0, 582.0, 1.0, 30.0, 1.0, 263358.03, 1.83, 134.0, 0.0, 0.0, 23.0, 1.0], [95.0, 1.0, 112.0, 0.0, 40.0, 1.0, 196000.0, 1.0, 138.0, 0.0, 0.0, 24.0, 1.0], [50.0, 1.0, 249.0, 1.0, 35.0, 1.0, 319000.0, 1.0, 128.0, 0.0, 0.0, 28.0, 1.0], [50.0, 1.0, 159.0, 1.0, 30.0, 0.0, 302000.0, 1.2, 138.0, 0.0, 0.0, 29.0, 0.0], [82.0, 1.0, 855.0, 1.0, 50.0, 1.0, 321000.0, 1.0, 145.0, 0.0, 0.0, 30.0, 1.0], [60.0, 0.0, 235.0, 1.0, 38.0, 0.0, 329000.0, 3.0, 142.0, 0.0, 0.0, 30.0, 1.0], [50.0, 0.0, 124.0, 1.0, 30.0, 1.0, 153000.0, 1.2, 136.0, 0.0, 1.0, 32.0, 1.0], [60.0, 1.0, 588.0, 1.0, 60.0, 0.0, 194000.0, 1.1, 142.0, 0.0, 0.0, 33.0, 1.0], [57.0, 1.0, 129.0, 0.0, 30.0, 0.0, 395000.0, 1.0, 140.0, 0.0, 0.0, 42.0, 1.0], [53.0, 1.0, 91.0, 0.0, 20.0, 1.0, 418000.0, 1.4, 139.0, 0.0, 0.0, 43.0, 1.0], [60.0, 0.0, 3964.0, 1.0, 62.0, 0.0, 263358.03, 6.8, 146.0, 0.0, 0.0, 43.0, 1.0], [70.0, 1.0, 69.0, 1.0, 50.0, 1.0, 351000.0, 1.0, 134.0, 0.0, 0.0, 44.0, 1.0], [60.0, 1.0, 260.0, 1.0, 38.0, 0.0, 255000.0, 2.2, 132.0, 0.0, 1.0, 45.0, 1.0], [50.0, 0.0, 318.0, 0.0, 40.0, 1.0, 216000.0, 2.3, 131.0, 0.0, 0.0, 60.0, 1.0], [45.0, 0.0, 582.0, 0.0, 80.0, 0.0, 263358.03, 1.18, 137.0, 0.0, 0.0, 63.0, 0.0], [42.0, 1.0, 250.0, 1.0, 15.0, 0.0, 213000.0, 1.3, 136.0, 0.0, 0.0, 65.0, 1.0], [70.0, 0.0, 161.0, 0.0, 25.0, 0.0, 244000.0, 1.2, 142.0, 0.0, 0.0, 66.0, 1.0], [70.0, 0.0, 92.0, 0.0, 60.0, 1.0, 317000.0, 0.8, 140.0, 0.0, 1.0, 74.0, 0.0], [55.0, 0.0, 336.0, 0.0, 45.0, 1.0, 324000.0, 0.9, 140.0, 0.0, 0.0, 74.0, 0.0], [70.0, 0.0, 69.0, 0.0, 40.0, 0.0, 293000.0, 1.7, 136.0, 0.0, 0.0, 75.0, 0.0], [60.0, 1.0, 76.0, 1.0, 25.0, 0.0, 196000.0, 2.5, 132.0, 0.0, 0.0, 77.0, 1.0], [59.0, 1.0, 280.0, 1.0, 25.0, 1.0, 302000.0, 1.0, 141.0, 0.0, 0.0, 78.0, 1.0], [42.0, 0.0, 582.0, 0.0, 60.0, 0.0, 263358.03, 1.18, 137.0, 0.0, 0.0, 82.0, 0.0], [58.0, 0.0, 144.0, 1.0, 38.0, 1.0, 327000.0, 0.7, 142.0, 0.0, 0.0, 83.0, 0.0], [70.0, 1.0, 59.0, 0.0, 60.0, 0.0, 255000.0, 1.1, 136.0, 0.0, 0.0, 85.0, 0.0], [60.0, 1.0, 156.0, 1.0, 25.0, 1.0, 318000.0, 1.2, 137.0, 0.0, 0.0, 85.0, 0.0], [63.0, 1.0, 61.0, 1.0, 40.0, 0.0, 221000.0, 1.1, 140.0, 0.0, 0.0, 86.0, 0.0], [60.0, 0.0, 53.0, 0.0, 50.0, 1.0, 286000.0, 2.3, 143.0, 0.0, 0.0, 87.0, 0.0], [72.0, 1.0, 328.0, 0.0, 30.0, 1.0, 621000.0, 1.7, 138.0, 0.0, 1.0, 88.0, 1.0], [70.0, 1.0, 143.0, 0.0, 60.0, 0.0, 351000.0, 1.3, 137.0, 0.0, 0.0, 90.0, 1.0], [58.0, 1.0, 400.0, 0.0, 40.0, 0.0, 164000.0, 1.0, 139.0, 0.0, 0.0, 91.0, 0.0], [60.0, 1.0, 96.0, 1.0, 60.0, 1.0, 271000.0, 0.7, 136.0, 0.0, 0.0, 94.0, 0.0], [85.0, 1.0, 102.0, 0.0, 60.0, 0.0, 507000.0, 3.2, 138.0, 0.0, 0.0, 94.0, 0.0], [65.0, 1.0, 113.0, 1.0, 60.0, 1.0, 203000.0, 0.9, 140.0, 0.0, 0.0, 94.0, 0.0], [86.0, 0.0, 582.0, 0.0, 38.0, 0.0, 263358.03, 1.83, 134.0, 0.0, 0.0, 95.0, 1.0], [66.0, 1.0, 68.0, 1.0, 38.0, 1.0, 162000.0, 1.0, 136.0, 0.0, 0.0, 95.0, 0.0], [60.0, 0.0, 96.0, 1.0, 38.0, 0.0, 228000.0, 0.75, 140.0, 0.0, 0.0, 95.0, 0.0], [60.0, 1.0, 582.0, 0.0, 30.0, 1.0, 127000.0, 0.9, 145.0, 0.0, 0.0, 95.0, 0.0], [43.0, 1.0, 358.0, 0.0, 50.0, 0.0, 237000.0, 1.3, 135.0, 0.0, 0.0, 97.0, 0.0], [46.0, 0.0, 168.0, 1.0, 17.0, 1.0, 271000.0, 2.1, 124.0, 0.0, 0.0, 100.0, 1.0], [58.0, 1.0, 200.0, 1.0, 60.0, 0.0, 300000.0, 0.8, 137.0, 0.0, 0.0, 104.0, 0.0], [46.0, 0.0, 719.0, 0.0, 40.0, 1.0, 263358.03, 1.18, 137.0, 0.0, 0.0, 107.0, 0.0], [65.0, 1.0, 59.0, 1.0, 60.0, 0.0, 172000.0, 0.9, 137.0, 0.0, 0.0, 107.0, 0.0], [62.0, 0.0, 281.0, 1.0, 35.0, 0.0, 221000.0, 1.0, 136.0, 0.0, 0.0, 108.0, 0.0], [46.0, 1.0, 291.0, 0.0, 35.0, 0.0, 348000.0, 0.9, 140.0, 0.0, 0.0, 109.0, 0.0], [50.0, 0.0, 482.0, 1.0, 30.0, 0.0, 329000.0, 0.9, 132.0, 0.0, 0.0, 109.0, 0.0], [61.0, 1.0, 84.0, 0.0, 40.0, 1.0, 229000.0, 0.9, 141.0, 0.0, 0.0, 110.0, 0.0], [72.0, 0.0, 233.0, 0.0, 45.0, 1.0, 235000.0, 2.5, 135.0, 0.0, 0.0, 115.0, 1.0], [65.0, 1.0, 335.0, 0.0, 35.0, 1.0, 235000.0, 0.8, 136.0, 0.0, 0.0, 120.0, 0.0], [52.0, 1.0, 58.0, 0.0, 35.0, 0.0, 277000.0, 1.4, 136.0, 0.0, 0.0, 120.0, 0.0], [50.0, 1.0, 2334.0, 1.0, 35.0, 0.0, 75000.0, 0.9, 142.0, 0.0, 0.0, 126.0, 1.0], [80.0, 0.0, 776.0, 1.0, 38.0, 1.0, 192000.0, 1.3, 135.0, 0.0, 0.0, 130.0, 1.0], [65.0, 0.0, 582.0, 1.0, 40.0, 0.0, 270000.0, 1.0, 138.0, 0.0, 0.0, 140.0, 0.0], [70.0, 0.0, 835.0, 0.0, 35.0, 1.0, 305000.0, 0.8, 133.0, 0.0, 0.0, 145.0, 0.0], [49.0, 1.0, 69.0, 0.0, 50.0, 0.0, 132000.0, 1.0, 140.0, 0.0, 0.0, 147.0, 0.0], [50.0, 0.0, 582.0, 0.0, 50.0, 0.0, 153000.0, 0.6, 134.0, 0.0, 0.0, 172.0, 1.0], [60.0, 0.0, 1896.0, 1.0, 25.0, 0.0, 365000.0, 2.1, 144.0, 0.0, 0.0, 172.0, 1.0], [60.667, 1.0, 151.0, 1.0, 40.0, 1.0, 201000.0, 1.0, 136.0, 0.0, 0.0, 172.0, 0.0], [40.0, 0.0, 244.0, 0.0, 45.0, 1.0, 275000.0, 0.9, 140.0, 0.0, 0.0, 174.0, 0.0], [64.0, 1.0, 62.0, 0.0, 60.0, 0.0, 309000.0, 1.5, 135.0, 0.0, 0.0, 174.0, 0.0], [45.0, 0.0, 582.0, 1.0, 38.0, 1.0, 263358.03, 1.18, 137.0, 0.0, 0.0, 185.0, 0.0], [65.0, 0.0, 167.0, 0.0, 30.0, 0.0, 259000.0, 0.8, 138.0, 0.0, 0.0, 186.0, 0.0], [50.0, 1.0, 582.0, 1.0, 20.0, 1.0, 279000.0, 1.0, 134.0, 0.0, 0.0, 186.0, 0.0], [50.0, 1.0, 167.0, 1.0, 45.0, 0.0, 362000.0, 1.0, 136.0, 0.0, 0.0, 187.0, 0.0], [40.0, 1.0, 101.0, 0.0, 40.0, 0.0, 226000.0, 0.8, 141.0, 0.0, 0.0, 187.0, 0.0], [60.0, 1.0, 2281.0, 1.0, 40.0, 0.0, 283000.0, 1.0, 141.0, 0.0, 0.0, 187.0, 0.0], [49.0, 0.0, 972.0, 1.0, 35.0, 1.0, 268000.0, 0.8, 130.0, 0.0, 0.0, 187.0, 0.0], [48.0, 1.0, 131.0, 1.0, 30.0, 1.0, 244000.0, 1.6, 130.0, 0.0, 0.0, 193.0, 1.0], [70.0, 0.0, 1202.0, 0.0, 50.0, 1.0, 358000.0, 0.9, 141.0, 0.0, 0.0, 196.0, 0.0], [54.0, 1.0, 427.0, 0.0, 70.0, 1.0, 151000.0, 9.0, 137.0, 0.0, 0.0, 196.0, 1.0], [55.0, 0.0, 582.0, 1.0, 35.0, 1.0, 371000.0, 0.7, 140.0, 0.0, 0.0, 197.0, 0.0], [75.0, 0.0, 675.0, 1.0, 60.0, 0.0, 265000.0, 1.4, 125.0, 0.0, 0.0, 205.0, 0.0], [65.0, 0.0, 56.0, 0.0, 25.0, 0.0, 237000.0, 5.0, 130.0, 0.0, 0.0, 207.0, 0.0], [72.0, 0.0, 211.0, 0.0, 25.0, 0.0, 274000.0, 1.2, 134.0, 0.0, 0.0, 207.0, 0.0], [60.0, 0.0, 166.0, 0.0, 30.0, 0.0, 62000.0, 1.7, 127.0, 0.0, 0.0, 207.0, 1.0], [65.0, 1.0, 720.0, 1.0, 40.0, 0.0, 257000.0, 1.0, 136.0, 0.0, 0.0, 210.0, 0.0], [70.0, 0.0, 81.0, 1.0, 35.0, 1.0, 533000.0, 1.3, 139.0, 0.0, 0.0, 212.0, 0.0], [73.0, 1.0, 1185.0, 0.0, 40.0, 1.0, 220000.0, 0.9, 141.0, 0.0, 0.0, 213.0, 0.0], [53.0, 0.0, 207.0, 1.0, 40.0, 0.0, 223000.0, 1.2, 130.0, 0.0, 0.0, 214.0, 0.0], [50.0, 0.0, 2522.0, 0.0, 30.0, 1.0, 404000.0, 0.5, 139.0, 0.0, 0.0, 214.0, 0.0], [55.0, 0.0, 572.0, 1.0, 35.0, 0.0, 231000.0, 0.8, 143.0, 0.0, 0.0, 215.0, 0.0], [70.0, 0.0, 88.0, 1.0, 35.0, 1.0, 236000.0, 1.2, 132.0, 0.0, 0.0, 215.0, 0.0], [65.0, 0.0, 326.0, 0.0, 38.0, 0.0, 294000.0, 1.7, 139.0, 0.0, 0.0, 220.0, 0.0], [62.0, 1.0, 655.0, 0.0, 40.0, 0.0, 283000.0, 0.7, 133.0, 0.0, 0.0, 233.0, 0.0], [68.0, 1.0, 157.0, 1.0, 60.0, 0.0, 208000.0, 1.0, 140.0, 0.0, 0.0, 237.0, 0.0], [45.0, 0.0, 582.0, 1.0, 38.0, 0.0, 302000.0, 0.9, 140.0, 0.0, 0.0, 244.0, 0.0], [51.0, 0.0, 582.0, 1.0, 40.0, 0.0, 221000.0, 0.9, 134.0, 0.0, 0.0, 244.0, 0.0], [67.0, 0.0, 213.0, 0.0, 38.0, 0.0, 215000.0, 1.2, 133.0, 0.0, 0.0, 245.0, 0.0], [45.0, 0.0, 582.0, 0.0, 38.0, 1.0, 422000.0, 0.8, 137.0, 0.0, 0.0, 245.0, 0.0], [70.0, 0.0, 618.0, 0.0, 35.0, 0.0, 327000.0, 1.1, 142.0, 0.0, 0.0, 245.0, 0.0], [50.0, 1.0, 1051.0, 1.0, 30.0, 0.0, 232000.0, 0.7, 136.0, 0.0, 0.0, 246.0, 0.0], [55.0, 0.0, 84.0, 1.0, 38.0, 0.0, 451000.0, 1.3, 136.0, 0.0, 0.0, 246.0, 0.0], [45.0, 0.0, 582.0, 1.0, 55.0, 0.0, 543000.0, 1.0, 132.0, 0.0, 0.0, 250.0, 0.0], [65.0, 0.0, 892.0, 1.0, 35.0, 0.0, 263358.03, 1.1, 142.0, 0.0, 0.0, 256.0, 0.0], [90.0, 1.0, 337.0, 0.0, 38.0, 0.0, 390000.0, 0.9, 144.0, 0.0, 0.0, 256.0, 0.0], [45.0, 0.0, 615.0, 1.0, 55.0, 0.0, 222000.0, 0.8, 141.0, 0.0, 0.0, 257.0, 0.0], [55.0, 0.0, 1820.0, 0.0, 38.0, 0.0, 270000.0, 1.2, 139.0, 0.0, 0.0, 271.0, 0.0], [45.0, 0.0, 2060.0, 1.0, 60.0, 0.0, 742000.0, 0.8, 138.0, 0.0, 0.0, 278.0, 0.0]], \"fillcolor\": \"rgba(255,255,255,0)\", \"hoverlabel\": {\"namelength\": 0}, \"hoveron\": \"points\", \"hovertemplate\": \"sex=%{customdata[9]}<br>DEATH_EVENT=%{customdata[12]}<br>age=%{customdata[0]}<br>anaemia=%{customdata[1]}<br>creatinine_phosphokinase=%{customdata[2]}<br>diabetes=%{customdata[3]}<br>ejection_fraction=%{customdata[4]}<br>high_blood_pressure=%{customdata[5]}<br>platelets=%{customdata[6]}<br>serum_creatinine=%{customdata[7]}<br>serum_sodium=%{customdata[8]}<br>smoking=%{customdata[10]}<br>time=%{customdata[11]}\", \"jitter\": 0, \"legendgroup\": \"sex=0\", \"line\": {\"color\": \"rgba(255,255,255,0)\"}, \"marker\": {\"color\": \"#EF553B\", \"symbol\": \"line-ns-open\"}, \"name\": \"sex=0\", \"offsetgroup\": \"sex=0\", \"showlegend\": false, \"type\": \"box\", \"x\": [1, 1, 0, 1, 1, 0, 1, 1, 1, 1, 0, 1, 1, 1, 1, 1, 1, 1, 1, 1, 1, 0, 1, 1, 0, 0, 0, 1, 1, 0, 0, 0, 0, 0, 0, 1, 1, 0, 0, 0, 0, 1, 0, 0, 0, 0, 1, 0, 0, 0, 0, 0, 0, 0, 1, 0, 0, 1, 1, 0, 0, 0, 1, 1, 0, 0, 0, 0, 0, 0, 0, 0, 0, 0, 1, 0, 1, 0, 0, 0, 0, 1, 0, 0, 0, 0, 0, 0, 0, 0, 0, 0, 0, 0, 0, 0, 0, 0, 0, 0, 0, 0, 0, 0, 0], \"xaxis\": \"x2\", \"yaxis\": \"y2\"}],\n",
              "                        {\"barmode\": \"relative\", \"legend\": {\"tracegroupgap\": 0}, \"margin\": {\"t\": 60}, \"template\": {\"data\": {\"bar\": [{\"error_x\": {\"color\": \"#2a3f5f\"}, \"error_y\": {\"color\": \"#2a3f5f\"}, \"marker\": {\"line\": {\"color\": \"#E5ECF6\", \"width\": 0.5}}, \"type\": \"bar\"}], \"barpolar\": [{\"marker\": {\"line\": {\"color\": \"#E5ECF6\", \"width\": 0.5}}, \"type\": \"barpolar\"}], \"carpet\": [{\"aaxis\": {\"endlinecolor\": \"#2a3f5f\", \"gridcolor\": \"white\", \"linecolor\": \"white\", \"minorgridcolor\": \"white\", \"startlinecolor\": \"#2a3f5f\"}, \"baxis\": {\"endlinecolor\": \"#2a3f5f\", \"gridcolor\": \"white\", \"linecolor\": \"white\", \"minorgridcolor\": \"white\", \"startlinecolor\": \"#2a3f5f\"}, \"type\": \"carpet\"}], \"choropleth\": [{\"colorbar\": {\"outlinewidth\": 0, \"ticks\": \"\"}, \"type\": \"choropleth\"}], \"contour\": [{\"colorbar\": {\"outlinewidth\": 0, \"ticks\": \"\"}, \"colorscale\": [[0.0, \"#0d0887\"], [0.1111111111111111, \"#46039f\"], [0.2222222222222222, \"#7201a8\"], [0.3333333333333333, \"#9c179e\"], [0.4444444444444444, \"#bd3786\"], [0.5555555555555556, \"#d8576b\"], [0.6666666666666666, \"#ed7953\"], [0.7777777777777778, \"#fb9f3a\"], [0.8888888888888888, \"#fdca26\"], [1.0, \"#f0f921\"]], \"type\": \"contour\"}], \"contourcarpet\": [{\"colorbar\": {\"outlinewidth\": 0, \"ticks\": \"\"}, \"type\": \"contourcarpet\"}], \"heatmap\": [{\"colorbar\": {\"outlinewidth\": 0, \"ticks\": \"\"}, \"colorscale\": [[0.0, \"#0d0887\"], [0.1111111111111111, \"#46039f\"], [0.2222222222222222, \"#7201a8\"], [0.3333333333333333, \"#9c179e\"], [0.4444444444444444, \"#bd3786\"], [0.5555555555555556, \"#d8576b\"], [0.6666666666666666, \"#ed7953\"], [0.7777777777777778, \"#fb9f3a\"], [0.8888888888888888, \"#fdca26\"], [1.0, \"#f0f921\"]], \"type\": \"heatmap\"}], \"heatmapgl\": [{\"colorbar\": {\"outlinewidth\": 0, \"ticks\": \"\"}, \"colorscale\": [[0.0, \"#0d0887\"], [0.1111111111111111, \"#46039f\"], [0.2222222222222222, \"#7201a8\"], [0.3333333333333333, \"#9c179e\"], [0.4444444444444444, \"#bd3786\"], [0.5555555555555556, \"#d8576b\"], [0.6666666666666666, \"#ed7953\"], [0.7777777777777778, \"#fb9f3a\"], [0.8888888888888888, \"#fdca26\"], [1.0, \"#f0f921\"]], \"type\": \"heatmapgl\"}], \"histogram\": [{\"marker\": {\"colorbar\": {\"outlinewidth\": 0, \"ticks\": \"\"}}, \"type\": \"histogram\"}], \"histogram2d\": [{\"colorbar\": {\"outlinewidth\": 0, \"ticks\": \"\"}, \"colorscale\": [[0.0, \"#0d0887\"], [0.1111111111111111, \"#46039f\"], [0.2222222222222222, \"#7201a8\"], [0.3333333333333333, \"#9c179e\"], [0.4444444444444444, \"#bd3786\"], [0.5555555555555556, \"#d8576b\"], [0.6666666666666666, \"#ed7953\"], [0.7777777777777778, \"#fb9f3a\"], [0.8888888888888888, \"#fdca26\"], [1.0, \"#f0f921\"]], \"type\": \"histogram2d\"}], \"histogram2dcontour\": [{\"colorbar\": {\"outlinewidth\": 0, \"ticks\": \"\"}, \"colorscale\": [[0.0, \"#0d0887\"], [0.1111111111111111, \"#46039f\"], [0.2222222222222222, \"#7201a8\"], [0.3333333333333333, \"#9c179e\"], [0.4444444444444444, \"#bd3786\"], [0.5555555555555556, \"#d8576b\"], [0.6666666666666666, \"#ed7953\"], [0.7777777777777778, \"#fb9f3a\"], [0.8888888888888888, \"#fdca26\"], [1.0, \"#f0f921\"]], \"type\": \"histogram2dcontour\"}], \"mesh3d\": [{\"colorbar\": {\"outlinewidth\": 0, \"ticks\": \"\"}, \"type\": \"mesh3d\"}], \"parcoords\": [{\"line\": {\"colorbar\": {\"outlinewidth\": 0, \"ticks\": \"\"}}, \"type\": \"parcoords\"}], \"pie\": [{\"automargin\": true, \"type\": \"pie\"}], \"scatter\": [{\"marker\": {\"colorbar\": {\"outlinewidth\": 0, \"ticks\": \"\"}}, \"type\": \"scatter\"}], \"scatter3d\": [{\"line\": {\"colorbar\": {\"outlinewidth\": 0, \"ticks\": \"\"}}, \"marker\": {\"colorbar\": {\"outlinewidth\": 0, \"ticks\": \"\"}}, \"type\": \"scatter3d\"}], \"scattercarpet\": [{\"marker\": {\"colorbar\": {\"outlinewidth\": 0, \"ticks\": \"\"}}, \"type\": \"scattercarpet\"}], \"scattergeo\": [{\"marker\": {\"colorbar\": {\"outlinewidth\": 0, \"ticks\": \"\"}}, \"type\": \"scattergeo\"}], \"scattergl\": [{\"marker\": {\"colorbar\": {\"outlinewidth\": 0, \"ticks\": \"\"}}, \"type\": \"scattergl\"}], \"scattermapbox\": [{\"marker\": {\"colorbar\": {\"outlinewidth\": 0, \"ticks\": \"\"}}, \"type\": \"scattermapbox\"}], \"scatterpolar\": [{\"marker\": {\"colorbar\": {\"outlinewidth\": 0, \"ticks\": \"\"}}, \"type\": \"scatterpolar\"}], \"scatterpolargl\": [{\"marker\": {\"colorbar\": {\"outlinewidth\": 0, \"ticks\": \"\"}}, \"type\": \"scatterpolargl\"}], \"scatterternary\": [{\"marker\": {\"colorbar\": {\"outlinewidth\": 0, \"ticks\": \"\"}}, \"type\": \"scatterternary\"}], \"surface\": [{\"colorbar\": {\"outlinewidth\": 0, \"ticks\": \"\"}, \"colorscale\": [[0.0, \"#0d0887\"], [0.1111111111111111, \"#46039f\"], [0.2222222222222222, \"#7201a8\"], [0.3333333333333333, \"#9c179e\"], [0.4444444444444444, \"#bd3786\"], [0.5555555555555556, \"#d8576b\"], [0.6666666666666666, \"#ed7953\"], [0.7777777777777778, \"#fb9f3a\"], [0.8888888888888888, \"#fdca26\"], [1.0, \"#f0f921\"]], \"type\": \"surface\"}], \"table\": [{\"cells\": {\"fill\": {\"color\": \"#EBF0F8\"}, \"line\": {\"color\": \"white\"}}, \"header\": {\"fill\": {\"color\": \"#C8D4E3\"}, \"line\": {\"color\": \"white\"}}, \"type\": \"table\"}]}, \"layout\": {\"annotationdefaults\": {\"arrowcolor\": \"#2a3f5f\", \"arrowhead\": 0, \"arrowwidth\": 1}, \"coloraxis\": {\"colorbar\": {\"outlinewidth\": 0, \"ticks\": \"\"}}, \"colorscale\": {\"diverging\": [[0, \"#8e0152\"], [0.1, \"#c51b7d\"], [0.2, \"#de77ae\"], [0.3, \"#f1b6da\"], [0.4, \"#fde0ef\"], [0.5, \"#f7f7f7\"], [0.6, \"#e6f5d0\"], [0.7, \"#b8e186\"], [0.8, \"#7fbc41\"], [0.9, \"#4d9221\"], [1, \"#276419\"]], \"sequential\": [[0.0, \"#0d0887\"], [0.1111111111111111, \"#46039f\"], [0.2222222222222222, \"#7201a8\"], [0.3333333333333333, \"#9c179e\"], [0.4444444444444444, \"#bd3786\"], [0.5555555555555556, \"#d8576b\"], [0.6666666666666666, \"#ed7953\"], [0.7777777777777778, \"#fb9f3a\"], [0.8888888888888888, \"#fdca26\"], [1.0, \"#f0f921\"]], \"sequentialminus\": [[0.0, \"#0d0887\"], [0.1111111111111111, \"#46039f\"], [0.2222222222222222, \"#7201a8\"], [0.3333333333333333, \"#9c179e\"], [0.4444444444444444, \"#bd3786\"], [0.5555555555555556, \"#d8576b\"], [0.6666666666666666, \"#ed7953\"], [0.7777777777777778, \"#fb9f3a\"], [0.8888888888888888, \"#fdca26\"], [1.0, \"#f0f921\"]]}, \"colorway\": [\"#636efa\", \"#EF553B\", \"#00cc96\", \"#ab63fa\", \"#FFA15A\", \"#19d3f3\", \"#FF6692\", \"#B6E880\", \"#FF97FF\", \"#FECB52\"], \"font\": {\"color\": \"#2a3f5f\"}, \"geo\": {\"bgcolor\": \"white\", \"lakecolor\": \"white\", \"landcolor\": \"#E5ECF6\", \"showlakes\": true, \"showland\": true, \"subunitcolor\": \"white\"}, \"hoverlabel\": {\"align\": \"left\"}, \"hovermode\": \"closest\", \"mapbox\": {\"style\": \"light\"}, \"paper_bgcolor\": \"white\", \"plot_bgcolor\": \"#E5ECF6\", \"polar\": {\"angularaxis\": {\"gridcolor\": \"white\", \"linecolor\": \"white\", \"ticks\": \"\"}, \"bgcolor\": \"#E5ECF6\", \"radialaxis\": {\"gridcolor\": \"white\", \"linecolor\": \"white\", \"ticks\": \"\"}}, \"scene\": {\"xaxis\": {\"backgroundcolor\": \"#E5ECF6\", \"gridcolor\": \"white\", \"gridwidth\": 2, \"linecolor\": \"white\", \"showbackground\": true, \"ticks\": \"\", \"zerolinecolor\": \"white\"}, \"yaxis\": {\"backgroundcolor\": \"#E5ECF6\", \"gridcolor\": \"white\", \"gridwidth\": 2, \"linecolor\": \"white\", \"showbackground\": true, \"ticks\": \"\", \"zerolinecolor\": \"white\"}, \"zaxis\": {\"backgroundcolor\": \"#E5ECF6\", \"gridcolor\": \"white\", \"gridwidth\": 2, \"linecolor\": \"white\", \"showbackground\": true, \"ticks\": \"\", \"zerolinecolor\": \"white\"}}, \"shapedefaults\": {\"line\": {\"color\": \"#2a3f5f\"}}, \"ternary\": {\"aaxis\": {\"gridcolor\": \"white\", \"linecolor\": \"white\", \"ticks\": \"\"}, \"baxis\": {\"gridcolor\": \"white\", \"linecolor\": \"white\", \"ticks\": \"\"}, \"bgcolor\": \"#E5ECF6\", \"caxis\": {\"gridcolor\": \"white\", \"linecolor\": \"white\", \"ticks\": \"\"}}, \"title\": {\"x\": 0.05}, \"xaxis\": {\"automargin\": true, \"gridcolor\": \"white\", \"linecolor\": \"white\", \"ticks\": \"\", \"title\": {\"standoff\": 15}, \"zerolinecolor\": \"white\", \"zerolinewidth\": 2}, \"yaxis\": {\"automargin\": true, \"gridcolor\": \"white\", \"linecolor\": \"white\", \"ticks\": \"\", \"title\": {\"standoff\": 15}, \"zerolinecolor\": \"white\", \"zerolinewidth\": 2}}}, \"xaxis\": {\"anchor\": \"y\", \"domain\": [0.0, 1.0], \"title\": {\"text\": \"DEATH_EVENT\"}}, \"xaxis2\": {\"anchor\": \"y2\", \"domain\": [0.0, 1.0], \"matches\": \"x\", \"showgrid\": true, \"showticklabels\": false}, \"yaxis\": {\"anchor\": \"x\", \"domain\": [0.0, 0.7326], \"title\": {\"text\": \"count of age\"}}, \"yaxis2\": {\"anchor\": \"x2\", \"domain\": [0.7426, 1.0], \"matches\": \"y2\", \"showgrid\": false, \"showline\": false, \"showticklabels\": false, \"ticks\": \"\"}},\n",
              "                        {\"responsive\": true}\n",
              "                    ).then(function(){\n",
              "                            \n",
              "var gd = document.getElementById('34364151-a2f0-4bb5-b467-e2a5de2c8a39');\n",
              "var x = new MutationObserver(function (mutations, observer) {{\n",
              "        var display = window.getComputedStyle(gd).display;\n",
              "        if (!display || display === 'none') {{\n",
              "            console.log([gd, 'removed!']);\n",
              "            Plotly.purge(gd);\n",
              "            observer.disconnect();\n",
              "        }}\n",
              "}});\n",
              "\n",
              "// Listen for the removal of the full notebook cells\n",
              "var notebookContainer = gd.closest('#notebook-container');\n",
              "if (notebookContainer) {{\n",
              "    x.observe(notebookContainer, {childList: true});\n",
              "}}\n",
              "\n",
              "// Listen for the clearing of the current output cell\n",
              "var outputEl = gd.closest('.output');\n",
              "if (outputEl) {{\n",
              "    x.observe(outputEl, {childList: true});\n",
              "}}\n",
              "\n",
              "                        })\n",
              "                };\n",
              "                \n",
              "            </script>\n",
              "        </div>\n",
              "</body>\n",
              "</html>"
            ]
          },
          "metadata": {
            "tags": []
          }
        }
      ]
    },
    {
      "cell_type": "code",
      "metadata": {
        "id": "UJPcR_QLFhQ8"
      },
      "source": [
        ""
      ],
      "execution_count": null,
      "outputs": []
    }
  ]
}